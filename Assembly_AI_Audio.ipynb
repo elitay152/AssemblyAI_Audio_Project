{
 "cells": [
  {
   "attachments": {},
   "cell_type": "markdown",
   "metadata": {},
   "source": [
    "# Audio Transcription with Assembly AI API"
   ]
  },
  {
   "cell_type": "code",
   "execution_count": 32,
   "metadata": {},
   "outputs": [],
   "source": [
    "import requests\n",
    "import pandas as pd\n",
    "import numpy as np\n",
    "import time\n",
    "import json\n",
    "from IPython.display import Image\n",
    "\n",
    "#Visualization\n",
    "from wordcloud import WordCloud, STOPWORDS\n",
    "import plotly.express as px\n",
    "\n",
    "#Panel/hvplot (holoviz)\n",
    "import panel as pn\n",
    "pn.extension()\n",
    "import param\n",
    "import hvplot.pandas\n",
    "\n",
    "#Others\n",
    "import pickle\n",
    "from io import StringIO"
   ]
  },
  {
   "cell_type": "code",
   "execution_count": 33,
   "metadata": {},
   "outputs": [],
   "source": [
    "#need jupyter_bokeh to run panel in VSCode\n",
    "import jupyter_bokeh"
   ]
  },
  {
   "cell_type": "code",
   "execution_count": 34,
   "metadata": {},
   "outputs": [],
   "source": [
    "#importing personal AssemblyAI key\n",
    "from Lib.API_secret import API_key"
   ]
  },
  {
   "cell_type": "code",
   "execution_count": 37,
   "metadata": {},
   "outputs": [
    {
     "name": "stdout",
     "output_type": "stream",
     "text": [
      "{'id': 'ralnj7l1ul-978d-49d5-820b-136c77c719a3', 'language_model': 'assemblyai_default', 'acoustic_model': 'assemblyai_default', 'language_code': 'en_us', 'status': 'queued', 'audio_url': 'https://github.com/elitay152/AssemblyAI_Audio_Project/blob/main/286-unreasonable-f-strings.mp3?raw=True', 'text': None, 'words': None, 'utterances': None, 'confidence': None, 'audio_duration': None, 'punctuate': True, 'format_text': True, 'dual_channel': None, 'webhook_url': None, 'webhook_status_code': None, 'webhook_auth': False, 'webhook_auth_header_name': None, 'speed_boost': False, 'auto_highlights_result': None, 'auto_highlights': True, 'audio_start_from': None, 'audio_end_at': None, 'word_boost': [], 'boost_param': None, 'filter_profanity': False, 'redact_pii': False, 'redact_pii_audio': False, 'redact_pii_audio_quality': None, 'redact_pii_policies': None, 'redact_pii_sub': None, 'speaker_labels': False, 'content_safety': False, 'iab_categories': True, 'content_safety_labels': {}, 'iab_categories_result': {}, 'language_detection': False, 'custom_spelling': None, 'cluster_id': None, 'throttled': None, 'auto_chapters': True, 'summarization': False, 'summary_type': None, 'summary_model': None, 'disfluencies': False, 'sentiment_analysis': True, 'sentiment_analysis_results': None, 'chapters': None, 'entity_detection': False, 'entities': None}\n"
     ]
    }
   ],
   "source": [
    "endpoint = \"https://api.assemblyai.com/v2/transcript\"\n",
    "json = {\n",
    "    \"audio_url\": \"https://github.com/elitay152/AssemblyAI_Audio_Project/blob/main/286-unreasonable-f-strings.mp3?raw=True\",\n",
    "    \"auto_highlights\": True,\n",
    "    \"iab_categories\": True,\n",
    "    \"sentiment_analysis\": True,\n",
    "    \"auto_chapters\": True\n",
    "}\n",
    "headers = {\n",
    "    \"authorization\": API_key,\n",
    "}\n",
    "response = requests.post(endpoint, json=json, headers=headers)\n",
    "print(response.json())"
   ]
  },
  {
   "cell_type": "code",
   "execution_count": 38,
   "metadata": {},
   "outputs": [
    {
     "name": "stdout",
     "output_type": "stream",
     "text": [
      "Transcription text:  Hello, and welcome to Python Bytes, where we deliver Python news and headlines directly to your earbuds. This is episode 286, recorded May 31, 2022. I'm Michael Kennedy. And I'm Brian Akin. And this episode is brought to you by us. If you are looking to learn Python, check out all the courses over at Talk Python Training. If you want to get better with testing, check out Brian's Pytest book, second edition. Yes. Yeah. Yes, indeed. Indeed. All right, well, let's jump right into it, Brian. Okay. Actually, about the gill, I do want to talk about the gill, but I was just realizing we're at 286. I just started watching Big Bang Theory with my youngest kid, and and there's 279 episodes of them. So we have more than it went on forever, and we have more episodes than them. That's quite a milestone. I mean, you divide that by 52, that's a lot of years. We've been doing this for a while. Yeah. So python and the gill. So the gill is a thing, right? It's like something everybody knows about, I think. People know about, but not too much. So it means we can't do multiprocessing, but we can. But we can't. So what is it? And so I really like this article. So this is an article called The Python Gill Past, Present, and Future, because we have been talking about some of the no gill options that are coming. So this is really nice. Who is it? Barry Warsaw and Pavlopolowics, I think. Anyway, really great article on the Back Blaze blog. And it starts out and goes through sort of what is the gill, why we have it? It's a lot around the way in some of the history is around reference counting. And maybe you knew that off the top of your head, but I forgot that. Reference counting is something that's how we do memory management and all sorts of stuff within Python. But to make it an easy implementation, there's this global interpreter lock, and that just basically, instead of lock, like other code, you lock individual items, shared memory that you're using. We just say the interpreter. Let's just lock that and all of the variables that it uses. It's not just reference counts, but other things, too. And this is just it's a fairly quick read, but enough detail that you really kind of understand what's going on. Does talk through reference counting, talks through some of the advantages why it's really kind of handy to have it around, but then attempts to remove it. And including, like, I didn't know about this one. There was a free threading one in 99 from 90 99. Yeah, that's I didn't know about that one. Yeah, newsday. It actually was successful. It just made your Python code really slow. So not good. And then Larry Hastings Galectomy, that he's had a lot of Python talks or a few PyCon talks around this. So that's an interesting thing to read about. There's quite a few interesting bits in there, but it never really got back into main Python. But we're getting a little closer with this no gill stuff. So there's no gill stuff going on with Sam Gross. From Sam Gross? Yeah. And then also we've got Guido and others in Microsoft now working on this problem of speeding it up and everything. So really great discussion if you want to catch up on all the history of the gill and where it's going. And then a little prediction at the end of we're going to see speed ups because of these efforts, we're going to see speed ups in the next few years. It's just going to get faster. And then if we get no gill, it might be maybe five years from now. It's pretty exciting. There's some very neat work. The stuff that Simross is doing is quite interesting. Yeah. What's really cool is it's not just theory or people playing. Right. The Python 311 is a lot faster than the previous Pythons already, and it doesn't even really touch the gill side of things. So there's actual progress being made. Yeah. And it's pretty exciting. Pretty exciting time to be part of Python. It's never not been exciting, but it only gets more exciting. How's that? Yeah. Hey, let me ask you a meta question. So this is on the Back Blaze blog. So Backblaze.com is one of the, I think, better sort of backup my computer, somewhere off site sort of things. And the fact that they're blogging about the Python gill is kind of interesting. I wonder if they're a big Python shop and we just didn't know it. Well, I didn't know it's on their blog, but we've got Barry Warsaw. It's written by Barry Warsaw Powell. He says he's currently a senior engineer at LinkedIn. Yeah, I'm not sure. Sometimes life is confusing. Yeah. Not sure how this ended up there, but it's cool to see Back Blaze supported in the Python world with some dives into that. Yeah. Maybe somebody from Backslay can reach out to us and tell us what's going on. Yeah, that'd be great. Also great. Wouldn't it be cool, Brian, if we could take our Python program, whether this is a CLI or some other app that we need to have for people to run? And instead of saying, well, make sure you have this version of Python, at least to make sure you've set up a virtual environment, you've installed these things, and then you've got this in the path, and then you got this environment variable. Now you can try to run our thing I gave you. If you could just give them a single binary that contained all of Python, contained the standard library, and you said you run this and that's your app. That's not bad, right? Yeah. So let me introduce you to Pyoxy, the Pyoxy python runner. Now, a while ago, we spoke about this thing called Pyoxygen No Pioxidizer. That's what it was. Pi oxidizer. And this is kind of like an advanced version of Pi two exe or Pi to app or Pi installer. But what's really nice is that it bundles the stuff up just sort of all into one thing and it runs out of memory instead of creating a file structure of the files that you need and then sort of altering the path. So like a copy of Python will run that and so on. So this Pyoxy attempts to make the features of Pyoxidizer more accessible and simpler for people. So here's the deal. It is an executable program for running Python interpreters. So you can just give somebody this one Pyoxy file and instead of saying Python this, they can say Pyoxy some Python file, right? You can say like run Python or Run Python and give it a file or something along those lines, right? And it's just a thing you copy around. You don't have to worry about installing it or configuring your system or anything like that. So it's kind of a really easy way to pass around and executable that is Python and the standard library without all the overhead or set up of actually installing a Python runtime. Okay? Yeah. So let me go back up here. That's pretty cool. It's a single file that is a highly portable distribution of C Python. So for example, on macOS and the Linux, it statically links in a lot of the files that are dependencies that you might find. So if you try to run something in Python, it might go like oh, you have to install this other C library in order for it to work correctly. So all those things are also like its dependencies are statically compiled into it, which is pretty cool. Another thing that's interesting is it gives you a lot more control over the interpreter and how it behaves. Like you can pass it configuration files and do all sorts of crazy stuff to really tweak the behavior of the runtime, the Python Runtime that it comes with. And it's just to sort of make Pyoxidizer apps more accessible. Okay. It's built with Pi Oxidizer and basically it gives you its own standalone one. Like I said, it has the whole interpreter, it has the stuff statically linked, it has the standard library, and I think you can link your own libraries into it as well, which is pretty awesome. And you could also give it, like I said, more control. So you can create a configuration YAML file. And when you run it, you can say I want you to debug allocations or I want you to run this command to initialize the interpreter before it starts to run any code and things like that. So you can give it this YAML config file and so on. So anyway, it's a pretty new project. This is from Gregory source and he says very young, I hacked it together to try to get better exposure for Pi Oxidizer, for people who want to build things that they can distribute more easily and so on. And for me, he's talking about, oh, there's some certain circumstances where maybe you want to have people run your script so you can send the script and then this thing and so on. It's supposed to be sort of on par with zipapp, which lets you ship the zipped up thing of your app and then run it. But the benefit is it already comes with Python. Like, a lot of these zip, shiv, Pecs, et cetera, they all require that Python is installed on the system, and then you can run that right with its dependencies. But this is like, no, it even comes with Python, so all that is pretty good. What I would love to see out of this is, could I take this and build some sort of UI framework pair that, I don't know, maybe with Pi scripts, and then get a UI framework I can ship to people and just go download this, double click it, there's your app. Who knows? Yeah. But anyway, if you're shipping Python to people, this might be worth checking out. Yeah, neat. Yeah. Kim out in the audience asked, it looks very handy. Does it make cross platform executable? I think you might have to run a build command or something, or ship the right binary for each platform, but it does support Mac OS, Windows, and Linux, so that's pretty cool. Now, maybe you covered this and I just missed it. Does it deal with my dependencies? Like, if I have third party dependencies, that's what I'm not 100% sure how to do. When I looked through it, I was looking for that. There's this oxidized importer, which it talks about like this embeds a copy of the Python Standard Library, and it imports from memory using the oxidized importer. I think that you could use that as well for your own dependencies. And I'm pretty sure that's the goal of this Pi Oxidizer project in the first place, so I would think so, but nothing from this article was really clear. Like, here's how you bring in requests or httpx or whatever you're going to bring along. Yeah, okay. Or Pytest. I was actually just thinking, if I run these tests well, what version are you using? Okay, just fine. Here, just install this and run run this test with this. And that would be yeah, exactly. Yeah. Alvaro is when I was talking about UI stuff, he says, what about Pi Oxyplus textual? That'd be pretty neat as well. Yeah, just around the corner. Yeah. Cool. All right, well, nice that's Pyoxy people can check it out. All right, well, how about regular expressions? Do you like those? When they work, I love them. When they don't, I'm like, what is this madness I've gotten myself into? Okay, so I was almost afraid to talk about this, but it's a really awesome article because sometimes you need regular expressions. And one of the things there's lots that I like about this article, what I'm talking about is an article called the Unreasonable Effectiveness of F Strings and Verbose. So regular expressions and all languages, I think, including Python, have a notion of verbose mode. And I've always been enticed by this. The verbose mode idea is that you can like, instead of having this weird, you still have the hard to read regular expression stuff, but you can put comment, you can put spaces and comments in it. It could be multiline, right? What? It could be multiline. Yeah, it could be multiline. And you can have a bunch of comments in there to say, oh, this part of the regular expression, what it's doing is this. So it makes it little snippets of regular expression are easier to read. You're like, oh, yeah, I can see that it's doing that great. It's when you clog it all together, which it makes it really hard to read. And then, of course, you can build up strings in Python with F strings and do string replacement. How awesome. So that's what this article is about, is really talking about taking some of the complicated bits of your regular expression or duplicated bits, where it shows up several times in your regular expression and pulling that string out and even maybe commenting that and then dropping it in with F strings to build up a complex regular expression. It's brilliant. And it also is one of the best explanations I've ever read on verbose regular expressions. So it's pretty cool. Yeah. I never really thought to refactor the pattern so that you have multiple strings. Here's the part that's repeated. So we'll have a pattern that that's that thing and then F string it into the other pieces. Yeah. But it makes perfect sense. Of course you should do it. Yeah. And now I don't use it, actually, I kind of do. I use regular expressions on a regular basis, but not like every day. But it's always something that whenever I put it in there, I'm like, is anybody else going to be able to read this? And so I put comments around it, but I have never really embraced verbose mode, and I'm definitely going to use this now, for sure. The other thing real quick is you can have F strings and you can have raw strings, and you can have raw F strings, apparently, in Python. So the prefix is fraud. Quote multi line like that. That's some serious string action happening right there, man. Yeah. Raw f strings. Nice. Yeah. And Neil out in the audience asks you, brian, do you like your regular expressions? Greedy or non greedy? Okay. It depends on what you're trying to do. Yeah, I don't want mine to be greedy. Let's share kindly. All right, are we ready for the next one? Yes. Cool. All right. So this one I want to talk about. I'm going to start off from a weird place, from a Tweet that I gave because I can't find anywhere else to talk about it. This is why this needs talking about. So I just want to sort of highlight some really cool stuff for people who are using Pie charm and doing open source stuff that involves pull requests. And these could be pull requests to your private repo. Like one team member gave a PR back to the repo. It doesn't have to be open open source. Okay. So if you're using PyCharm, check this out. Let me pull up this screen. Come on. I'm not logged in. Oh, there we go. I thought it might not let me get the image up anyway. So check this out. So people are probably familiar with the get support in PyCharm Vs code PyCharm. They all have really good get support. You can see your changes. A lot of times you have this gray little overlay that says who recently edited a file or a line. It's really cool to go back with get lens turned on for C Python because you'll see stuff from like 30 years ago. Guido made this commit and here's the commit message. You're like what? This is crazy. Right? But working with PRS is one of the things that doesn't normally seem to fit. And so I don't know when this got in there, but not too recently. There's now a pull request tab. So if you open a GitHub repository, if you're logged in to GitHub and that GitHub repository has a pull request and you open up the section, it gives you a list of all the Open. And I guess maybe you can toggle it close as well. But all the list of the open pull request, if you click on one of them, it will show you all the details of the pull request, the whole conversation. If you click on that, who's the reviewer, you can change that, who's it assigned to, whether there's labels, whether it's been merged. Wow. And then like on the right you have this whole conversation. You can see sort of the flow. This person commented this and they made these few more changes. Then they commented again here. This is all really pretty neat. But the thing that is noteworthy, the reason I brought this up is there's a button that says Check out. So instead of trying to create a branch or fork their repo and check in, I don't know where this repo or this PR came from or what branch it was against. I just want to check it out and run it locally, run the test against it, see what it looks like. Go. Isn't that awesome? Yeah, that is really awesome. I like it. Yeah, because normally you're juggling a lot. Maybe you have CI continuous integration that tells you the Linting pass, but other times you want to actually just get it and run it and play with it and decide, did this make the code slower? Did it make it faster? Do I like how the result of this feature looks? Especially with a UI thing or something? Right? Yeah. So I think this is super cool, and the reason I bring it up is there's nowhere in the documentation. Like, if you go over to PyCharm here and you look for pull requests, they don't even mention this. Right. So I don't think people necessarily know about this stealth feature. It's a stealth feature. It seems totally worth highlighting because dealing with PRS in that way is actually kind of janky. It's like it takes a little bit of understanding, get maybe more than GitHub, more than a lot of people would off the bat. So if you just go click, check out, play with it, no, I don't want it. Or yes, I love it. I think that's great. I would still actually manage the PR and GitHub, but the ability to explore it super quick and easy within your project, I think is super cool. Yeah. And quickly grab the code, because I know in GitHub you can get it, you can clone their branch. Yeah, exactly. But it's hard. It's, like, not super easy. It's several clicks at least to find it. Right. And do you actually want to clone to your account? Maybe not. I just want to check out the code. So grab the right commit, hash shot, whatever. Also, really quick, while we're on this topic, I just want to give a quick shout out to this. So if you go to just the jetbrains.com PyCharm right now, across the top, there's this oh, here, there's this cool upcoming webinar, ten Things Can Get Things You Wish You Knew in PyCharm. Very oddly, that is me. So anyway, I'm going to do a webcast next week on June 7, about a whole bunch of get fun things in PyCharm and UI tools and whatnot. So if people want to check that out, they definitely can. Cool. Yeah. All right. So that's it for my thing, though. Check out if you're using PyCharm, check out this pull request thing. It's even in the free version of PyCharm, so it's worth noting. Nice. Let's see a really quick real time follow up. Roman, right? Hey, Roman says yes. It helps me sort out PRS so much. I totally agree. And then Wolf says, Is it available in IntelliJ and does it work with GitLab? I don't know if it works with GitLab. I'm quite sure it's available IntelliJ in IntelliJ because PyCharm is just basically specialized IntelliJ, so I'd be very surprised if it weren't available in IntelliJ, but I can't say for sure. In GitLab, I would check the documentation, but I also can't find that anyway. So on the PY term side, is there supposed to, like, some UI changes that happened recently, or do you know? Anyway, possibly one of the things that changed recently that was I actually kept stumbling into is like on the get stuff is they have little overlays of who made changes when. Kind of like that get lens from Vs code I described. They started adding that, and I kept clicking it by accident, trying to click on the line. So that's like, why does it keep popping up a diff? Oh, I see. Okay. I kind of crashed into it, but yeah. Okay. Anyway, if you're doing PRS, check this out. If you're doing PR's and you can Pijar them, check this out. It's definitely useful. All right, well, we have no guests, so that's our items for today, right? It is. Well, we would be remiss to not have extras, though. Of course. Yeah. You want to do the extras first? Your extras first? Sure. I just got one a couple of weeks ago. I think we talked about Pandas tutor switching to Piadyde, I think. So there's an article that came out on the Piadide blog that is Pandas, about Pandas tutors switching to Piadi. Piadi. Piadi. And so the reason why I bring it up is because there's some cool stuff in here. It's not just, hey, we did this, but it's also, why did we do it? And kind of walking through some of the stuff, how they did a self contained Panda's tutor wheel dealing with JavaScript and imports and all that sort of stuff, and the fine tuning and what work has to go further. So other people that are like, hey, this Python actually proof of concept. It's starting to look cool. I want to do this, too. This might be a nice thing for people to check out. Yeah, this is super nice. And I definitely think, what are the rough edges? And what worked really well. Those types of lessons for now are going to be really valuable for people trying to adopt this. Yeah, that's all my extras. Awesome. All right, well, let's just make it a straight run for Pi Iodide and Piscript right out. So last week I did two videos on Pi Script, which is based on Pyodide as well. So the first one is a 30 minutes video. I sort of hinted that I was working on this, but remember, I said it wasn't quite released yet. Brian last episode. So now you can check out a link to it. You can check out my 30 minutes Python pi Script WebAssembly. Python web apps running locally, which is super fun. It's all about not just, let's take some Python and put it in the browser, but how can you use some Pi dash config settings to override where Pi Script actually comes from? The runtime comes from so you can put that locally in your app and then download it offline and all sorts of fun stuff there. Cool. So basically building an offline progressive web app that can be almost 100% offline. This one calls an API, so it still needs this API. Anyway, that was really fun. And then the next day after releasing that, it occurred to me, do you know what supports progressive web apps? iOS and Android. So I created a second video called Python iOS Web Apps with Piscript and offline PWAs. And so here is, if you're looking at the screen on my iPad, there is a web app that runs Piscript talking to a Flas based API over the Internet. And you can go up and basically say, install this as an app on my iPad. And when you launch it, that install process already downloads the web assembly and the run the standard library and all the web assembly stuff that makes it large. So you just boom, and it opens up within less than 2 seconds. Running Python client side on iOS. That is so cool. I'm seeing lots of uses for this. I mean, people could do dashboards of pipelines and all sorts of stuff and have them be on tablets now. Yeah, absolutely. Once you've already made it a progressive web app, it's like a few button clicks. This whole video about this iOS thing with setting the stage and everything is 3 minutes. So it's not a hard process to make it happen, but it's just not obvious. And it's really cool that it works that way. Cool. Yeah. All right. Well, that's it for my items. I do have a joke. Nice. And I know you might have a joke as well. Yeah. Awesome. Okay. I'll go with mine first, because mine is easy. And then I have a bonus joke for you based on your topic that I didn't see coming. Okay. So this one comes from Brian skin. Thanks, Brian. I just sort of pointed out a joke from Seth, and it says, people are out here just dangerously throwing around sequel abstraction layers, and if we aren't careful, someone's going to lose an arm and orm. It's pretty good. Yeah, it's really good, actually. If you are careful, you can lose your arm for good. Yes. And still be all right, here's the real time joke follow up based on your reg x one. Ask me why I'm looking like this. Why? Well, that's just my regular expression. It's terrible. It's really bad. All right. I wish I had somebody in my life I could share that with other than you. Okay. If other people listen to the show, we could share with them. Okay, so there's all sorts of AI and stuff going into code editors now that make them do all sorts of stuff to help you out. Right? Right. Carmen Frog looking out a rainy window when you've barely started writing a line of code and your IDE already lets you know about three syntax errors, two runtime errors, a grammar mistake, five misdemeanors, contempt of court, and treason. Just getting started. Why is it so hard? I love it. That's really good. Anyway. Yeah, I kind of felt that way, too. I was playing on some stuff I'm just like, what? This is over the top, this thing. Yeah, but no good. I'm glad editors can help us out, but sometimes I feel like an idiot. Yes. Anyway. Indeed. Well, great being here with you. Good being here with you, indeed. Thanks, everybody, for coming. Bye, everyone. Thanks for being here. Bye. See you next time.\n"
     ]
    }
   ],
   "source": [
    "result_endpoint = endpoint + \"/\" + response.json()[\"id\"]\n",
    "headers_auth = {\n",
    "    \"authorization\": API_key,\n",
    "}\n",
    "transcript_response = requests.get(result_endpoint, headers=headers_auth)\n",
    "print(\"Transcription text: \", \n",
    "transcript_response.json()['text'])\n",
    "\n",
    "#while loop for requesting transcription\n",
    "while response.json()['status'] != 'completed':\n",
    "    response = requests.get(result_endpoint, headers=headers_auth)\n",
    "    time.sleep(3)"
   ]
  },
  {
   "cell_type": "code",
   "execution_count": 82,
   "metadata": {},
   "outputs": [
    {
     "name": "stdout",
     "output_type": "stream",
     "text": [
      "id:  ralnj7l1ul-978d-49d5-820b-136c77c719a3\n",
      "status:  completed\n",
      "text:  Hello, and welcome to Python Bytes, where we deliver Python news and headlines directly to your earbuds. This is episode 286, recorded May 31, 2022. I'm Michael Kennedy. And I'm Brian Akin. And this episode is brought to you by us. If you are looking to learn Python, check out all the courses over at Talk Python Training. If you want to get better with testing, check out Brian's Pytest book, second edition. Yes. Yeah. Yes, indeed. Indeed. All right, well, let's jump right into it, Brian. Okay. Actually, about the gill, I do want to talk about the gill, but I was just realizing we're at 286. I just started watching Big Bang Theory with my youngest kid, and and there's 279 episodes of them. So we have more than it went on forever, and we have more episodes than them. That's quite a milestone. I mean, you divide that by 52, that's a lot of years. We've been doing this for a while. Yeah. So python and the gill. So the gill is a thing, right? It's like something everybody knows about, I think. People know about, but not too much. So it means we can't do multiprocessing, but we can. But we can't. So what is it? And so I really like this article. So this is an article called The Python Gill Past, Present, and Future, because we have been talking about some of the no gill options that are coming. So this is really nice. Who is it? Barry Warsaw and Pavlopolowics, I think. Anyway, really great article on the Back Blaze blog. And it starts out and goes through sort of what is the gill, why we have it? It's a lot around the way in some of the history is around reference counting. And maybe you knew that off the top of your head, but I forgot that. Reference counting is something that's how we do memory management and all sorts of stuff within Python. But to make it an easy implementation, there's this global interpreter lock, and that just basically, instead of lock, like other code, you lock individual items, shared memory that you're using. We just say the interpreter. Let's just lock that and all of the variables that it uses. It's not just reference counts, but other things, too. And this is just it's a fairly quick read, but enough detail that you really kind of understand what's going on. Does talk through reference counting, talks through some of the advantages why it's really kind of handy to have it around, but then attempts to remove it. And including, like, I didn't know about this one. There was a free threading one in 99 from 90 99. Yeah, that's I didn't know about that one. Yeah, newsday. It actually was successful. It just made your Python code really slow. So not good. And then Larry Hastings Galectomy, that he's had a lot of Python talks or a few PyCon talks around this. So that's an interesting thing to read about. There's quite a few interesting bits in there, but it never really got back into main Python. But we're getting a little closer with this no gill stuff. So there's no gill stuff going on with Sam Gross. From Sam Gross? Yeah. And then also we've got Guido and others in Microsoft now working on this problem of speeding it up and everything. So really great discussion if you want to catch up on all the history of the gill and where it's going. And then a little prediction at the end of we're going to see speed ups because of these efforts, we're going to see speed ups in the next few years. It's just going to get faster. And then if we get no gill, it might be maybe five years from now. It's pretty exciting. There's some very neat work. The stuff that Simross is doing is quite interesting. Yeah. What's really cool is it's not just theory or people playing. Right. The Python 311 is a lot faster than the previous Pythons already, and it doesn't even really touch the gill side of things. So there's actual progress being made. Yeah. And it's pretty exciting. Pretty exciting time to be part of Python. It's never not been exciting, but it only gets more exciting. How's that? Yeah. Hey, let me ask you a meta question. So this is on the Back Blaze blog. So Backblaze.com is one of the, I think, better sort of backup my computer, somewhere off site sort of things. And the fact that they're blogging about the Python gill is kind of interesting. I wonder if they're a big Python shop and we just didn't know it. Well, I didn't know it's on their blog, but we've got Barry Warsaw. It's written by Barry Warsaw Powell. He says he's currently a senior engineer at LinkedIn. Yeah, I'm not sure. Sometimes life is confusing. Yeah. Not sure how this ended up there, but it's cool to see Back Blaze supported in the Python world with some dives into that. Yeah. Maybe somebody from Backslay can reach out to us and tell us what's going on. Yeah, that'd be great. Also great. Wouldn't it be cool, Brian, if we could take our Python program, whether this is a CLI or some other app that we need to have for people to run? And instead of saying, well, make sure you have this version of Python, at least to make sure you've set up a virtual environment, you've installed these things, and then you've got this in the path, and then you got this environment variable. Now you can try to run our thing I gave you. If you could just give them a single binary that contained all of Python, contained the standard library, and you said you run this and that's your app. That's not bad, right? Yeah. So let me introduce you to Pyoxy, the Pyoxy python runner. Now, a while ago, we spoke about this thing called Pyoxygen No Pioxidizer. That's what it was. Pi oxidizer. And this is kind of like an advanced version of Pi two exe or Pi to app or Pi installer. But what's really nice is that it bundles the stuff up just sort of all into one thing and it runs out of memory instead of creating a file structure of the files that you need and then sort of altering the path. So like a copy of Python will run that and so on. So this Pyoxy attempts to make the features of Pyoxidizer more accessible and simpler for people. So here's the deal. It is an executable program for running Python interpreters. So you can just give somebody this one Pyoxy file and instead of saying Python this, they can say Pyoxy some Python file, right? You can say like run Python or Run Python and give it a file or something along those lines, right? And it's just a thing you copy around. You don't have to worry about installing it or configuring your system or anything like that. So it's kind of a really easy way to pass around and executable that is Python and the standard library without all the overhead or set up of actually installing a Python runtime. Okay? Yeah. So let me go back up here. That's pretty cool. It's a single file that is a highly portable distribution of C Python. So for example, on macOS and the Linux, it statically links in a lot of the files that are dependencies that you might find. So if you try to run something in Python, it might go like oh, you have to install this other C library in order for it to work correctly. So all those things are also like its dependencies are statically compiled into it, which is pretty cool. Another thing that's interesting is it gives you a lot more control over the interpreter and how it behaves. Like you can pass it configuration files and do all sorts of crazy stuff to really tweak the behavior of the runtime, the Python Runtime that it comes with. And it's just to sort of make Pyoxidizer apps more accessible. Okay. It's built with Pi Oxidizer and basically it gives you its own standalone one. Like I said, it has the whole interpreter, it has the stuff statically linked, it has the standard library, and I think you can link your own libraries into it as well, which is pretty awesome. And you could also give it, like I said, more control. So you can create a configuration YAML file. And when you run it, you can say I want you to debug allocations or I want you to run this command to initialize the interpreter before it starts to run any code and things like that. So you can give it this YAML config file and so on. So anyway, it's a pretty new project. This is from Gregory source and he says very young, I hacked it together to try to get better exposure for Pi Oxidizer, for people who want to build things that they can distribute more easily and so on. And for me, he's talking about, oh, there's some certain circumstances where maybe you want to have people run your script so you can send the script and then this thing and so on. It's supposed to be sort of on par with zipapp, which lets you ship the zipped up thing of your app and then run it. But the benefit is it already comes with Python. Like, a lot of these zip, shiv, Pecs, et cetera, they all require that Python is installed on the system, and then you can run that right with its dependencies. But this is like, no, it even comes with Python, so all that is pretty good. What I would love to see out of this is, could I take this and build some sort of UI framework pair that, I don't know, maybe with Pi scripts, and then get a UI framework I can ship to people and just go download this, double click it, there's your app. Who knows? Yeah. But anyway, if you're shipping Python to people, this might be worth checking out. Yeah, neat. Yeah. Kim out in the audience asked, it looks very handy. Does it make cross platform executable? I think you might have to run a build command or something, or ship the right binary for each platform, but it does support Mac OS, Windows, and Linux, so that's pretty cool. Now, maybe you covered this and I just missed it. Does it deal with my dependencies? Like, if I have third party dependencies, that's what I'm not 100% sure how to do. When I looked through it, I was looking for that. There's this oxidized importer, which it talks about like this embeds a copy of the Python Standard Library, and it imports from memory using the oxidized importer. I think that you could use that as well for your own dependencies. And I'm pretty sure that's the goal of this Pi Oxidizer project in the first place, so I would think so, but nothing from this article was really clear. Like, here's how you bring in requests or httpx or whatever you're going to bring along. Yeah, okay. Or Pytest. I was actually just thinking, if I run these tests well, what version are you using? Okay, just fine. Here, just install this and run run this test with this. And that would be yeah, exactly. Yeah. Alvaro is when I was talking about UI stuff, he says, what about Pi Oxyplus textual? That'd be pretty neat as well. Yeah, just around the corner. Yeah. Cool. All right, well, nice that's Pyoxy people can check it out. All right, well, how about regular expressions? Do you like those? When they work, I love them. When they don't, I'm like, what is this madness I've gotten myself into? Okay, so I was almost afraid to talk about this, but it's a really awesome article because sometimes you need regular expressions. And one of the things there's lots that I like about this article, what I'm talking about is an article called the Unreasonable Effectiveness of F Strings and Verbose. So regular expressions and all languages, I think, including Python, have a notion of verbose mode. And I've always been enticed by this. The verbose mode idea is that you can like, instead of having this weird, you still have the hard to read regular expression stuff, but you can put comment, you can put spaces and comments in it. It could be multiline, right? What? It could be multiline. Yeah, it could be multiline. And you can have a bunch of comments in there to say, oh, this part of the regular expression, what it's doing is this. So it makes it little snippets of regular expression are easier to read. You're like, oh, yeah, I can see that it's doing that great. It's when you clog it all together, which it makes it really hard to read. And then, of course, you can build up strings in Python with F strings and do string replacement. How awesome. So that's what this article is about, is really talking about taking some of the complicated bits of your regular expression or duplicated bits, where it shows up several times in your regular expression and pulling that string out and even maybe commenting that and then dropping it in with F strings to build up a complex regular expression. It's brilliant. And it also is one of the best explanations I've ever read on verbose regular expressions. So it's pretty cool. Yeah. I never really thought to refactor the pattern so that you have multiple strings. Here's the part that's repeated. So we'll have a pattern that that's that thing and then F string it into the other pieces. Yeah. But it makes perfect sense. Of course you should do it. Yeah. And now I don't use it, actually, I kind of do. I use regular expressions on a regular basis, but not like every day. But it's always something that whenever I put it in there, I'm like, is anybody else going to be able to read this? And so I put comments around it, but I have never really embraced verbose mode, and I'm definitely going to use this now, for sure. The other thing real quick is you can have F strings and you can have raw strings, and you can have raw F strings, apparently, in Python. So the prefix is fraud. Quote multi line like that. That's some serious string action happening right there, man. Yeah. Raw f strings. Nice. Yeah. And Neil out in the audience asks you, brian, do you like your regular expressions? Greedy or non greedy? Okay. It depends on what you're trying to do. Yeah, I don't want mine to be greedy. Let's share kindly. All right, are we ready for the next one? Yes. Cool. All right. So this one I want to talk about. I'm going to start off from a weird place, from a Tweet that I gave because I can't find anywhere else to talk about it. This is why this needs talking about. So I just want to sort of highlight some really cool stuff for people who are using Pie charm and doing open source stuff that involves pull requests. And these could be pull requests to your private repo. Like one team member gave a PR back to the repo. It doesn't have to be open open source. Okay. So if you're using PyCharm, check this out. Let me pull up this screen. Come on. I'm not logged in. Oh, there we go. I thought it might not let me get the image up anyway. So check this out. So people are probably familiar with the get support in PyCharm Vs code PyCharm. They all have really good get support. You can see your changes. A lot of times you have this gray little overlay that says who recently edited a file or a line. It's really cool to go back with get lens turned on for C Python because you'll see stuff from like 30 years ago. Guido made this commit and here's the commit message. You're like what? This is crazy. Right? But working with PRS is one of the things that doesn't normally seem to fit. And so I don't know when this got in there, but not too recently. There's now a pull request tab. So if you open a GitHub repository, if you're logged in to GitHub and that GitHub repository has a pull request and you open up the section, it gives you a list of all the Open. And I guess maybe you can toggle it close as well. But all the list of the open pull request, if you click on one of them, it will show you all the details of the pull request, the whole conversation. If you click on that, who's the reviewer, you can change that, who's it assigned to, whether there's labels, whether it's been merged. Wow. And then like on the right you have this whole conversation. You can see sort of the flow. This person commented this and they made these few more changes. Then they commented again here. This is all really pretty neat. But the thing that is noteworthy, the reason I brought this up is there's a button that says Check out. So instead of trying to create a branch or fork their repo and check in, I don't know where this repo or this PR came from or what branch it was against. I just want to check it out and run it locally, run the test against it, see what it looks like. Go. Isn't that awesome? Yeah, that is really awesome. I like it. Yeah, because normally you're juggling a lot. Maybe you have CI continuous integration that tells you the Linting pass, but other times you want to actually just get it and run it and play with it and decide, did this make the code slower? Did it make it faster? Do I like how the result of this feature looks? Especially with a UI thing or something? Right? Yeah. So I think this is super cool, and the reason I bring it up is there's nowhere in the documentation. Like, if you go over to PyCharm here and you look for pull requests, they don't even mention this. Right. So I don't think people necessarily know about this stealth feature. It's a stealth feature. It seems totally worth highlighting because dealing with PRS in that way is actually kind of janky. It's like it takes a little bit of understanding, get maybe more than GitHub, more than a lot of people would off the bat. So if you just go click, check out, play with it, no, I don't want it. Or yes, I love it. I think that's great. I would still actually manage the PR and GitHub, but the ability to explore it super quick and easy within your project, I think is super cool. Yeah. And quickly grab the code, because I know in GitHub you can get it, you can clone their branch. Yeah, exactly. But it's hard. It's, like, not super easy. It's several clicks at least to find it. Right. And do you actually want to clone to your account? Maybe not. I just want to check out the code. So grab the right commit, hash shot, whatever. Also, really quick, while we're on this topic, I just want to give a quick shout out to this. So if you go to just the jetbrains.com PyCharm right now, across the top, there's this oh, here, there's this cool upcoming webinar, ten Things Can Get Things You Wish You Knew in PyCharm. Very oddly, that is me. So anyway, I'm going to do a webcast next week on June 7, about a whole bunch of get fun things in PyCharm and UI tools and whatnot. So if people want to check that out, they definitely can. Cool. Yeah. All right. So that's it for my thing, though. Check out if you're using PyCharm, check out this pull request thing. It's even in the free version of PyCharm, so it's worth noting. Nice. Let's see a really quick real time follow up. Roman, right? Hey, Roman says yes. It helps me sort out PRS so much. I totally agree. And then Wolf says, Is it available in IntelliJ and does it work with GitLab? I don't know if it works with GitLab. I'm quite sure it's available IntelliJ in IntelliJ because PyCharm is just basically specialized IntelliJ, so I'd be very surprised if it weren't available in IntelliJ, but I can't say for sure. In GitLab, I would check the documentation, but I also can't find that anyway. So on the PY term side, is there supposed to, like, some UI changes that happened recently, or do you know? Anyway, possibly one of the things that changed recently that was I actually kept stumbling into is like on the get stuff is they have little overlays of who made changes when. Kind of like that get lens from Vs code I described. They started adding that, and I kept clicking it by accident, trying to click on the line. So that's like, why does it keep popping up a diff? Oh, I see. Okay. I kind of crashed into it, but yeah. Okay. Anyway, if you're doing PRS, check this out. If you're doing PR's and you can Pijar them, check this out. It's definitely useful. All right, well, we have no guests, so that's our items for today, right? It is. Well, we would be remiss to not have extras, though. Of course. Yeah. You want to do the extras first? Your extras first? Sure. I just got one a couple of weeks ago. I think we talked about Pandas tutor switching to Piadyde, I think. So there's an article that came out on the Piadide blog that is Pandas, about Pandas tutors switching to Piadi. Piadi. Piadi. And so the reason why I bring it up is because there's some cool stuff in here. It's not just, hey, we did this, but it's also, why did we do it? And kind of walking through some of the stuff, how they did a self contained Panda's tutor wheel dealing with JavaScript and imports and all that sort of stuff, and the fine tuning and what work has to go further. So other people that are like, hey, this Python actually proof of concept. It's starting to look cool. I want to do this, too. This might be a nice thing for people to check out. Yeah, this is super nice. And I definitely think, what are the rough edges? And what worked really well. Those types of lessons for now are going to be really valuable for people trying to adopt this. Yeah, that's all my extras. Awesome. All right, well, let's just make it a straight run for Pi Iodide and Piscript right out. So last week I did two videos on Pi Script, which is based on Pyodide as well. So the first one is a 30 minutes video. I sort of hinted that I was working on this, but remember, I said it wasn't quite released yet. Brian last episode. So now you can check out a link to it. You can check out my 30 minutes Python pi Script WebAssembly. Python web apps running locally, which is super fun. It's all about not just, let's take some Python and put it in the browser, but how can you use some Pi dash config settings to override where Pi Script actually comes from? The runtime comes from so you can put that locally in your app and then download it offline and all sorts of fun stuff there. Cool. So basically building an offline progressive web app that can be almost 100% offline. This one calls an API, so it still needs this API. Anyway, that was really fun. And then the next day after releasing that, it occurred to me, do you know what supports progressive web apps? iOS and Android. So I created a second video called Python iOS Web Apps with Piscript and offline PWAs. And so here is, if you're looking at the screen on my iPad, there is a web app that runs Piscript talking to a Flas based API over the Internet. And you can go up and basically say, install this as an app on my iPad. And when you launch it, that install process already downloads the web assembly and the run the standard library and all the web assembly stuff that makes it large. So you just boom, and it opens up within less than 2 seconds. Running Python client side on iOS. That is so cool. I'm seeing lots of uses for this. I mean, people could do dashboards of pipelines and all sorts of stuff and have them be on tablets now. Yeah, absolutely. Once you've already made it a progressive web app, it's like a few button clicks. This whole video about this iOS thing with setting the stage and everything is 3 minutes. So it's not a hard process to make it happen, but it's just not obvious. And it's really cool that it works that way. Cool. Yeah. All right. Well, that's it for my items. I do have a joke. Nice. And I know you might have a joke as well. Yeah. Awesome. Okay. I'll go with mine first, because mine is easy. And then I have a bonus joke for you based on your topic that I didn't see coming. Okay. So this one comes from Brian skin. Thanks, Brian. I just sort of pointed out a joke from Seth, and it says, people are out here just dangerously throwing around sequel abstraction layers, and if we aren't careful, someone's going to lose an arm and orm. It's pretty good. Yeah, it's really good, actually. If you are careful, you can lose your arm for good. Yes. And still be all right, here's the real time joke follow up based on your reg x one. Ask me why I'm looking like this. Why? Well, that's just my regular expression. It's terrible. It's really bad. All right. I wish I had somebody in my life I could share that with other than you. Okay. If other people listen to the show, we could share with them. Okay, so there's all sorts of AI and stuff going into code editors now that make them do all sorts of stuff to help you out. Right? Right. Carmen Frog looking out a rainy window when you've barely started writing a line of code and your IDE already lets you know about three syntax errors, two runtime errors, a grammar mistake, five misdemeanors, contempt of court, and treason. Just getting started. Why is it so hard? I love it. That's really good. Anyway. Yeah, I kind of felt that way, too. I was playing on some stuff I'm just like, what? This is over the top, this thing. Yeah, but no good. I'm glad editors can help us out, but sometimes I feel like an idiot. Yes. Anyway. Indeed. Well, great being here with you. Good being here with you, indeed. Thanks, everybody, for coming. Bye, everyone. Thanks for being here. Bye. See you next time.\n",
      "sentiment_analysis_results:  [{'text': 'Hello, and welcome to Python Bytes, where we deliver Python news and headlines directly to your earbuds.', 'start': 410, 'end': 5530, 'sentiment': 'POSITIVE', 'confidence': 0.8282394409179688, 'speaker': None}, {'text': 'This is episode 286, recorded May 31, 2022.', 'start': 5610, 'end': 10974, 'sentiment': 'NEUTRAL', 'confidence': 0.9512024521827698, 'speaker': None}, {'text': \"I'm Michael Kennedy.\", 'start': 11012, 'end': 11914, 'sentiment': 'NEUTRAL', 'confidence': 0.8520545363426208, 'speaker': None}, {'text': \"And I'm Brian Akin.\", 'start': 11962, 'end': 12954, 'sentiment': 'NEUTRAL', 'confidence': 0.7915884256362915, 'speaker': None}, {'text': 'And this episode is brought to you by us.', 'start': 13002, 'end': 15038, 'sentiment': 'POSITIVE', 'confidence': 0.518970251083374, 'speaker': None}, {'text': 'If you are looking to learn Python, check out all the courses over at Talk Python Training.', 'start': 15124, 'end': 18686, 'sentiment': 'POSITIVE', 'confidence': 0.6057229042053223, 'speaker': None}, {'text': \"If you want to get better with testing, check out Brian's Pytest book, second edition.\", 'start': 18788, 'end': 24218, 'sentiment': 'POSITIVE', 'confidence': 0.730602502822876, 'speaker': None}, {'text': 'Yes.', 'start': 24314, 'end': 24886, 'sentiment': 'POSITIVE', 'confidence': 0.46103888750076294, 'speaker': None}, {'text': 'Yeah.', 'start': 25028, 'end': 25382, 'sentiment': 'NEUTRAL', 'confidence': 0.5491447448730469, 'speaker': None}, {'text': 'Yes, indeed.', 'start': 25436, 'end': 26210, 'sentiment': 'POSITIVE', 'confidence': 0.7081549763679504, 'speaker': None}, {'text': 'Indeed.', 'start': 26290, 'end': 26898, 'sentiment': 'NEUTRAL', 'confidence': 0.6371221542358398, 'speaker': None}, {'text': \"All right, well, let's jump right into it, Brian.\", 'start': 26994, 'end': 29714, 'sentiment': 'NEUTRAL', 'confidence': 0.5997524261474609, 'speaker': None}, {'text': 'Okay.', 'start': 29762, 'end': 30166, 'sentiment': 'NEUTRAL', 'confidence': 0.584351658821106, 'speaker': None}, {'text': \"Actually, about the gill, I do want to talk about the gill, but I was just realizing we're at 286.\", 'start': 30268, 'end': 35494, 'sentiment': 'NEUTRAL', 'confidence': 0.7559640407562256, 'speaker': None}, {'text': \"I just started watching Big Bang Theory with my youngest kid, and and there's 279 episodes of them.\", 'start': 35612, 'end': 42234, 'sentiment': 'POSITIVE', 'confidence': 0.6445057988166809, 'speaker': None}, {'text': 'So we have more than it went on forever, and we have more episodes than them.', 'start': 42272, 'end': 46842, 'sentiment': 'NEUTRAL', 'confidence': 0.6030343770980835, 'speaker': None}, {'text': \"That's quite a milestone.\", 'start': 46976, 'end': 48806, 'sentiment': 'POSITIVE', 'confidence': 0.944961428642273, 'speaker': None}, {'text': \"I mean, you divide that by 52, that's a lot of years.\", 'start': 48838, 'end': 51434, 'sentiment': 'NEUTRAL', 'confidence': 0.4915753901004791, 'speaker': None}, {'text': \"We've been doing this for a while.\", 'start': 51472, 'end': 52414, 'sentiment': 'NEUTRAL', 'confidence': 0.8183223605155945, 'speaker': None}, {'text': 'Yeah.', 'start': 52452, 'end': 53086, 'sentiment': 'NEUTRAL', 'confidence': 0.5491447448730469, 'speaker': None}, {'text': 'So python and the gill.', 'start': 53268, 'end': 55994, 'sentiment': 'NEUTRAL', 'confidence': 0.7761787176132202, 'speaker': None}, {'text': 'So the gill is a thing, right?', 'start': 56042, 'end': 57630, 'sentiment': 'NEUTRAL', 'confidence': 0.7877813577651978, 'speaker': None}, {'text': \"It's like something everybody knows about, I think.\", 'start': 57700, 'end': 60446, 'sentiment': 'NEUTRAL', 'confidence': 0.6809929013252258, 'speaker': None}, {'text': 'People know about, but not too much.', 'start': 60548, 'end': 62014, 'sentiment': 'NEUTRAL', 'confidence': 0.7095890045166016, 'speaker': None}, {'text': \"So it means we can't do multiprocessing, but we can.\", 'start': 62052, 'end': 66786, 'sentiment': 'NEUTRAL', 'confidence': 0.6441811919212341, 'speaker': None}, {'text': \"But we can't.\", 'start': 66888, 'end': 67582, 'sentiment': 'NEGATIVE', 'confidence': 0.6090914011001587, 'speaker': None}, {'text': 'So what is it?', 'start': 67646, 'end': 68946, 'sentiment': 'NEUTRAL', 'confidence': 0.7559372782707214, 'speaker': None}, {'text': 'And so I really like this article.', 'start': 69128, 'end': 71454, 'sentiment': 'POSITIVE', 'confidence': 0.9808406233787537, 'speaker': None}, {'text': 'So this is an article called The Python Gill Past, Present, and Future, because we have been talking about some of the no gill options that are coming.', 'start': 71502, 'end': 80120, 'sentiment': 'NEUTRAL', 'confidence': 0.8634028434753418, 'speaker': None}, {'text': 'So this is really nice.', 'start': 80730, 'end': 82454, 'sentiment': 'POSITIVE', 'confidence': 0.9889575839042664, 'speaker': None}, {'text': 'Who is it?', 'start': 82652, 'end': 83720, 'sentiment': 'NEUTRAL', 'confidence': 0.7937219738960266, 'speaker': None}, {'text': 'Barry Warsaw and Pavlopolowics, I think.', 'start': 84090, 'end': 88906, 'sentiment': 'NEUTRAL', 'confidence': 0.8947517275810242, 'speaker': None}, {'text': 'Anyway, really great article on the Back Blaze blog.', 'start': 89008, 'end': 93446, 'sentiment': 'POSITIVE', 'confidence': 0.9814252853393555, 'speaker': None}, {'text': 'And it starts out and goes through sort of what is the gill, why we have it?', 'start': 93558, 'end': 99354, 'sentiment': 'NEUTRAL', 'confidence': 0.8458232879638672, 'speaker': None}, {'text': \"It's a lot around the way in some of the history is around reference counting.\", 'start': 99392, 'end': 105402, 'sentiment': 'NEUTRAL', 'confidence': 0.8854225277900696, 'speaker': None}, {'text': 'And maybe you knew that off the top of your head, but I forgot that.', 'start': 105466, 'end': 109534, 'sentiment': 'NEUTRAL', 'confidence': 0.6352299451828003, 'speaker': None}, {'text': \"Reference counting is something that's how we do memory management and all sorts of stuff within Python.\", 'start': 109572, 'end': 115630, 'sentiment': 'NEUTRAL', 'confidence': 0.8345540165901184, 'speaker': None}, {'text': \"But to make it an easy implementation, there's this global interpreter lock, and that just basically, instead of lock, like other code, you lock individual items, shared memory that you're using.\", 'start': 115710, 'end': 128374, 'sentiment': 'NEUTRAL', 'confidence': 0.7284064292907715, 'speaker': None}, {'text': 'We just say the interpreter.', 'start': 128492, 'end': 130322, 'sentiment': 'NEUTRAL', 'confidence': 0.7705088257789612, 'speaker': None}, {'text': \"Let's just lock that and all of the variables that it uses.\", 'start': 130386, 'end': 133910, 'sentiment': 'NEUTRAL', 'confidence': 0.7571956515312195, 'speaker': None}, {'text': \"It's not just reference counts, but other things, too.\", 'start': 134490, 'end': 138806, 'sentiment': 'NEUTRAL', 'confidence': 0.822221577167511, 'speaker': None}, {'text': \"And this is just it's a fairly quick read, but enough detail that you really kind of understand what's going on.\", 'start': 138908, 'end': 146874, 'sentiment': 'POSITIVE', 'confidence': 0.5801469683647156, 'speaker': None}, {'text': \"Does talk through reference counting, talks through some of the advantages why it's really kind of handy to have it around, but then attempts to remove it.\", 'start': 147072, 'end': 159278, 'sentiment': 'POSITIVE', 'confidence': 0.5608806014060974, 'speaker': None}, {'text': \"And including, like, I didn't know about this one.\", 'start': 159364, 'end': 161774, 'sentiment': 'NEUTRAL', 'confidence': 0.5494246482849121, 'speaker': None}, {'text': 'There was a free threading one in 99 from 90 99.', 'start': 161812, 'end': 166062, 'sentiment': 'NEUTRAL', 'confidence': 0.8942552804946899, 'speaker': None}, {'text': \"Yeah, that's I didn't know about that one.\", 'start': 166116, 'end': 168014, 'sentiment': 'NEUTRAL', 'confidence': 0.624311089515686, 'speaker': None}, {'text': 'Yeah, newsday.', 'start': 168052, 'end': 168598, 'sentiment': 'NEUTRAL', 'confidence': 0.7125880718231201, 'speaker': None}, {'text': 'It actually was successful.', 'start': 168634, 'end': 169822, 'sentiment': 'POSITIVE', 'confidence': 0.8835987448692322, 'speaker': None}, {'text': 'It just made your Python code really slow.', 'start': 169886, 'end': 172366, 'sentiment': 'NEGATIVE', 'confidence': 0.9065099358558655, 'speaker': None}, {'text': 'So not good.', 'start': 172478, 'end': 174594, 'sentiment': 'NEGATIVE', 'confidence': 0.9535174369812012, 'speaker': None}, {'text': \"And then Larry Hastings Galectomy, that he's had a lot of Python talks or a few PyCon talks around this.\", 'start': 174712, 'end': 180966, 'sentiment': 'NEUTRAL', 'confidence': 0.7568539977073669, 'speaker': None}, {'text': \"So that's an interesting thing to read about.\", 'start': 181068, 'end': 185560, 'sentiment': 'POSITIVE', 'confidence': 0.9526445865631104, 'speaker': None}, {'text': \"There's quite a few interesting bits in there, but it never really got back into main Python.\", 'start': 187310, 'end': 194582, 'sentiment': 'POSITIVE', 'confidence': 0.5428124070167542, 'speaker': None}, {'text': \"But we're getting a little closer with this no gill stuff.\", 'start': 194726, 'end': 199722, 'sentiment': 'NEUTRAL', 'confidence': 0.6102731823921204, 'speaker': None}, {'text': \"So there's no gill stuff going on with Sam Gross.\", 'start': 199776, 'end': 203802, 'sentiment': 'NEUTRAL', 'confidence': 0.8330536484718323, 'speaker': None}, {'text': 'From Sam Gross?', 'start': 203866, 'end': 204602, 'sentiment': 'NEUTRAL', 'confidence': 0.8732197284698486, 'speaker': None}, {'text': 'Yeah.', 'start': 204666, 'end': 205280, 'sentiment': 'NEUTRAL', 'confidence': 0.5491447448730469, 'speaker': None}, {'text': \"And then also we've got Guido and others in Microsoft now working on this problem of speeding it up and everything.\", 'start': 209570, 'end': 217458, 'sentiment': 'NEUTRAL', 'confidence': 0.6948558688163757, 'speaker': None}, {'text': \"So really great discussion if you want to catch up on all the history of the gill and where it's going.\", 'start': 217544, 'end': 224146, 'sentiment': 'POSITIVE', 'confidence': 0.9289602041244507, 'speaker': None}, {'text': \"And then a little prediction at the end of we're going to see speed ups because of these efforts, we're going to see speed ups in the next few years.\", 'start': 224328, 'end': 232774, 'sentiment': 'NEUTRAL', 'confidence': 0.7987866401672363, 'speaker': None}, {'text': \"It's just going to get faster.\", 'start': 232892, 'end': 234338, 'sentiment': 'POSITIVE', 'confidence': 0.6607940793037415, 'speaker': None}, {'text': 'And then if we get no gill, it might be maybe five years from now.', 'start': 234434, 'end': 240300, 'sentiment': 'NEUTRAL', 'confidence': 0.671631395816803, 'speaker': None}, {'text': \"It's pretty exciting.\", 'start': 241550, 'end': 242662, 'sentiment': 'POSITIVE', 'confidence': 0.9870293140411377, 'speaker': None}, {'text': \"There's some very neat work.\", 'start': 242726, 'end': 244330, 'sentiment': 'POSITIVE', 'confidence': 0.9557334184646606, 'speaker': None}, {'text': 'The stuff that Simross is doing is quite interesting.', 'start': 244400, 'end': 247466, 'sentiment': 'POSITIVE', 'confidence': 0.9718323349952698, 'speaker': None}, {'text': 'Yeah.', 'start': 247648, 'end': 248234, 'sentiment': 'NEUTRAL', 'confidence': 0.5491447448730469, 'speaker': None}, {'text': \"What's really cool is it's not just theory or people playing.\", 'start': 248352, 'end': 251878, 'sentiment': 'POSITIVE', 'confidence': 0.9653857946395874, 'speaker': None}, {'text': 'Right.', 'start': 251974, 'end': 252234, 'sentiment': 'NEUTRAL', 'confidence': 0.5664746165275574, 'speaker': None}, {'text': \"The Python 311 is a lot faster than the previous Pythons already, and it doesn't even really touch the gill side of things.\", 'start': 252272, 'end': 258814, 'sentiment': 'POSITIVE', 'confidence': 0.7579362392425537, 'speaker': None}, {'text': \"So there's actual progress being made.\", 'start': 258852, 'end': 261598, 'sentiment': 'POSITIVE', 'confidence': 0.5546127557754517, 'speaker': None}, {'text': 'Yeah.', 'start': 261684, 'end': 262366, 'sentiment': 'NEUTRAL', 'confidence': 0.5491447448730469, 'speaker': None}, {'text': \"And it's pretty exciting.\", 'start': 262548, 'end': 264522, 'sentiment': 'POSITIVE', 'confidence': 0.9797973036766052, 'speaker': None}, {'text': 'Pretty exciting time to be part of Python.', 'start': 264586, 'end': 267470, 'sentiment': 'POSITIVE', 'confidence': 0.9854029417037964, 'speaker': None}, {'text': \"It's never not been exciting, but it only gets more exciting.\", 'start': 267990, 'end': 272174, 'sentiment': 'POSITIVE', 'confidence': 0.9651115536689758, 'speaker': None}, {'text': \"How's that?\", 'start': 272222, 'end': 272594, 'sentiment': 'NEUTRAL', 'confidence': 0.7135628461837769, 'speaker': None}, {'text': 'Yeah.', 'start': 272632, 'end': 273220, 'sentiment': 'NEUTRAL', 'confidence': 0.5491447448730469, 'speaker': None}, {'text': 'Hey, let me ask you a meta question.', 'start': 274630, 'end': 276210, 'sentiment': 'NEUTRAL', 'confidence': 0.8521307110786438, 'speaker': None}, {'text': 'So this is on the Back Blaze blog.', 'start': 276280, 'end': 279150, 'sentiment': 'NEUTRAL', 'confidence': 0.9240537285804749, 'speaker': None}, {'text': 'So Backblaze.com is one of the, I think, better sort of backup my computer, somewhere off site sort of things.', 'start': 279230, 'end': 287080, 'sentiment': 'POSITIVE', 'confidence': 0.8332089781761169, 'speaker': None}, {'text': \"And the fact that they're blogging about the Python gill is kind of interesting.\", 'start': 287610, 'end': 291962, 'sentiment': 'POSITIVE', 'confidence': 0.9575890302658081, 'speaker': None}, {'text': \"I wonder if they're a big Python shop and we just didn't know it.\", 'start': 292016, 'end': 294394, 'sentiment': 'NEUTRAL', 'confidence': 0.6579989790916443, 'speaker': None}, {'text': \"Well, I didn't know it's on their blog, but we've got Barry Warsaw.\", 'start': 294432, 'end': 302458, 'sentiment': 'NEUTRAL', 'confidence': 0.7147408723831177, 'speaker': None}, {'text': \"It's written by Barry Warsaw Powell.\", 'start': 302554, 'end': 304750, 'sentiment': 'NEUTRAL', 'confidence': 0.8589990139007568, 'speaker': None}, {'text': \"He says he's currently a senior engineer at LinkedIn.\", 'start': 307410, 'end': 310890, 'sentiment': 'NEUTRAL', 'confidence': 0.7284334301948547, 'speaker': None}, {'text': \"Yeah, I'm not sure.\", 'start': 311050, 'end': 312846, 'sentiment': 'NEUTRAL', 'confidence': 0.6602258086204529, 'speaker': None}, {'text': 'Sometimes life is confusing.', 'start': 313028, 'end': 314394, 'sentiment': 'NEGATIVE', 'confidence': 0.8496731519699097, 'speaker': None}, {'text': 'Yeah.', 'start': 314442, 'end': 314942, 'sentiment': 'NEUTRAL', 'confidence': 0.5491447448730469, 'speaker': None}, {'text': \"Not sure how this ended up there, but it's cool to see Back Blaze supported in the Python world with some dives into that.\", 'start': 315076, 'end': 322866, 'sentiment': 'POSITIVE', 'confidence': 0.9481353759765625, 'speaker': None}, {'text': 'Yeah.', 'start': 322888, 'end': 323074, 'sentiment': 'NEUTRAL', 'confidence': 0.5491447448730469, 'speaker': None}, {'text': \"Maybe somebody from Backslay can reach out to us and tell us what's going on.\", 'start': 323112, 'end': 326418, 'sentiment': 'NEUTRAL', 'confidence': 0.8954483866691589, 'speaker': None}, {'text': \"Yeah, that'd be great.\", 'start': 326504, 'end': 327666, 'sentiment': 'POSITIVE', 'confidence': 0.9613615274429321, 'speaker': None}, {'text': 'Also great.', 'start': 327848, 'end': 328658, 'sentiment': 'POSITIVE', 'confidence': 0.9272942543029785, 'speaker': None}, {'text': \"Wouldn't it be cool, Brian, if we could take our Python program, whether this is a CLI or some other app that we need to have for people to run?\", 'start': 328744, 'end': 339126, 'sentiment': 'POSITIVE', 'confidence': 0.7725130319595337, 'speaker': None}, {'text': \"And instead of saying, well, make sure you have this version of Python, at least to make sure you've set up a virtual environment, you've installed these things, and then you've got this in the path, and then you got this environment variable.\", 'start': 339228, 'end': 347874, 'sentiment': 'NEUTRAL', 'confidence': 0.6958389282226562, 'speaker': None}, {'text': 'Now you can try to run our thing I gave you.', 'start': 347922, 'end': 350158, 'sentiment': 'NEUTRAL', 'confidence': 0.7744481563568115, 'speaker': None}, {'text': \"If you could just give them a single binary that contained all of Python, contained the standard library, and you said you run this and that's your app.\", 'start': 350284, 'end': 359678, 'sentiment': 'NEUTRAL', 'confidence': 0.7512269616127014, 'speaker': None}, {'text': \"That's not bad, right?\", 'start': 359764, 'end': 361070, 'sentiment': 'POSITIVE', 'confidence': 0.8053277730941772, 'speaker': None}, {'text': 'Yeah.', 'start': 361140, 'end': 361470, 'sentiment': 'NEUTRAL', 'confidence': 0.5491447448730469, 'speaker': None}, {'text': 'So let me introduce you to Pyoxy, the Pyoxy python runner.', 'start': 361540, 'end': 365854, 'sentiment': 'POSITIVE', 'confidence': 0.5127357244491577, 'speaker': None}, {'text': 'Now, a while ago, we spoke about this thing called Pyoxygen No Pioxidizer.', 'start': 365902, 'end': 373998, 'sentiment': 'NEUTRAL', 'confidence': 0.8705328702926636, 'speaker': None}, {'text': \"That's what it was.\", 'start': 374014, 'end': 374690, 'sentiment': 'NEUTRAL', 'confidence': 0.7241082787513733, 'speaker': None}, {'text': 'Pi oxidizer.', 'start': 374760, 'end': 375870, 'sentiment': 'NEUTRAL', 'confidence': 0.4998050034046173, 'speaker': None}, {'text': 'And this is kind of like an advanced version of Pi two exe or Pi to app or Pi installer.', 'start': 375950, 'end': 383698, 'sentiment': 'NEUTRAL', 'confidence': 0.7605928182601929, 'speaker': None}, {'text': \"But what's really nice is that it bundles the stuff up just sort of all into one thing and it runs out of memory instead of creating a file structure of the files that you need and then sort of altering the path.\", 'start': 383794, 'end': 395894, 'sentiment': 'POSITIVE', 'confidence': 0.7715293765068054, 'speaker': None}, {'text': 'So like a copy of Python will run that and so on.', 'start': 395942, 'end': 398858, 'sentiment': 'NEUTRAL', 'confidence': 0.8431605100631714, 'speaker': None}, {'text': 'So this Pyoxy attempts to make the features of Pyoxidizer more accessible and simpler for people.', 'start': 398944, 'end': 406220, 'sentiment': 'POSITIVE', 'confidence': 0.7802401185035706, 'speaker': None}, {'text': \"So here's the deal.\", 'start': 406770, 'end': 407902, 'sentiment': 'NEUTRAL', 'confidence': 0.6722272038459778, 'speaker': None}, {'text': 'It is an executable program for running Python interpreters.', 'start': 407956, 'end': 411226, 'sentiment': 'NEUTRAL', 'confidence': 0.8361330032348633, 'speaker': None}, {'text': 'So you can just give somebody this one Pyoxy file and instead of saying Python this, they can say Pyoxy some Python file, right?', 'start': 411258, 'end': 419842, 'sentiment': 'NEUTRAL', 'confidence': 0.6903666257858276, 'speaker': None}, {'text': 'You can say like run Python or Run Python and give it a file or something along those lines, right?', 'start': 419896, 'end': 426258, 'sentiment': 'NEUTRAL', 'confidence': 0.8401097059249878, 'speaker': None}, {'text': \"And it's just a thing you copy around.\", 'start': 426344, 'end': 428914, 'sentiment': 'NEUTRAL', 'confidence': 0.5129408240318298, 'speaker': None}, {'text': \"You don't have to worry about installing it or configuring your system or anything like that.\", 'start': 428952, 'end': 433014, 'sentiment': 'NEUTRAL', 'confidence': 0.6338918805122375, 'speaker': None}, {'text': \"So it's kind of a really easy way to pass around and executable that is Python and the standard library without all the overhead or set up of actually installing a Python runtime.\", 'start': 433052, 'end': 443766, 'sentiment': 'POSITIVE', 'confidence': 0.8684481978416443, 'speaker': None}, {'text': 'Okay?', 'start': 443878, 'end': 444540, 'sentiment': 'NEUTRAL', 'confidence': 0.7123860716819763, 'speaker': None}, {'text': 'Yeah.', 'start': 445150, 'end': 445850, 'sentiment': 'NEUTRAL', 'confidence': 0.5491447448730469, 'speaker': None}, {'text': 'So let me go back up here.', 'start': 446000, 'end': 447146, 'sentiment': 'NEUTRAL', 'confidence': 0.7870782017707825, 'speaker': None}, {'text': \"That's pretty cool.\", 'start': 447168, 'end': 447994, 'sentiment': 'POSITIVE', 'confidence': 0.9850494265556335, 'speaker': None}, {'text': \"It's a single file that is a highly portable distribution of C Python.\", 'start': 448112, 'end': 454698, 'sentiment': 'POSITIVE', 'confidence': 0.6023618578910828, 'speaker': None}, {'text': 'So for example, on macOS and the Linux, it statically links in a lot of the files that are dependencies that you might find.', 'start': 454794, 'end': 461790, 'sentiment': 'NEUTRAL', 'confidence': 0.8470077514648438, 'speaker': None}, {'text': 'So if you try to run something in Python, it might go like oh, you have to install this other C library in order for it to work correctly.', 'start': 461940, 'end': 469422, 'sentiment': 'NEUTRAL', 'confidence': 0.6558114886283875, 'speaker': None}, {'text': 'So all those things are also like its dependencies are statically compiled into it, which is pretty cool.', 'start': 469486, 'end': 474658, 'sentiment': 'POSITIVE', 'confidence': 0.9569100141525269, 'speaker': None}, {'text': \"Another thing that's interesting is it gives you a lot more control over the interpreter and how it behaves.\", 'start': 474744, 'end': 480110, 'sentiment': 'POSITIVE', 'confidence': 0.9140750765800476, 'speaker': None}, {'text': 'Like you can pass it configuration files and do all sorts of crazy stuff to really tweak the behavior of the runtime, the Python Runtime that it comes with.', 'start': 480190, 'end': 489386, 'sentiment': 'NEUTRAL', 'confidence': 0.6282793879508972, 'speaker': None}, {'text': \"And it's just to sort of make Pyoxidizer apps more accessible.\", 'start': 489568, 'end': 493638, 'sentiment': 'POSITIVE', 'confidence': 0.5831519365310669, 'speaker': None}, {'text': 'Okay.', 'start': 493734, 'end': 494380, 'sentiment': 'NEUTRAL', 'confidence': 0.584351658821106, 'speaker': None}, {'text': \"It's built with Pi Oxidizer and basically it gives you its own standalone one.\", 'start': 496430, 'end': 500906, 'sentiment': 'NEUTRAL', 'confidence': 0.7481677532196045, 'speaker': None}, {'text': 'Like I said, it has the whole interpreter, it has the stuff statically linked, it has the standard library, and I think you can link your own libraries into it as well, which is pretty awesome.', 'start': 500928, 'end': 511966, 'sentiment': 'POSITIVE', 'confidence': 0.969635546207428, 'speaker': None}, {'text': 'And you could also give it, like I said, more control.', 'start': 512068, 'end': 514302, 'sentiment': 'NEUTRAL', 'confidence': 0.8029855489730835, 'speaker': None}, {'text': 'So you can create a configuration YAML file.', 'start': 514356, 'end': 517006, 'sentiment': 'NEUTRAL', 'confidence': 0.8735601902008057, 'speaker': None}, {'text': 'And when you run it, you can say I want you to debug allocations or I want you to run this command to initialize the interpreter before it starts to run any code and things like that.', 'start': 517118, 'end': 528438, 'sentiment': 'NEUTRAL', 'confidence': 0.7395963072776794, 'speaker': None}, {'text': 'So you can give it this YAML config file and so on.', 'start': 528524, 'end': 532614, 'sentiment': 'NEUTRAL', 'confidence': 0.8743939995765686, 'speaker': None}, {'text': \"So anyway, it's a pretty new project.\", 'start': 532652, 'end': 535446, 'sentiment': 'POSITIVE', 'confidence': 0.9194160103797913, 'speaker': None}, {'text': 'This is from Gregory source and he says very young, I hacked it together to try to get better exposure for Pi Oxidizer, for people who want to build things that they can distribute more easily and so on.', 'start': 535628, 'end': 547914, 'sentiment': 'NEUTRAL', 'confidence': 0.6212021112442017, 'speaker': None}, {'text': \"And for me, he's talking about, oh, there's some certain circumstances where maybe you want to have people run your script so you can send the script and then this thing and so on.\", 'start': 547952, 'end': 557854, 'sentiment': 'NEUTRAL', 'confidence': 0.7929403781890869, 'speaker': None}, {'text': \"It's supposed to be sort of on par with zipapp, which lets you ship the zipped up thing of your app and then run it.\", 'start': 557972, 'end': 565250, 'sentiment': 'NEUTRAL', 'confidence': 0.8072080612182617, 'speaker': None}, {'text': 'But the benefit is it already comes with Python.', 'start': 565320, 'end': 568366, 'sentiment': 'POSITIVE', 'confidence': 0.614753782749176, 'speaker': None}, {'text': 'Like, a lot of these zip, shiv, Pecs, et cetera, they all require that Python is installed on the system, and then you can run that right with its dependencies.', 'start': 568398, 'end': 577214, 'sentiment': 'NEUTRAL', 'confidence': 0.6943055987358093, 'speaker': None}, {'text': 'But this is like, no, it even comes with Python, so all that is pretty good.', 'start': 577262, 'end': 580774, 'sentiment': 'POSITIVE', 'confidence': 0.8974703550338745, 'speaker': None}, {'text': \"What I would love to see out of this is, could I take this and build some sort of UI framework pair that, I don't know, maybe with Pi scripts, and then get a UI framework I can ship to people and just go download this, double click it, there's your app.\", 'start': 580812, 'end': 596682, 'sentiment': 'POSITIVE', 'confidence': 0.8069626688957214, 'speaker': None}, {'text': 'Who knows?', 'start': 596736, 'end': 597446, 'sentiment': 'NEUTRAL', 'confidence': 0.706895649433136, 'speaker': None}, {'text': 'Yeah.', 'start': 597558, 'end': 598074, 'sentiment': 'NEUTRAL', 'confidence': 0.5491447448730469, 'speaker': None}, {'text': \"But anyway, if you're shipping Python to people, this might be worth checking out.\", 'start': 598192, 'end': 603198, 'sentiment': 'POSITIVE', 'confidence': 0.6813766956329346, 'speaker': None}, {'text': 'Yeah, neat.', 'start': 603364, 'end': 604602, 'sentiment': 'POSITIVE', 'confidence': 0.8607635498046875, 'speaker': None}, {'text': 'Yeah.', 'start': 604746, 'end': 605102, 'sentiment': 'NEUTRAL', 'confidence': 0.5491447448730469, 'speaker': None}, {'text': 'Kim out in the audience asked, it looks very handy.', 'start': 605156, 'end': 607834, 'sentiment': 'POSITIVE', 'confidence': 0.9347684979438782, 'speaker': None}, {'text': 'Does it make cross platform executable?', 'start': 607882, 'end': 611834, 'sentiment': 'NEUTRAL', 'confidence': 0.8903126120567322, 'speaker': None}, {'text': \"I think you might have to run a build command or something, or ship the right binary for each platform, but it does support Mac OS, Windows, and Linux, so that's pretty cool.\", 'start': 611882, 'end': 620898, 'sentiment': 'POSITIVE', 'confidence': 0.9709534049034119, 'speaker': None}, {'text': 'Now, maybe you covered this and I just missed it.', 'start': 620984, 'end': 624420, 'sentiment': 'NEUTRAL', 'confidence': 0.5191500782966614, 'speaker': None}, {'text': 'Does it deal with my dependencies?', 'start': 625110, 'end': 627182, 'sentiment': 'NEUTRAL', 'confidence': 0.7419983744621277, 'speaker': None}, {'text': \"Like, if I have third party dependencies, that's what I'm not 100% sure how to do.\", 'start': 627246, 'end': 631366, 'sentiment': 'NEGATIVE', 'confidence': 0.6011599898338318, 'speaker': None}, {'text': 'When I looked through it, I was looking for that.', 'start': 631388, 'end': 633094, 'sentiment': 'NEUTRAL', 'confidence': 0.7926386594772339, 'speaker': None}, {'text': \"There's this oxidized importer, which it talks about like this embeds a copy of the Python Standard Library, and it imports from memory using the oxidized importer.\", 'start': 633132, 'end': 643750, 'sentiment': 'NEUTRAL', 'confidence': 0.7789934277534485, 'speaker': None}, {'text': 'I think that you could use that as well for your own dependencies.', 'start': 643830, 'end': 647094, 'sentiment': 'NEUTRAL', 'confidence': 0.8211737275123596, 'speaker': None}, {'text': \"And I'm pretty sure that's the goal of this Pi Oxidizer project in the first place, so I would think so, but nothing from this article was really clear.\", 'start': 647222, 'end': 655470, 'sentiment': 'NEUTRAL', 'confidence': 0.4905420243740082, 'speaker': None}, {'text': \"Like, here's how you bring in requests or httpx or whatever you're going to bring along.\", 'start': 655540, 'end': 660430, 'sentiment': 'NEUTRAL', 'confidence': 0.8993649482727051, 'speaker': None}, {'text': 'Yeah, okay.', 'start': 660580, 'end': 662542, 'sentiment': 'POSITIVE', 'confidence': 0.5509032607078552, 'speaker': None}, {'text': 'Or Pytest.', 'start': 662676, 'end': 663870, 'sentiment': 'NEUTRAL', 'confidence': 0.7448768019676208, 'speaker': None}, {'text': 'I was actually just thinking, if I run these tests well, what version are you using?', 'start': 664290, 'end': 671250, 'sentiment': 'NEUTRAL', 'confidence': 0.8544173240661621, 'speaker': None}, {'text': 'Okay, just fine.', 'start': 671320, 'end': 672370, 'sentiment': 'POSITIVE', 'confidence': 0.6204562187194824, 'speaker': None}, {'text': 'Here, just install this and run run this test with this.', 'start': 672440, 'end': 676786, 'sentiment': 'NEUTRAL', 'confidence': 0.8916677832603455, 'speaker': None}, {'text': 'And that would be yeah, exactly.', 'start': 676888, 'end': 678690, 'sentiment': 'NEUTRAL', 'confidence': 0.6995502710342407, 'speaker': None}, {'text': 'Yeah.', 'start': 678840, 'end': 679202, 'sentiment': 'NEUTRAL', 'confidence': 0.5491447448730469, 'speaker': None}, {'text': 'Alvaro is when I was talking about UI stuff, he says, what about Pi Oxyplus textual?', 'start': 679256, 'end': 684950, 'sentiment': 'NEUTRAL', 'confidence': 0.8886398077011108, 'speaker': None}, {'text': \"That'd be pretty neat as well.\", 'start': 685690, 'end': 686934, 'sentiment': 'POSITIVE', 'confidence': 0.9669871926307678, 'speaker': None}, {'text': 'Yeah, just around the corner.', 'start': 686972, 'end': 688498, 'sentiment': 'NEUTRAL', 'confidence': 0.6316884160041809, 'speaker': None}, {'text': 'Yeah.', 'start': 688594, 'end': 688950, 'sentiment': 'NEUTRAL', 'confidence': 0.5491447448730469, 'speaker': None}, {'text': 'Cool.', 'start': 689020, 'end': 689302, 'sentiment': 'POSITIVE', 'confidence': 0.84200119972229, 'speaker': None}, {'text': \"All right, well, nice that's Pyoxy people can check it out.\", 'start': 689356, 'end': 692698, 'sentiment': 'POSITIVE', 'confidence': 0.8758090734481812, 'speaker': None}, {'text': 'All right, well, how about regular expressions?', 'start': 692784, 'end': 699222, 'sentiment': 'NEUTRAL', 'confidence': 0.8399078845977783, 'speaker': None}, {'text': 'Do you like those?', 'start': 699286, 'end': 700220, 'sentiment': 'NEUTRAL', 'confidence': 0.8669451475143433, 'speaker': None}, {'text': 'When they work, I love them.', 'start': 701950, 'end': 704400, 'sentiment': 'POSITIVE', 'confidence': 0.9590917825698853, 'speaker': None}, {'text': \"When they don't, I'm like, what is this madness I've gotten myself into?\", 'start': 704770, 'end': 708494, 'sentiment': 'NEGATIVE', 'confidence': 0.8684449791908264, 'speaker': None}, {'text': \"Okay, so I was almost afraid to talk about this, but it's a really awesome article because sometimes you need regular expressions.\", 'start': 708532, 'end': 715890, 'sentiment': 'POSITIVE', 'confidence': 0.9304124712944031, 'speaker': None}, {'text': \"And one of the things there's lots that I like about this article, what I'm talking about is an article called the Unreasonable Effectiveness of F Strings and Verbose.\", 'start': 716710, 'end': 727270, 'sentiment': 'POSITIVE', 'confidence': 0.9121040105819702, 'speaker': None}, {'text': 'So regular expressions and all languages, I think, including Python, have a notion of verbose mode.', 'start': 727850, 'end': 738646, 'sentiment': 'NEUTRAL', 'confidence': 0.8240281939506531, 'speaker': None}, {'text': \"And I've always been enticed by this.\", 'start': 738758, 'end': 740794, 'sentiment': 'POSITIVE', 'confidence': 0.6108837723731995, 'speaker': None}, {'text': 'The verbose mode idea is that you can like, instead of having this weird, you still have the hard to read regular expression stuff, but you can put comment, you can put spaces and comments in it.', 'start': 740832, 'end': 753840, 'sentiment': 'NEUTRAL', 'confidence': 0.5949870347976685, 'speaker': None}, {'text': 'It could be multiline, right?', 'start': 755010, 'end': 756510, 'sentiment': 'NEUTRAL', 'confidence': 0.8592780828475952, 'speaker': None}, {'text': 'What?', 'start': 756580, 'end': 756958, 'sentiment': 'NEUTRAL', 'confidence': 0.5652865171432495, 'speaker': None}, {'text': 'It could be multiline.', 'start': 757044, 'end': 758026, 'sentiment': 'NEUTRAL', 'confidence': 0.7966988682746887, 'speaker': None}, {'text': 'Yeah, it could be multiline.', 'start': 758058, 'end': 759146, 'sentiment': 'NEUTRAL', 'confidence': 0.8023661971092224, 'speaker': None}, {'text': \"And you can have a bunch of comments in there to say, oh, this part of the regular expression, what it's doing is this.\", 'start': 759178, 'end': 765200, 'sentiment': 'NEUTRAL', 'confidence': 0.7745094299316406, 'speaker': None}, {'text': 'So it makes it little snippets of regular expression are easier to read.', 'start': 767730, 'end': 771714, 'sentiment': 'POSITIVE', 'confidence': 0.5777511596679688, 'speaker': None}, {'text': \"You're like, oh, yeah, I can see that it's doing that great.\", 'start': 771752, 'end': 774482, 'sentiment': 'POSITIVE', 'confidence': 0.7758631110191345, 'speaker': None}, {'text': \"It's when you clog it all together, which it makes it really hard to read.\", 'start': 774616, 'end': 777960, 'sentiment': 'NEGATIVE', 'confidence': 0.8491648435592651, 'speaker': None}, {'text': 'And then, of course, you can build up strings in Python with F strings and do string replacement.', 'start': 779530, 'end': 786242, 'sentiment': 'NEUTRAL', 'confidence': 0.7188647389411926, 'speaker': None}, {'text': 'How awesome.', 'start': 786306, 'end': 787062, 'sentiment': 'POSITIVE', 'confidence': 0.9627212285995483, 'speaker': None}, {'text': \"So that's what this article is about, is really talking about taking some of the complicated bits of your regular expression or duplicated bits, where it shows up several times in your regular expression and pulling that string out and even maybe commenting that and then dropping it in with F strings to build up a complex regular expression.\", 'start': 787196, 'end': 812042, 'sentiment': 'NEUTRAL', 'confidence': 0.7881436944007874, 'speaker': None}, {'text': \"It's brilliant.\", 'start': 812186, 'end': 813114, 'sentiment': 'POSITIVE', 'confidence': 0.8732977509498596, 'speaker': None}, {'text': \"And it also is one of the best explanations I've ever read on verbose regular expressions.\", 'start': 813162, 'end': 820030, 'sentiment': 'POSITIVE', 'confidence': 0.9773038029670715, 'speaker': None}, {'text': \"So it's pretty cool.\", 'start': 820110, 'end': 821042, 'sentiment': 'POSITIVE', 'confidence': 0.9833593368530273, 'speaker': None}, {'text': 'Yeah.', 'start': 821096, 'end': 821266, 'sentiment': 'NEUTRAL', 'confidence': 0.5491447448730469, 'speaker': None}, {'text': 'I never really thought to refactor the pattern so that you have multiple strings.', 'start': 821288, 'end': 826450, 'sentiment': 'NEUTRAL', 'confidence': 0.6207085847854614, 'speaker': None}, {'text': \"Here's the part that's repeated.\", 'start': 826870, 'end': 828158, 'sentiment': 'NEUTRAL', 'confidence': 0.5356995463371277, 'speaker': None}, {'text': \"So we'll have a pattern that that's that thing and then F string it into the other pieces.\", 'start': 828174, 'end': 832034, 'sentiment': 'NEUTRAL', 'confidence': 0.845836341381073, 'speaker': None}, {'text': 'Yeah.', 'start': 832162, 'end': 832742, 'sentiment': 'NEUTRAL', 'confidence': 0.5491447448730469, 'speaker': None}, {'text': 'But it makes perfect sense.', 'start': 832876, 'end': 834022, 'sentiment': 'POSITIVE', 'confidence': 0.724865198135376, 'speaker': None}, {'text': 'Of course you should do it.', 'start': 834076, 'end': 835480, 'sentiment': 'POSITIVE', 'confidence': 0.7333636283874512, 'speaker': None}, {'text': 'Yeah.', 'start': 836010, 'end': 836470, 'sentiment': 'NEUTRAL', 'confidence': 0.5491447448730469, 'speaker': None}, {'text': \"And now I don't use it, actually, I kind of do.\", 'start': 836540, 'end': 840074, 'sentiment': 'NEUTRAL', 'confidence': 0.5575047135353088, 'speaker': None}, {'text': 'I use regular expressions on a regular basis, but not like every day.', 'start': 840112, 'end': 847900, 'sentiment': 'NEUTRAL', 'confidence': 0.8115130662918091, 'speaker': None}, {'text': \"But it's always something that whenever I put it in there, I'm like, is anybody else going to be able to read this?\", 'start': 848270, 'end': 853118, 'sentiment': 'NEUTRAL', 'confidence': 0.6527385711669922, 'speaker': None}, {'text': \"And so I put comments around it, but I have never really embraced verbose mode, and I'm definitely going to use this now, for sure.\", 'start': 853204, 'end': 862206, 'sentiment': 'NEUTRAL', 'confidence': 0.5557911992073059, 'speaker': None}, {'text': 'The other thing real quick is you can have F strings and you can have raw strings, and you can have raw F strings, apparently, in Python.', 'start': 862388, 'end': 869566, 'sentiment': 'NEUTRAL', 'confidence': 0.6707953810691833, 'speaker': None}, {'text': 'So the prefix is fraud.', 'start': 869678, 'end': 872478, 'sentiment': 'NEGATIVE', 'confidence': 0.6800615191459656, 'speaker': None}, {'text': 'Quote multi line like that.', 'start': 872494, 'end': 874098, 'sentiment': 'NEUTRAL', 'confidence': 0.682788610458374, 'speaker': None}, {'text': \"That's some serious string action happening right there, man.\", 'start': 874184, 'end': 876722, 'sentiment': 'NEUTRAL', 'confidence': 0.6271846890449524, 'speaker': None}, {'text': 'Yeah.', 'start': 876776, 'end': 877380, 'sentiment': 'NEUTRAL', 'confidence': 0.5491447448730469, 'speaker': None}, {'text': 'Raw f strings.', 'start': 877750, 'end': 878802, 'sentiment': 'NEUTRAL', 'confidence': 0.5359624624252319, 'speaker': None}, {'text': 'Nice.', 'start': 878866, 'end': 879480, 'sentiment': 'POSITIVE', 'confidence': 0.7344964146614075, 'speaker': None}, {'text': 'Yeah.', 'start': 880730, 'end': 881480, 'sentiment': 'NEUTRAL', 'confidence': 0.5491447448730469, 'speaker': None}, {'text': 'And Neil out in the audience asks you, brian, do you like your regular expressions?', 'start': 882010, 'end': 886034, 'sentiment': 'NEUTRAL', 'confidence': 0.915964663028717, 'speaker': None}, {'text': 'Greedy or non greedy?', 'start': 886082, 'end': 887506, 'sentiment': 'NEUTRAL', 'confidence': 0.5659734606742859, 'speaker': None}, {'text': 'Okay.', 'start': 887618, 'end': 888280, 'sentiment': 'NEUTRAL', 'confidence': 0.584351658821106, 'speaker': None}, {'text': \"It depends on what you're trying to do.\", 'start': 890110, 'end': 893420, 'sentiment': 'NEUTRAL', 'confidence': 0.8365280628204346, 'speaker': None}, {'text': \"Yeah, I don't want mine to be greedy.\", 'start': 894110, 'end': 895894, 'sentiment': 'NEUTRAL', 'confidence': 0.5762482285499573, 'speaker': None}, {'text': \"Let's share kindly.\", 'start': 895942, 'end': 898054, 'sentiment': 'POSITIVE', 'confidence': 0.6432991623878479, 'speaker': None}, {'text': 'All right, are we ready for the next one?', 'start': 898102, 'end': 899994, 'sentiment': 'NEUTRAL', 'confidence': 0.6558200120925903, 'speaker': None}, {'text': 'Yes.', 'start': 900032, 'end': 900474, 'sentiment': 'POSITIVE', 'confidence': 0.46103888750076294, 'speaker': None}, {'text': 'Cool.', 'start': 900592, 'end': 901114, 'sentiment': 'POSITIVE', 'confidence': 0.84200119972229, 'speaker': None}, {'text': 'All right.', 'start': 901232, 'end': 901674, 'sentiment': 'NEUTRAL', 'confidence': 0.4896698594093323, 'speaker': None}, {'text': 'So this one I want to talk about.', 'start': 901712, 'end': 903194, 'sentiment': 'NEUTRAL', 'confidence': 0.8043314814567566, 'speaker': None}, {'text': \"I'm going to start off from a weird place, from a Tweet that I gave because I can't find anywhere else to talk about it.\", 'start': 903232, 'end': 910398, 'sentiment': 'NEGATIVE', 'confidence': 0.5055813789367676, 'speaker': None}, {'text': 'This is why this needs talking about.', 'start': 910484, 'end': 912654, 'sentiment': 'NEUTRAL', 'confidence': 0.6363984942436218, 'speaker': None}, {'text': 'So I just want to sort of highlight some really cool stuff for people who are using Pie charm and doing open source stuff that involves pull requests.', 'start': 912772, 'end': 921118, 'sentiment': 'POSITIVE', 'confidence': 0.9534208178520203, 'speaker': None}, {'text': 'And these could be pull requests to your private repo.', 'start': 921134, 'end': 922926, 'sentiment': 'NEUTRAL', 'confidence': 0.8361063599586487, 'speaker': None}, {'text': 'Like one team member gave a PR back to the repo.', 'start': 922958, 'end': 925646, 'sentiment': 'NEUTRAL', 'confidence': 0.8332013487815857, 'speaker': None}, {'text': \"It doesn't have to be open open source.\", 'start': 925678, 'end': 927954, 'sentiment': 'NEUTRAL', 'confidence': 0.7515136003494263, 'speaker': None}, {'text': 'Okay.', 'start': 928082, 'end': 928518, 'sentiment': 'NEUTRAL', 'confidence': 0.584351658821106, 'speaker': None}, {'text': \"So if you're using PyCharm, check this out.\", 'start': 928604, 'end': 931686, 'sentiment': 'NEUTRAL', 'confidence': 0.8365501761436462, 'speaker': None}, {'text': 'Let me pull up this screen.', 'start': 931788, 'end': 934200, 'sentiment': 'NEUTRAL', 'confidence': 0.7495949268341064, 'speaker': None}, {'text': 'Come on.', 'start': 934650, 'end': 935560, 'sentiment': 'NEUTRAL', 'confidence': 0.5757861137390137, 'speaker': None}, {'text': \"I'm not logged in.\", 'start': 936330, 'end': 937254, 'sentiment': 'NEGATIVE', 'confidence': 0.6707419753074646, 'speaker': None}, {'text': 'Oh, there we go.', 'start': 937292, 'end': 937990, 'sentiment': 'NEUTRAL', 'confidence': 0.4810220003128052, 'speaker': None}, {'text': 'I thought it might not let me get the image up anyway.', 'start': 938060, 'end': 939942, 'sentiment': 'NEGATIVE', 'confidence': 0.560513436794281, 'speaker': None}, {'text': 'So check this out.', 'start': 939996, 'end': 940738, 'sentiment': 'NEUTRAL', 'confidence': 0.8121668100357056, 'speaker': None}, {'text': 'So people are probably familiar with the get support in PyCharm Vs code PyCharm.', 'start': 940764, 'end': 946038, 'sentiment': 'NEUTRAL', 'confidence': 0.7840446829795837, 'speaker': None}, {'text': 'They all have really good get support.', 'start': 946054, 'end': 947722, 'sentiment': 'POSITIVE', 'confidence': 0.9190599918365479, 'speaker': None}, {'text': 'You can see your changes.', 'start': 947856, 'end': 949194, 'sentiment': 'NEUTRAL', 'confidence': 0.7924947738647461, 'speaker': None}, {'text': 'A lot of times you have this gray little overlay that says who recently edited a file or a line.', 'start': 949312, 'end': 957710, 'sentiment': 'NEUTRAL', 'confidence': 0.7159174084663391, 'speaker': None}, {'text': \"It's really cool to go back with get lens turned on for C Python because you'll see stuff from like 30 years ago.\", 'start': 957780, 'end': 964126, 'sentiment': 'POSITIVE', 'confidence': 0.9657260179519653, 'speaker': None}, {'text': \"Guido made this commit and here's the commit message.\", 'start': 964228, 'end': 966882, 'sentiment': 'NEUTRAL', 'confidence': 0.8802189230918884, 'speaker': None}, {'text': \"You're like what?\", 'start': 967016, 'end': 967682, 'sentiment': 'NEUTRAL', 'confidence': 0.6443110704421997, 'speaker': None}, {'text': 'This is crazy.', 'start': 967736, 'end': 968498, 'sentiment': 'NEGATIVE', 'confidence': 0.5765839219093323, 'speaker': None}, {'text': 'Right?', 'start': 968584, 'end': 969026, 'sentiment': 'NEUTRAL', 'confidence': 0.7360090017318726, 'speaker': None}, {'text': \"But working with PRS is one of the things that doesn't normally seem to fit.\", 'start': 969128, 'end': 973538, 'sentiment': 'NEGATIVE', 'confidence': 0.7832371592521667, 'speaker': None}, {'text': \"And so I don't know when this got in there, but not too recently.\", 'start': 973624, 'end': 977602, 'sentiment': 'NEUTRAL', 'confidence': 0.7051686644554138, 'speaker': None}, {'text': \"There's now a pull request tab.\", 'start': 977666, 'end': 979826, 'sentiment': 'NEUTRAL', 'confidence': 0.8745832443237305, 'speaker': None}, {'text': \"So if you open a GitHub repository, if you're logged in to GitHub and that GitHub repository has a pull request and you open up the section, it gives you a list of all the Open.\", 'start': 979858, 'end': 989878, 'sentiment': 'NEUTRAL', 'confidence': 0.7637351751327515, 'speaker': None}, {'text': 'And I guess maybe you can toggle it close as well.', 'start': 989964, 'end': 991938, 'sentiment': 'NEUTRAL', 'confidence': 0.8341288566589355, 'speaker': None}, {'text': 'But all the list of the open pull request, if you click on one of them, it will show you all the details of the pull request, the whole conversation.', 'start': 991964, 'end': 1000102, 'sentiment': 'NEUTRAL', 'confidence': 0.854985237121582, 'speaker': None}, {'text': \"If you click on that, who's the reviewer, you can change that, who's it assigned to, whether there's labels, whether it's been merged.\", 'start': 1000166, 'end': 1007514, 'sentiment': 'NEUTRAL', 'confidence': 0.8263794183731079, 'speaker': None}, {'text': 'Wow.', 'start': 1007642, 'end': 1008030, 'sentiment': 'POSITIVE', 'confidence': 0.7093686461448669, 'speaker': None}, {'text': 'And then like on the right you have this whole conversation.', 'start': 1008100, 'end': 1010410, 'sentiment': 'NEUTRAL', 'confidence': 0.832267165184021, 'speaker': None}, {'text': 'You can see sort of the flow.', 'start': 1010490, 'end': 1011594, 'sentiment': 'NEUTRAL', 'confidence': 0.8064154982566833, 'speaker': None}, {'text': 'This person commented this and they made these few more changes.', 'start': 1011642, 'end': 1014478, 'sentiment': 'NEUTRAL', 'confidence': 0.853050172328949, 'speaker': None}, {'text': 'Then they commented again here.', 'start': 1014564, 'end': 1016142, 'sentiment': 'NEUTRAL', 'confidence': 0.8028925061225891, 'speaker': None}, {'text': 'This is all really pretty neat.', 'start': 1016276, 'end': 1017934, 'sentiment': 'POSITIVE', 'confidence': 0.9870936274528503, 'speaker': None}, {'text': \"But the thing that is noteworthy, the reason I brought this up is there's a button that says Check out.\", 'start': 1017982, 'end': 1023202, 'sentiment': 'NEUTRAL', 'confidence': 0.6325357556343079, 'speaker': None}, {'text': \"So instead of trying to create a branch or fork their repo and check in, I don't know where this repo or this PR came from or what branch it was against.\", 'start': 1023256, 'end': 1031702, 'sentiment': 'NEGATIVE', 'confidence': 0.6502998471260071, 'speaker': None}, {'text': 'I just want to check it out and run it locally, run the test against it, see what it looks like.', 'start': 1031756, 'end': 1035958, 'sentiment': 'NEUTRAL', 'confidence': 0.8181302547454834, 'speaker': None}, {'text': 'Go.', 'start': 1036124, 'end': 1036598, 'sentiment': 'NEUTRAL', 'confidence': 0.5352324843406677, 'speaker': None}, {'text': \"Isn't that awesome?\", 'start': 1036684, 'end': 1037430, 'sentiment': 'POSITIVE', 'confidence': 0.9611364006996155, 'speaker': None}, {'text': 'Yeah, that is really awesome.', 'start': 1037500, 'end': 1039686, 'sentiment': 'POSITIVE', 'confidence': 0.9843283891677856, 'speaker': None}, {'text': 'I like it.', 'start': 1039788, 'end': 1040374, 'sentiment': 'POSITIVE', 'confidence': 0.9081892371177673, 'speaker': None}, {'text': \"Yeah, because normally you're juggling a lot.\", 'start': 1040412, 'end': 1042394, 'sentiment': 'NEUTRAL', 'confidence': 0.641953706741333, 'speaker': None}, {'text': 'Maybe you have CI continuous integration that tells you the Linting pass, but other times you want to actually just get it and run it and play with it and decide, did this make the code slower?', 'start': 1042432, 'end': 1052934, 'sentiment': 'NEUTRAL', 'confidence': 0.6296981573104858, 'speaker': None}, {'text': 'Did it make it faster?', 'start': 1052982, 'end': 1053994, 'sentiment': 'NEUTRAL', 'confidence': 0.8298521637916565, 'speaker': None}, {'text': 'Do I like how the result of this feature looks?', 'start': 1054042, 'end': 1057422, 'sentiment': 'NEUTRAL', 'confidence': 0.7742859721183777, 'speaker': None}, {'text': 'Especially with a UI thing or something?', 'start': 1057556, 'end': 1059550, 'sentiment': 'NEUTRAL', 'confidence': 0.8725019693374634, 'speaker': None}, {'text': 'Right?', 'start': 1059620, 'end': 1059998, 'sentiment': 'NEUTRAL', 'confidence': 0.7360090017318726, 'speaker': None}, {'text': 'Yeah.', 'start': 1060084, 'end': 1060382, 'sentiment': 'NEUTRAL', 'confidence': 0.5491447448730469, 'speaker': None}, {'text': \"So I think this is super cool, and the reason I bring it up is there's nowhere in the documentation.\", 'start': 1060436, 'end': 1065162, 'sentiment': 'POSITIVE', 'confidence': 0.969354510307312, 'speaker': None}, {'text': \"Like, if you go over to PyCharm here and you look for pull requests, they don't even mention this.\", 'start': 1065226, 'end': 1070946, 'sentiment': 'NEGATIVE', 'confidence': 0.5377823710441589, 'speaker': None}, {'text': 'Right.', 'start': 1070968, 'end': 1071154, 'sentiment': 'NEUTRAL', 'confidence': 0.5664746165275574, 'speaker': None}, {'text': \"So I don't think people necessarily know about this stealth feature.\", 'start': 1071192, 'end': 1075966, 'sentiment': 'NEUTRAL', 'confidence': 0.6276142597198486, 'speaker': None}, {'text': \"It's a stealth feature.\", 'start': 1076078, 'end': 1077054, 'sentiment': 'NEUTRAL', 'confidence': 0.8324496746063232, 'speaker': None}, {'text': 'It seems totally worth highlighting because dealing with PRS in that way is actually kind of janky.', 'start': 1077102, 'end': 1082674, 'sentiment': 'NEUTRAL', 'confidence': 0.4471694827079773, 'speaker': None}, {'text': \"It's like it takes a little bit of understanding, get maybe more than GitHub, more than a lot of people would off the bat.\", 'start': 1082802, 'end': 1088934, 'sentiment': 'NEUTRAL', 'confidence': 0.6921300292015076, 'speaker': None}, {'text': \"So if you just go click, check out, play with it, no, I don't want it.\", 'start': 1088972, 'end': 1093178, 'sentiment': 'NEGATIVE', 'confidence': 0.8831661343574524, 'speaker': None}, {'text': 'Or yes, I love it.', 'start': 1093184, 'end': 1094170, 'sentiment': 'POSITIVE', 'confidence': 0.9272687435150146, 'speaker': None}, {'text': \"I think that's great.\", 'start': 1094240, 'end': 1094954, 'sentiment': 'POSITIVE', 'confidence': 0.980536699295044, 'speaker': None}, {'text': 'I would still actually manage the PR and GitHub, but the ability to explore it super quick and easy within your project, I think is super cool.', 'start': 1094992, 'end': 1102462, 'sentiment': 'POSITIVE', 'confidence': 0.9720619916915894, 'speaker': None}, {'text': 'Yeah.', 'start': 1102516, 'end': 1102734, 'sentiment': 'NEUTRAL', 'confidence': 0.5491447448730469, 'speaker': None}, {'text': 'And quickly grab the code, because I know in GitHub you can get it, you can clone their branch.', 'start': 1102772, 'end': 1109470, 'sentiment': 'NEUTRAL', 'confidence': 0.5244502425193787, 'speaker': None}, {'text': 'Yeah, exactly.', 'start': 1109970, 'end': 1110766, 'sentiment': 'NEUTRAL', 'confidence': 0.512125551700592, 'speaker': None}, {'text': \"But it's hard.\", 'start': 1110868, 'end': 1111454, 'sentiment': 'NEGATIVE', 'confidence': 0.5097584128379822, 'speaker': None}, {'text': \"It's, like, not super easy.\", 'start': 1111492, 'end': 1112702, 'sentiment': 'NEGATIVE', 'confidence': 0.6582285165786743, 'speaker': None}, {'text': \"It's several clicks at least to find it.\", 'start': 1112836, 'end': 1115520, 'sentiment': 'NEUTRAL', 'confidence': 0.8195541501045227, 'speaker': None}, {'text': 'Right.', 'start': 1117410, 'end': 1117726, 'sentiment': 'NEUTRAL', 'confidence': 0.5664746165275574, 'speaker': None}, {'text': 'And do you actually want to clone to your account?', 'start': 1117748, 'end': 1120658, 'sentiment': 'NEUTRAL', 'confidence': 0.7726314663887024, 'speaker': None}, {'text': 'Maybe not.', 'start': 1120744, 'end': 1121234, 'sentiment': 'NEUTRAL', 'confidence': 0.6598692536354065, 'speaker': None}, {'text': 'I just want to check out the code.', 'start': 1121272, 'end': 1122610, 'sentiment': 'NEUTRAL', 'confidence': 0.8202977180480957, 'speaker': None}, {'text': 'So grab the right commit, hash shot, whatever.', 'start': 1122760, 'end': 1126260, 'sentiment': 'NEUTRAL', 'confidence': 0.7883885502815247, 'speaker': None}, {'text': \"Also, really quick, while we're on this topic, I just want to give a quick shout out to this.\", 'start': 1127110, 'end': 1130726, 'sentiment': 'POSITIVE', 'confidence': 0.5685903429985046, 'speaker': None}, {'text': \"So if you go to just the jetbrains.com PyCharm right now, across the top, there's this oh, here, there's this cool upcoming webinar, ten Things Can Get Things You Wish You Knew in PyCharm.\", 'start': 1130748, 'end': 1141222, 'sentiment': 'POSITIVE', 'confidence': 0.9327112436294556, 'speaker': None}, {'text': 'Very oddly, that is me.', 'start': 1141366, 'end': 1144394, 'sentiment': 'NEUTRAL', 'confidence': 0.57076495885849, 'speaker': None}, {'text': \"So anyway, I'm going to do a webcast next week on June 7, about a whole bunch of get fun things in PyCharm and UI tools and whatnot.\", 'start': 1144512, 'end': 1153414, 'sentiment': 'POSITIVE', 'confidence': 0.9200872182846069, 'speaker': None}, {'text': 'So if people want to check that out, they definitely can.', 'start': 1153462, 'end': 1155758, 'sentiment': 'POSITIVE', 'confidence': 0.588444709777832, 'speaker': None}, {'text': 'Cool.', 'start': 1155844, 'end': 1156238, 'sentiment': 'POSITIVE', 'confidence': 0.84200119972229, 'speaker': None}, {'text': 'Yeah.', 'start': 1156324, 'end': 1156574, 'sentiment': 'NEUTRAL', 'confidence': 0.5491447448730469, 'speaker': None}, {'text': 'All right.', 'start': 1156612, 'end': 1156894, 'sentiment': 'NEUTRAL', 'confidence': 0.4896698594093323, 'speaker': None}, {'text': \"So that's it for my thing, though.\", 'start': 1156932, 'end': 1158302, 'sentiment': 'NEUTRAL', 'confidence': 0.7669166326522827, 'speaker': None}, {'text': \"Check out if you're using PyCharm, check out this pull request thing.\", 'start': 1158356, 'end': 1161614, 'sentiment': 'NEUTRAL', 'confidence': 0.912842869758606, 'speaker': None}, {'text': \"It's even in the free version of PyCharm, so it's worth noting.\", 'start': 1161652, 'end': 1164990, 'sentiment': 'POSITIVE', 'confidence': 0.7985613942146301, 'speaker': None}, {'text': 'Nice.', 'start': 1165070, 'end': 1165700, 'sentiment': 'POSITIVE', 'confidence': 0.7344964146614075, 'speaker': None}, {'text': \"Let's see a really quick real time follow up.\", 'start': 1166550, 'end': 1170242, 'sentiment': 'NEUTRAL', 'confidence': 0.6391189098358154, 'speaker': None}, {'text': 'Roman, right?', 'start': 1170296, 'end': 1170786, 'sentiment': 'NEUTRAL', 'confidence': 0.8145931959152222, 'speaker': None}, {'text': 'Hey, Roman says yes.', 'start': 1170808, 'end': 1171874, 'sentiment': 'NEUTRAL', 'confidence': 0.5150827765464783, 'speaker': None}, {'text': 'It helps me sort out PRS so much.', 'start': 1171912, 'end': 1174194, 'sentiment': 'POSITIVE', 'confidence': 0.8700520992279053, 'speaker': None}, {'text': 'I totally agree.', 'start': 1174232, 'end': 1175170, 'sentiment': 'POSITIVE', 'confidence': 0.7921645045280457, 'speaker': None}, {'text': 'And then Wolf says, Is it available in IntelliJ and does it work with GitLab?', 'start': 1175240, 'end': 1179650, 'sentiment': 'NEUTRAL', 'confidence': 0.900035560131073, 'speaker': None}, {'text': \"I don't know if it works with GitLab.\", 'start': 1179730, 'end': 1181586, 'sentiment': 'NEGATIVE', 'confidence': 0.675896406173706, 'speaker': None}, {'text': \"I'm quite sure it's available IntelliJ in IntelliJ because PyCharm is just basically specialized IntelliJ, so I'd be very surprised if it weren't available in IntelliJ, but I can't say for sure.\", 'start': 1181698, 'end': 1193194, 'sentiment': 'POSITIVE', 'confidence': 0.5476489067077637, 'speaker': None}, {'text': \"In GitLab, I would check the documentation, but I also can't find that anyway.\", 'start': 1193232, 'end': 1197258, 'sentiment': 'NEGATIVE', 'confidence': 0.6209120750427246, 'speaker': None}, {'text': 'So on the PY term side, is there supposed to, like, some UI changes that happened recently, or do you know?', 'start': 1197344, 'end': 1204518, 'sentiment': 'NEUTRAL', 'confidence': 0.8937607407569885, 'speaker': None}, {'text': 'Anyway, possibly one of the things that changed recently that was I actually kept stumbling into is like on the get stuff is they have little overlays of who made changes when.', 'start': 1204704, 'end': 1213918, 'sentiment': 'NEUTRAL', 'confidence': 0.7562448382377625, 'speaker': None}, {'text': 'Kind of like that get lens from Vs code I described.', 'start': 1214004, 'end': 1216666, 'sentiment': 'NEUTRAL', 'confidence': 0.7240832448005676, 'speaker': None}, {'text': 'They started adding that, and I kept clicking it by accident, trying to click on the line.', 'start': 1216778, 'end': 1220210, 'sentiment': 'NEUTRAL', 'confidence': 0.5911712646484375, 'speaker': None}, {'text': \"So that's like, why does it keep popping up a diff?\", 'start': 1220280, 'end': 1222530, 'sentiment': 'NEUTRAL', 'confidence': 0.591305136680603, 'speaker': None}, {'text': 'Oh, I see.', 'start': 1222600, 'end': 1223714, 'sentiment': 'NEUTRAL', 'confidence': 0.6089955568313599, 'speaker': None}, {'text': 'Okay.', 'start': 1223752, 'end': 1224340, 'sentiment': 'NEUTRAL', 'confidence': 0.584351658821106, 'speaker': None}, {'text': 'I kind of crashed into it, but yeah.', 'start': 1225190, 'end': 1226802, 'sentiment': 'NEGATIVE', 'confidence': 0.5212593078613281, 'speaker': None}, {'text': 'Okay.', 'start': 1226856, 'end': 1227218, 'sentiment': 'NEUTRAL', 'confidence': 0.584351658821106, 'speaker': None}, {'text': \"Anyway, if you're doing PRS, check this out.\", 'start': 1227304, 'end': 1229110, 'sentiment': 'NEUTRAL', 'confidence': 0.8249615430831909, 'speaker': None}, {'text': \"If you're doing PR's and you can Pijar them, check this out.\", 'start': 1229180, 'end': 1231286, 'sentiment': 'NEUTRAL', 'confidence': 0.8829497694969177, 'speaker': None}, {'text': \"It's definitely useful.\", 'start': 1231308, 'end': 1232450, 'sentiment': 'POSITIVE', 'confidence': 0.9115011692047119, 'speaker': None}, {'text': \"All right, well, we have no guests, so that's our items for today, right?\", 'start': 1232530, 'end': 1237762, 'sentiment': 'NEUTRAL', 'confidence': 0.7586542963981628, 'speaker': None}, {'text': 'It is.', 'start': 1237836, 'end': 1238620, 'sentiment': 'NEUTRAL', 'confidence': 0.6054748892784119, 'speaker': None}, {'text': 'Well, we would be remiss to not have extras, though.', 'start': 1239070, 'end': 1242138, 'sentiment': 'NEUTRAL', 'confidence': 0.5830934643745422, 'speaker': None}, {'text': 'Of course.', 'start': 1242224, 'end': 1243020, 'sentiment': 'NEUTRAL', 'confidence': 0.5551797151565552, 'speaker': None}, {'text': 'Yeah.', 'start': 1244110, 'end': 1244570, 'sentiment': 'NEUTRAL', 'confidence': 0.5491447448730469, 'speaker': None}, {'text': 'You want to do the extras first?', 'start': 1244640, 'end': 1245898, 'sentiment': 'NEUTRAL', 'confidence': 0.8542280197143555, 'speaker': None}, {'text': 'Your extras first?', 'start': 1245984, 'end': 1246842, 'sentiment': 'NEUTRAL', 'confidence': 0.7854214310646057, 'speaker': None}, {'text': 'Sure.', 'start': 1246896, 'end': 1247402, 'sentiment': 'NEUTRAL', 'confidence': 0.4753468334674835, 'speaker': None}, {'text': 'I just got one a couple of weeks ago.', 'start': 1247536, 'end': 1252880, 'sentiment': 'NEUTRAL', 'confidence': 0.8217349648475647, 'speaker': None}, {'text': 'I think we talked about Pandas tutor switching to Piadyde, I think.', 'start': 1253490, 'end': 1261360, 'sentiment': 'NEUTRAL', 'confidence': 0.9318755865097046, 'speaker': None}, {'text': \"So there's an article that came out on the Piadide blog that is Pandas, about Pandas tutors switching to Piadi.\", 'start': 1262630, 'end': 1272654, 'sentiment': 'NEUTRAL', 'confidence': 0.9141128659248352, 'speaker': None}, {'text': 'Piadi.', 'start': 1272702, 'end': 1273438, 'sentiment': 'NEUTRAL', 'confidence': 0.5893564224243164, 'speaker': None}, {'text': 'Piadi.', 'start': 1273534, 'end': 1274446, 'sentiment': 'NEUTRAL', 'confidence': 0.5893564224243164, 'speaker': None}, {'text': \"And so the reason why I bring it up is because there's some cool stuff in here.\", 'start': 1274638, 'end': 1280470, 'sentiment': 'POSITIVE', 'confidence': 0.9585878252983093, 'speaker': None}, {'text': \"It's not just, hey, we did this, but it's also, why did we do it?\", 'start': 1280620, 'end': 1284406, 'sentiment': 'NEUTRAL', 'confidence': 0.5515875220298767, 'speaker': None}, {'text': \"And kind of walking through some of the stuff, how they did a self contained Panda's tutor wheel dealing with JavaScript and imports and all that sort of stuff, and the fine tuning and what work has to go further.\", 'start': 1284508, 'end': 1299334, 'sentiment': 'NEUTRAL', 'confidence': 0.8880255222320557, 'speaker': None}, {'text': 'So other people that are like, hey, this Python actually proof of concept.', 'start': 1299462, 'end': 1303606, 'sentiment': 'NEUTRAL', 'confidence': 0.7372269034385681, 'speaker': None}, {'text': \"It's starting to look cool.\", 'start': 1303638, 'end': 1304798, 'sentiment': 'POSITIVE', 'confidence': 0.9707320332527161, 'speaker': None}, {'text': 'I want to do this, too.', 'start': 1304884, 'end': 1306046, 'sentiment': 'POSITIVE', 'confidence': 0.8253677487373352, 'speaker': None}, {'text': 'This might be a nice thing for people to check out.', 'start': 1306148, 'end': 1308654, 'sentiment': 'POSITIVE', 'confidence': 0.9688045382499695, 'speaker': None}, {'text': 'Yeah, this is super nice.', 'start': 1308852, 'end': 1310542, 'sentiment': 'POSITIVE', 'confidence': 0.989512026309967, 'speaker': None}, {'text': 'And I definitely think, what are the rough edges?', 'start': 1310596, 'end': 1313674, 'sentiment': 'NEUTRAL', 'confidence': 0.8152261972427368, 'speaker': None}, {'text': 'And what worked really well.', 'start': 1313722, 'end': 1315006, 'sentiment': 'POSITIVE', 'confidence': 0.8508993983268738, 'speaker': None}, {'text': 'Those types of lessons for now are going to be really valuable for people trying to adopt this.', 'start': 1315108, 'end': 1319522, 'sentiment': 'POSITIVE', 'confidence': 0.9106167554855347, 'speaker': None}, {'text': \"Yeah, that's all my extras.\", 'start': 1319576, 'end': 1321054, 'sentiment': 'NEUTRAL', 'confidence': 0.6619341373443604, 'speaker': None}, {'text': 'Awesome.', 'start': 1321102, 'end': 1321554, 'sentiment': 'POSITIVE', 'confidence': 0.9184247851371765, 'speaker': None}, {'text': \"All right, well, let's just make it a straight run for Pi Iodide and Piscript right out.\", 'start': 1321672, 'end': 1327766, 'sentiment': 'NEUTRAL', 'confidence': 0.7364623546600342, 'speaker': None}, {'text': 'So last week I did two videos on Pi Script, which is based on Pyodide as well.', 'start': 1327948, 'end': 1336486, 'sentiment': 'NEUTRAL', 'confidence': 0.8145909309387207, 'speaker': None}, {'text': 'So the first one is a 30 minutes video.', 'start': 1336588, 'end': 1340118, 'sentiment': 'NEUTRAL', 'confidence': 0.8584623336791992, 'speaker': None}, {'text': \"I sort of hinted that I was working on this, but remember, I said it wasn't quite released yet.\", 'start': 1340204, 'end': 1343786, 'sentiment': 'NEUTRAL', 'confidence': 0.8493553400039673, 'speaker': None}, {'text': 'Brian last episode.', 'start': 1343808, 'end': 1345850, 'sentiment': 'NEUTRAL', 'confidence': 0.8037981390953064, 'speaker': None}, {'text': 'So now you can check out a link to it.', 'start': 1346270, 'end': 1347946, 'sentiment': 'NEUTRAL', 'confidence': 0.8602904677391052, 'speaker': None}, {'text': 'You can check out my 30 minutes Python pi Script WebAssembly.', 'start': 1347968, 'end': 1351062, 'sentiment': 'NEUTRAL', 'confidence': 0.7865371108055115, 'speaker': None}, {'text': 'Python web apps running locally, which is super fun.', 'start': 1351126, 'end': 1354462, 'sentiment': 'POSITIVE', 'confidence': 0.9820313453674316, 'speaker': None}, {'text': \"It's all about not just, let's take some Python and put it in the browser, but how can you use some Pi dash config settings to override where Pi Script actually comes from?\", 'start': 1354516, 'end': 1366080, 'sentiment': 'NEUTRAL', 'confidence': 0.7092283368110657, 'speaker': None}, {'text': 'The runtime comes from so you can put that locally in your app and then download it offline and all sorts of fun stuff there.', 'start': 1366930, 'end': 1372418, 'sentiment': 'POSITIVE', 'confidence': 0.8785392045974731, 'speaker': None}, {'text': 'Cool.', 'start': 1372504, 'end': 1372802, 'sentiment': 'POSITIVE', 'confidence': 0.84200119972229, 'speaker': None}, {'text': 'So basically building an offline progressive web app that can be almost 100% offline.', 'start': 1372856, 'end': 1378654, 'sentiment': 'POSITIVE', 'confidence': 0.6718028783798218, 'speaker': None}, {'text': 'This one calls an API, so it still needs this API.', 'start': 1378702, 'end': 1381378, 'sentiment': 'NEUTRAL', 'confidence': 0.7525128126144409, 'speaker': None}, {'text': 'Anyway, that was really fun.', 'start': 1381474, 'end': 1382614, 'sentiment': 'POSITIVE', 'confidence': 0.9766546487808228, 'speaker': None}, {'text': 'And then the next day after releasing that, it occurred to me, do you know what supports progressive web apps?', 'start': 1382652, 'end': 1388030, 'sentiment': 'NEUTRAL', 'confidence': 0.8366059064865112, 'speaker': None}, {'text': 'iOS and Android.', 'start': 1388130, 'end': 1389766, 'sentiment': 'NEUTRAL', 'confidence': 0.7000041604042053, 'speaker': None}, {'text': 'So I created a second video called Python iOS Web Apps with Piscript and offline PWAs.', 'start': 1389878, 'end': 1395446, 'sentiment': 'NEUTRAL', 'confidence': 0.6569552421569824, 'speaker': None}, {'text': \"And so here is, if you're looking at the screen on my iPad, there is a web app that runs Piscript talking to a Flas based API over the Internet.\", 'start': 1395558, 'end': 1409258, 'sentiment': 'NEUTRAL', 'confidence': 0.6325228214263916, 'speaker': None}, {'text': 'And you can go up and basically say, install this as an app on my iPad.', 'start': 1409354, 'end': 1414506, 'sentiment': 'NEUTRAL', 'confidence': 0.6337067484855652, 'speaker': None}, {'text': 'And when you launch it, that install process already downloads the web assembly and the run the standard library and all the web assembly stuff that makes it large.', 'start': 1414538, 'end': 1423454, 'sentiment': 'NEUTRAL', 'confidence': 0.7630413770675659, 'speaker': None}, {'text': 'So you just boom, and it opens up within less than 2 seconds.', 'start': 1423492, 'end': 1427026, 'sentiment': 'POSITIVE', 'confidence': 0.6078281402587891, 'speaker': None}, {'text': 'Running Python client side on iOS.', 'start': 1427138, 'end': 1429554, 'sentiment': 'NEUTRAL', 'confidence': 0.8336179256439209, 'speaker': None}, {'text': 'That is so cool.', 'start': 1429682, 'end': 1430920, 'sentiment': 'POSITIVE', 'confidence': 0.986232340335846, 'speaker': None}, {'text': \"I'm seeing lots of uses for this.\", 'start': 1431370, 'end': 1432934, 'sentiment': 'POSITIVE', 'confidence': 0.7226594090461731, 'speaker': None}, {'text': 'I mean, people could do dashboards of pipelines and all sorts of stuff and have them be on tablets now.', 'start': 1432972, 'end': 1440290, 'sentiment': 'NEUTRAL', 'confidence': 0.8054344058036804, 'speaker': None}, {'text': 'Yeah, absolutely.', 'start': 1440460, 'end': 1441580, 'sentiment': 'POSITIVE', 'confidence': 0.5014309883117676, 'speaker': None}, {'text': \"Once you've already made it a progressive web app, it's like a few button clicks.\", 'start': 1442590, 'end': 1446614, 'sentiment': 'NEUTRAL', 'confidence': 0.5037382245063782, 'speaker': None}, {'text': 'This whole video about this iOS thing with setting the stage and everything is 3 minutes.', 'start': 1446662, 'end': 1451578, 'sentiment': 'NEUTRAL', 'confidence': 0.7373396158218384, 'speaker': None}, {'text': \"So it's not a hard process to make it happen, but it's just not obvious.\", 'start': 1451664, 'end': 1455310, 'sentiment': 'NEUTRAL', 'confidence': 0.6225899457931519, 'speaker': None}, {'text': \"And it's really cool that it works that way.\", 'start': 1455380, 'end': 1456862, 'sentiment': 'POSITIVE', 'confidence': 0.9755197167396545, 'speaker': None}, {'text': 'Cool.', 'start': 1456916, 'end': 1457278, 'sentiment': 'POSITIVE', 'confidence': 0.84200119972229, 'speaker': None}, {'text': 'Yeah.', 'start': 1457364, 'end': 1457806, 'sentiment': 'NEUTRAL', 'confidence': 0.5491447448730469, 'speaker': None}, {'text': 'All right.', 'start': 1457908, 'end': 1458254, 'sentiment': 'NEUTRAL', 'confidence': 0.4896698594093323, 'speaker': None}, {'text': \"Well, that's it for my items.\", 'start': 1458292, 'end': 1461386, 'sentiment': 'NEUTRAL', 'confidence': 0.7661128640174866, 'speaker': None}, {'text': 'I do have a joke.', 'start': 1461418, 'end': 1462586, 'sentiment': 'NEUTRAL', 'confidence': 0.7206611037254333, 'speaker': None}, {'text': 'Nice.', 'start': 1462698, 'end': 1463358, 'sentiment': 'POSITIVE', 'confidence': 0.7344964146614075, 'speaker': None}, {'text': 'And I know you might have a joke as well.', 'start': 1463524, 'end': 1465630, 'sentiment': 'NEUTRAL', 'confidence': 0.7347894906997681, 'speaker': None}, {'text': 'Yeah.', 'start': 1465700, 'end': 1466126, 'sentiment': 'NEUTRAL', 'confidence': 0.5491447448730469, 'speaker': None}, {'text': 'Awesome.', 'start': 1466228, 'end': 1466638, 'sentiment': 'POSITIVE', 'confidence': 0.9184247851371765, 'speaker': None}, {'text': 'Okay.', 'start': 1466724, 'end': 1467166, 'sentiment': 'NEUTRAL', 'confidence': 0.584351658821106, 'speaker': None}, {'text': \"I'll go with mine first, because mine is easy.\", 'start': 1467268, 'end': 1468834, 'sentiment': 'POSITIVE', 'confidence': 0.7406392693519592, 'speaker': None}, {'text': \"And then I have a bonus joke for you based on your topic that I didn't see coming.\", 'start': 1468872, 'end': 1472850, 'sentiment': 'NEUTRAL', 'confidence': 0.48903971910476685, 'speaker': None}, {'text': 'Okay.', 'start': 1472920, 'end': 1473394, 'sentiment': 'NEUTRAL', 'confidence': 0.584351658821106, 'speaker': None}, {'text': 'So this one comes from Brian skin.', 'start': 1473512, 'end': 1475214, 'sentiment': 'NEUTRAL', 'confidence': 0.8863587975502014, 'speaker': None}, {'text': 'Thanks, Brian.', 'start': 1475262, 'end': 1476094, 'sentiment': 'POSITIVE', 'confidence': 0.7685409188270569, 'speaker': None}, {'text': \"I just sort of pointed out a joke from Seth, and it says, people are out here just dangerously throwing around sequel abstraction layers, and if we aren't careful, someone's going to lose an arm and orm.\", 'start': 1476222, 'end': 1488630, 'sentiment': 'NEGATIVE', 'confidence': 0.6913865208625793, 'speaker': None}, {'text': \"It's pretty good.\", 'start': 1489310, 'end': 1490170, 'sentiment': 'POSITIVE', 'confidence': 0.9752151966094971, 'speaker': None}, {'text': \"Yeah, it's really good, actually.\", 'start': 1490240, 'end': 1492970, 'sentiment': 'POSITIVE', 'confidence': 0.9833906888961792, 'speaker': None}, {'text': 'If you are careful, you can lose your arm for good.', 'start': 1493040, 'end': 1495962, 'sentiment': 'NEUTRAL', 'confidence': 0.5886974334716797, 'speaker': None}, {'text': 'Yes.', 'start': 1496096, 'end': 1496490, 'sentiment': 'POSITIVE', 'confidence': 0.46103888750076294, 'speaker': None}, {'text': \"And still be all right, here's the real time joke follow up based on your reg x one.\", 'start': 1496560, 'end': 1505550, 'sentiment': 'NEUTRAL', 'confidence': 0.7383825182914734, 'speaker': None}, {'text': \"Ask me why I'm looking like this.\", 'start': 1505620, 'end': 1506958, 'sentiment': 'NEUTRAL', 'confidence': 0.5448334813117981, 'speaker': None}, {'text': 'Why?', 'start': 1507044, 'end': 1507486, 'sentiment': 'NEUTRAL', 'confidence': 0.6120101809501648, 'speaker': None}, {'text': \"Well, that's just my regular expression.\", 'start': 1507588, 'end': 1509470, 'sentiment': 'NEUTRAL', 'confidence': 0.7811264991760254, 'speaker': None}, {'text': \"It's terrible.\", 'start': 1512130, 'end': 1513450, 'sentiment': 'NEGATIVE', 'confidence': 0.9357290863990784, 'speaker': None}, {'text': \"It's really bad.\", 'start': 1513610, 'end': 1514414, 'sentiment': 'NEGATIVE', 'confidence': 0.9358738660812378, 'speaker': None}, {'text': 'All right.', 'start': 1514452, 'end': 1514686, 'sentiment': 'NEUTRAL', 'confidence': 0.4896698594093323, 'speaker': None}, {'text': 'I wish I had somebody in my life I could share that with other than you.', 'start': 1514708, 'end': 1518420, 'sentiment': 'NEUTRAL', 'confidence': 0.560465395450592, 'speaker': None}, {'text': 'Okay.', 'start': 1519590, 'end': 1520050, 'sentiment': 'NEUTRAL', 'confidence': 0.584351658821106, 'speaker': None}, {'text': 'If other people listen to the show, we could share with them.', 'start': 1520120, 'end': 1522194, 'sentiment': 'POSITIVE', 'confidence': 0.6615155935287476, 'speaker': None}, {'text': \"Okay, so there's all sorts of AI and stuff going into code editors now that make them do all sorts of stuff to help you out.\", 'start': 1522232, 'end': 1531766, 'sentiment': 'NEUTRAL', 'confidence': 0.6955759525299072, 'speaker': None}, {'text': 'Right?', 'start': 1531788, 'end': 1532360, 'sentiment': 'NEUTRAL', 'confidence': 0.7360090017318726, 'speaker': None}, {'text': 'Right.', 'start': 1532970, 'end': 1533720, 'sentiment': 'NEUTRAL', 'confidence': 0.5664746165275574, 'speaker': None}, {'text': \"Carmen Frog looking out a rainy window when you've barely started writing a line of code and your IDE already lets you know about three syntax errors, two runtime errors, a grammar mistake, five misdemeanors, contempt of court, and treason.\", 'start': 1536010, 'end': 1551070, 'sentiment': 'NEGATIVE', 'confidence': 0.886198878288269, 'speaker': None}, {'text': 'Just getting started.', 'start': 1553970, 'end': 1555150, 'sentiment': 'NEUTRAL', 'confidence': 0.7262463569641113, 'speaker': None}, {'text': 'Why is it so hard?', 'start': 1555220, 'end': 1556480, 'sentiment': 'NEGATIVE', 'confidence': 0.8095778822898865, 'speaker': None}, {'text': 'I love it.', 'start': 1557090, 'end': 1557726, 'sentiment': 'POSITIVE', 'confidence': 0.9694594740867615, 'speaker': None}, {'text': \"That's really good.\", 'start': 1557748, 'end': 1558846, 'sentiment': 'POSITIVE', 'confidence': 0.9851823449134827, 'speaker': None}, {'text': 'Anyway.', 'start': 1559028, 'end': 1559470, 'sentiment': 'NEUTRAL', 'confidence': 0.560354471206665, 'speaker': None}, {'text': 'Yeah, I kind of felt that way, too.', 'start': 1559540, 'end': 1561118, 'sentiment': 'NEUTRAL', 'confidence': 0.7029276490211487, 'speaker': None}, {'text': \"I was playing on some stuff I'm just like, what?\", 'start': 1561204, 'end': 1563454, 'sentiment': 'NEUTRAL', 'confidence': 0.6632986664772034, 'speaker': None}, {'text': 'This is over the top, this thing.', 'start': 1563572, 'end': 1565454, 'sentiment': 'NEGATIVE', 'confidence': 0.9685635566711426, 'speaker': None}, {'text': 'Yeah, but no good.', 'start': 1565652, 'end': 1567374, 'sentiment': 'NEGATIVE', 'confidence': 0.8806203603744507, 'speaker': None}, {'text': \"I'm glad editors can help us out, but sometimes I feel like an idiot.\", 'start': 1567412, 'end': 1571338, 'sentiment': 'NEGATIVE', 'confidence': 0.40638014674186707, 'speaker': None}, {'text': 'Yes.', 'start': 1571514, 'end': 1572094, 'sentiment': 'POSITIVE', 'confidence': 0.46103888750076294, 'speaker': None}, {'text': 'Anyway.', 'start': 1572212, 'end': 1572542, 'sentiment': 'NEUTRAL', 'confidence': 0.560354471206665, 'speaker': None}, {'text': 'Indeed.', 'start': 1572596, 'end': 1573290, 'sentiment': 'NEUTRAL', 'confidence': 0.6371221542358398, 'speaker': None}, {'text': 'Well, great being here with you.', 'start': 1573450, 'end': 1575414, 'sentiment': 'POSITIVE', 'confidence': 0.9738143086433411, 'speaker': None}, {'text': 'Good being here with you, indeed.', 'start': 1575452, 'end': 1577394, 'sentiment': 'POSITIVE', 'confidence': 0.9728209972381592, 'speaker': None}, {'text': 'Thanks, everybody, for coming.', 'start': 1577442, 'end': 1578760, 'sentiment': 'POSITIVE', 'confidence': 0.9724760055541992, 'speaker': None}, {'text': 'Bye, everyone.', 'start': 1579130, 'end': 1579798, 'sentiment': 'NEUTRAL', 'confidence': 0.5990492701530457, 'speaker': None}, {'text': 'Thanks for being here.', 'start': 1579884, 'end': 1580566, 'sentiment': 'POSITIVE', 'confidence': 0.9494379162788391, 'speaker': None}, {'text': 'Bye.', 'start': 1580588, 'end': 1580962, 'sentiment': 'NEUTRAL', 'confidence': 0.5137447118759155, 'speaker': None}, {'text': 'See you next time.', 'start': 1581026, 'end': 1581540, 'sentiment': 'NEUTRAL', 'confidence': 0.6020334959030151, 'speaker': None}]\n",
      "summary:  None\n"
     ]
    }
   ],
   "source": [
    "output_list = ['id', 'status', 'text', 'sentiment_analysis_results', 'summary']\n",
    "\n",
    "for i in output_list:\n",
    "    print(f'{i}: ', transcript_response.json()[i])"
   ]
  },
  {
   "cell_type": "code",
   "execution_count": 40,
   "metadata": {},
   "outputs": [],
   "source": [
    "#save pickle\n",
    "with open('speech_data.pkl', 'wb') as f:\n",
    "    pickle.dump(transcript_response.json().copy(), f)"
   ]
  },
  {
   "attachments": {},
   "cell_type": "markdown",
   "metadata": {},
   "source": [
    "## Dashboard components"
   ]
  },
  {
   "cell_type": "code",
   "execution_count": 41,
   "metadata": {},
   "outputs": [],
   "source": [
    "#load data pickle\n",
    "with open('speech_data.pkl', 'rb') as f:\n",
    "    data = pickle.load(f)"
   ]
  },
  {
   "attachments": {},
   "cell_type": "markdown",
   "metadata": {},
   "source": [
    "### Download transcript widget"
   ]
  },
  {
   "cell_type": "code",
   "execution_count": 42,
   "metadata": {},
   "outputs": [
    {
     "data": {
      "text/plain": [
       "0"
      ]
     },
     "execution_count": 42,
     "metadata": {},
     "output_type": "execute_result"
    }
   ],
   "source": [
    "buffer = StringIO()\n",
    "buffer.write(data['text'])\n",
    "buffer.seek(0)"
   ]
  },
  {
   "cell_type": "code",
   "execution_count": 43,
   "metadata": {},
   "outputs": [
    {
     "data": {
      "application/vnd.jupyter.widget-view+json": {
       "model_id": "63df5759e323422b848b7e0e6e379e0a",
       "version_major": 2,
       "version_minor": 0
      },
      "text/plain": [
       "BokehModel(combine_events=True, render_bundle={'docs_json': {'1c872276-317c-4ad6-a267-51b0b4452d43': {'defs': …"
      ]
     },
     "execution_count": 43,
     "metadata": {},
     "output_type": "execute_result"
    }
   ],
   "source": [
    "transcript_download = pn.widgets.FileDownload(file=buffer, filename='transcript.txt', button_type='success')\n",
    "transcript_download"
   ]
  },
  {
   "attachments": {},
   "cell_type": "markdown",
   "metadata": {},
   "source": [
    "### Audio Play "
   ]
  },
  {
   "cell_type": "code",
   "execution_count": 59,
   "metadata": {},
   "outputs": [
    {
     "data": {
      "application/vnd.jupyter.widget-view+json": {
       "model_id": "de3e2d69a0b347e8bde7923993960718",
       "version_major": 2,
       "version_minor": 0
      },
      "text/plain": [
       "BokehModel(combine_events=True, render_bundle={'docs_json': {'2e451a46-0771-43a6-ad6e-1a8d55164bda': {'defs': …"
      ]
     },
     "execution_count": 59,
     "metadata": {},
     "output_type": "execute_result"
    }
   ],
   "source": [
    "audio_url = \"https://github.com/elitay152/AssemblyAI_Audio_Project/blob/main/286-unreasonable-f-strings.mp3?raw=True\"\n",
    "audio_play = pn.pane.Audio(audio_url, name='Audio', time=0)\n",
    "audio_play"
   ]
  },
  {
   "attachments": {},
   "cell_type": "markdown",
   "metadata": {},
   "source": [
    "### Sentiment Plot"
   ]
  },
  {
   "cell_type": "code",
   "execution_count": 45,
   "metadata": {},
   "outputs": [],
   "source": [
    "sentiment = data['sentiment_analysis_results']"
   ]
  },
  {
   "cell_type": "code",
   "execution_count": 46,
   "metadata": {},
   "outputs": [
    {
     "data": {
      "text/html": [
       "<div>\n",
       "<style scoped>\n",
       "    .dataframe tbody tr th:only-of-type {\n",
       "        vertical-align: middle;\n",
       "    }\n",
       "\n",
       "    .dataframe tbody tr th {\n",
       "        vertical-align: top;\n",
       "    }\n",
       "\n",
       "    .dataframe thead th {\n",
       "        text-align: right;\n",
       "    }\n",
       "</style>\n",
       "<table border=\"1\" class=\"dataframe\">\n",
       "  <thead>\n",
       "    <tr style=\"text-align: right;\">\n",
       "      <th></th>\n",
       "      <th>text</th>\n",
       "      <th>start</th>\n",
       "      <th>end</th>\n",
       "      <th>sentiment</th>\n",
       "      <th>confidence</th>\n",
       "      <th>speaker</th>\n",
       "    </tr>\n",
       "  </thead>\n",
       "  <tbody>\n",
       "    <tr>\n",
       "      <th>0</th>\n",
       "      <td>Hello, and welcome to Python Bytes, where we d...</td>\n",
       "      <td>410</td>\n",
       "      <td>5530</td>\n",
       "      <td>POSITIVE</td>\n",
       "      <td>0.828239</td>\n",
       "      <td>None</td>\n",
       "    </tr>\n",
       "    <tr>\n",
       "      <th>1</th>\n",
       "      <td>This is episode 286, recorded May 31, 2022.</td>\n",
       "      <td>5610</td>\n",
       "      <td>10974</td>\n",
       "      <td>NEUTRAL</td>\n",
       "      <td>0.951202</td>\n",
       "      <td>None</td>\n",
       "    </tr>\n",
       "    <tr>\n",
       "      <th>2</th>\n",
       "      <td>I'm Michael Kennedy.</td>\n",
       "      <td>11012</td>\n",
       "      <td>11914</td>\n",
       "      <td>NEUTRAL</td>\n",
       "      <td>0.852055</td>\n",
       "      <td>None</td>\n",
       "    </tr>\n",
       "    <tr>\n",
       "      <th>3</th>\n",
       "      <td>And I'm Brian Akin.</td>\n",
       "      <td>11962</td>\n",
       "      <td>12954</td>\n",
       "      <td>NEUTRAL</td>\n",
       "      <td>0.791588</td>\n",
       "      <td>None</td>\n",
       "    </tr>\n",
       "    <tr>\n",
       "      <th>4</th>\n",
       "      <td>And this episode is brought to you by us.</td>\n",
       "      <td>13002</td>\n",
       "      <td>15038</td>\n",
       "      <td>POSITIVE</td>\n",
       "      <td>0.518970</td>\n",
       "      <td>None</td>\n",
       "    </tr>\n",
       "    <tr>\n",
       "      <th>...</th>\n",
       "      <td>...</td>\n",
       "      <td>...</td>\n",
       "      <td>...</td>\n",
       "      <td>...</td>\n",
       "      <td>...</td>\n",
       "      <td>...</td>\n",
       "    </tr>\n",
       "    <tr>\n",
       "      <th>432</th>\n",
       "      <td>Thanks, everybody, for coming.</td>\n",
       "      <td>1577442</td>\n",
       "      <td>1578760</td>\n",
       "      <td>POSITIVE</td>\n",
       "      <td>0.972476</td>\n",
       "      <td>None</td>\n",
       "    </tr>\n",
       "    <tr>\n",
       "      <th>433</th>\n",
       "      <td>Bye, everyone.</td>\n",
       "      <td>1579130</td>\n",
       "      <td>1579798</td>\n",
       "      <td>NEUTRAL</td>\n",
       "      <td>0.599049</td>\n",
       "      <td>None</td>\n",
       "    </tr>\n",
       "    <tr>\n",
       "      <th>434</th>\n",
       "      <td>Thanks for being here.</td>\n",
       "      <td>1579884</td>\n",
       "      <td>1580566</td>\n",
       "      <td>POSITIVE</td>\n",
       "      <td>0.949438</td>\n",
       "      <td>None</td>\n",
       "    </tr>\n",
       "    <tr>\n",
       "      <th>435</th>\n",
       "      <td>Bye.</td>\n",
       "      <td>1580588</td>\n",
       "      <td>1580962</td>\n",
       "      <td>NEUTRAL</td>\n",
       "      <td>0.513745</td>\n",
       "      <td>None</td>\n",
       "    </tr>\n",
       "    <tr>\n",
       "      <th>436</th>\n",
       "      <td>See you next time.</td>\n",
       "      <td>1581026</td>\n",
       "      <td>1581540</td>\n",
       "      <td>NEUTRAL</td>\n",
       "      <td>0.602033</td>\n",
       "      <td>None</td>\n",
       "    </tr>\n",
       "  </tbody>\n",
       "</table>\n",
       "<p>437 rows × 6 columns</p>\n",
       "</div>"
      ],
      "text/plain": [
       "                                                  text    start      end  \\\n",
       "0    Hello, and welcome to Python Bytes, where we d...      410     5530   \n",
       "1          This is episode 286, recorded May 31, 2022.     5610    10974   \n",
       "2                                 I'm Michael Kennedy.    11012    11914   \n",
       "3                                  And I'm Brian Akin.    11962    12954   \n",
       "4            And this episode is brought to you by us.    13002    15038   \n",
       "..                                                 ...      ...      ...   \n",
       "432                     Thanks, everybody, for coming.  1577442  1578760   \n",
       "433                                     Bye, everyone.  1579130  1579798   \n",
       "434                             Thanks for being here.  1579884  1580566   \n",
       "435                                               Bye.  1580588  1580962   \n",
       "436                                 See you next time.  1581026  1581540   \n",
       "\n",
       "    sentiment  confidence speaker  \n",
       "0    POSITIVE    0.828239    None  \n",
       "1     NEUTRAL    0.951202    None  \n",
       "2     NEUTRAL    0.852055    None  \n",
       "3     NEUTRAL    0.791588    None  \n",
       "4    POSITIVE    0.518970    None  \n",
       "..        ...         ...     ...  \n",
       "432  POSITIVE    0.972476    None  \n",
       "433   NEUTRAL    0.599049    None  \n",
       "434  POSITIVE    0.949438    None  \n",
       "435   NEUTRAL    0.513745    None  \n",
       "436   NEUTRAL    0.602033    None  \n",
       "\n",
       "[437 rows x 6 columns]"
      ]
     },
     "execution_count": 46,
     "metadata": {},
     "output_type": "execute_result"
    }
   ],
   "source": [
    "sentiment_df = pd.DataFrame(sentiment)\n",
    "sentiment_df"
   ]
  },
  {
   "cell_type": "code",
   "execution_count": 47,
   "metadata": {},
   "outputs": [
    {
     "data": {
      "text/plain": [
       "NEUTRAL     278\n",
       "POSITIVE    130\n",
       "NEGATIVE     29\n",
       "Name: sentiment, dtype: int64"
      ]
     },
     "execution_count": 47,
     "metadata": {},
     "output_type": "execute_result"
    }
   ],
   "source": [
    "sentiment_df_grouped = sentiment_df['sentiment'].value_counts()\n",
    "sentiment_df_grouped"
   ]
  },
  {
   "cell_type": "code",
   "execution_count": 75,
   "metadata": {},
   "outputs": [
    {
     "data": {
      "application/vnd.jupyter.widget-view+json": {
       "model_id": "2a079938bfac4e58af9ffab03f2a3d72",
       "version_major": 2,
       "version_minor": 0
      },
      "text/plain": [
       "BokehModel(combine_events=True, render_bundle={'docs_json': {'171f9934-bfc7-47f3-9cdd-30b89193031d': {'defs': …"
      ]
     },
     "execution_count": 75,
     "metadata": {},
     "output_type": "execute_result"
    }
   ],
   "source": [
    "# bar plot\n",
    "sentiment_plot = sentiment_df_grouped.hvplot(title='Sentences by Sentiment Category', kind='bar', c='sentiment')\n",
    "pn.Row(sentiment_plot)"
   ]
  },
  {
   "cell_type": "code",
   "execution_count": 76,
   "metadata": {},
   "outputs": [
    {
     "data": {
      "application/vnd.jupyter.widget-view+json": {
       "model_id": "3b92ffdf0d2b4f8289148b26483ff666",
       "version_major": 2,
       "version_minor": 0
      },
      "text/plain": [
       "BokehModel(combine_events=True, render_bundle={'docs_json': {'6ee3765e-9fd5-4433-a529-3ee0fb48bb71': {'defs': …"
      ]
     },
     "execution_count": 76,
     "metadata": {},
     "output_type": "execute_result"
    }
   ],
   "source": [
    "positive_df = sentiment_df[sentiment_df['sentiment']=='POSITIVE'][['text', 'sentiment']]\n",
    "negative_df = sentiment_df[sentiment_df['sentiment']=='NEGATIVE'][['text', 'sentiment']]\n",
    "neutral_df = sentiment_df[sentiment_df['sentiment']=='NEUTRAL'][['text', 'sentiment']]\n",
    "\n",
    "sentiment_tabs = pn.Tabs(('Sentiment overview', sentiment_plot), \\\n",
    "    ('Positive', pn.widgets.DataFrame(positive_df, autosize_mode='fit_columns', width=700, height=300)),\\\n",
    "         ('Negative', pn.widgets.DataFrame(negative_df, autosize_mode='fit_columns', width=700, height=300)),\\\n",
    "            ('Neutral', pn.widgets.DataFrame(neutral_df, autosize_mode='fit_columns', width=700, height=300)))\n",
    "\n",
    "sentiment_tabs"
   ]
  },
  {
   "attachments": {},
   "cell_type": "markdown",
   "metadata": {},
   "source": [
    "### Word cloud"
   ]
  },
  {
   "cell_type": "code",
   "execution_count": 50,
   "metadata": {},
   "outputs": [],
   "source": [
    "stopwords = set(STOPWORDS)"
   ]
  },
  {
   "cell_type": "code",
   "execution_count": 51,
   "metadata": {},
   "outputs": [],
   "source": [
    "transcript = data['text']"
   ]
  },
  {
   "cell_type": "code",
   "execution_count": 52,
   "metadata": {},
   "outputs": [
    {
     "data": {
      "text/plain": [
       "['hello,',\n",
       " 'and',\n",
       " 'welcome',\n",
       " 'to',\n",
       " 'python',\n",
       " 'bytes,',\n",
       " 'where',\n",
       " 'we',\n",
       " 'deliver',\n",
       " 'python',\n",
       " 'news',\n",
       " 'and',\n",
       " 'headlines',\n",
       " 'directly',\n",
       " 'to',\n",
       " 'your',\n",
       " 'earbuds.',\n",
       " 'this',\n",
       " 'is',\n",
       " 'episode',\n",
       " '286,',\n",
       " 'recorded',\n",
       " 'may',\n",
       " '31,',\n",
       " '2022.',\n",
       " \"i'm\",\n",
       " 'michael',\n",
       " 'kennedy.',\n",
       " 'and',\n",
       " \"i'm\",\n",
       " 'brian',\n",
       " 'akin.',\n",
       " 'and',\n",
       " 'this',\n",
       " 'episode',\n",
       " 'is',\n",
       " 'brought',\n",
       " 'to',\n",
       " 'you',\n",
       " 'by',\n",
       " 'us.',\n",
       " 'if',\n",
       " 'you',\n",
       " 'are',\n",
       " 'looking',\n",
       " 'to',\n",
       " 'learn',\n",
       " 'python,',\n",
       " 'check',\n",
       " 'out',\n",
       " 'all',\n",
       " 'the',\n",
       " 'courses',\n",
       " 'over',\n",
       " 'at',\n",
       " 'talk',\n",
       " 'python',\n",
       " 'training.',\n",
       " 'if',\n",
       " 'you',\n",
       " 'want',\n",
       " 'to',\n",
       " 'get',\n",
       " 'better',\n",
       " 'with',\n",
       " 'testing,',\n",
       " 'check',\n",
       " 'out',\n",
       " \"brian's\",\n",
       " 'pytest',\n",
       " 'book,',\n",
       " 'second',\n",
       " 'edition.',\n",
       " 'yes.',\n",
       " 'yeah.',\n",
       " 'yes,',\n",
       " 'indeed.',\n",
       " 'indeed.',\n",
       " 'all',\n",
       " 'right,',\n",
       " 'well,',\n",
       " \"let's\",\n",
       " 'jump',\n",
       " 'right',\n",
       " 'into',\n",
       " 'it,',\n",
       " 'brian.',\n",
       " 'okay.',\n",
       " 'actually,',\n",
       " 'about',\n",
       " 'the',\n",
       " 'gill,',\n",
       " 'i',\n",
       " 'do',\n",
       " 'want',\n",
       " 'to',\n",
       " 'talk',\n",
       " 'about',\n",
       " 'the',\n",
       " 'gill,',\n",
       " 'but',\n",
       " 'i',\n",
       " 'was',\n",
       " 'just',\n",
       " 'realizing',\n",
       " \"we're\",\n",
       " 'at',\n",
       " '286.',\n",
       " 'i',\n",
       " 'just',\n",
       " 'started',\n",
       " 'watching',\n",
       " 'big',\n",
       " 'bang',\n",
       " 'theory',\n",
       " 'with',\n",
       " 'my',\n",
       " 'youngest',\n",
       " 'kid,',\n",
       " 'and',\n",
       " 'and',\n",
       " \"there's\",\n",
       " '279',\n",
       " 'episodes',\n",
       " 'of',\n",
       " 'them.',\n",
       " 'so',\n",
       " 'we',\n",
       " 'have',\n",
       " 'more',\n",
       " 'than',\n",
       " 'it',\n",
       " 'went',\n",
       " 'on',\n",
       " 'forever,',\n",
       " 'and',\n",
       " 'we',\n",
       " 'have',\n",
       " 'more',\n",
       " 'episodes',\n",
       " 'than',\n",
       " 'them.',\n",
       " \"that's\",\n",
       " 'quite',\n",
       " 'a',\n",
       " 'milestone.',\n",
       " 'i',\n",
       " 'mean,',\n",
       " 'you',\n",
       " 'divide',\n",
       " 'that',\n",
       " 'by',\n",
       " '52,',\n",
       " \"that's\",\n",
       " 'a',\n",
       " 'lot',\n",
       " 'of',\n",
       " 'years.',\n",
       " \"we've\",\n",
       " 'been',\n",
       " 'doing',\n",
       " 'this',\n",
       " 'for',\n",
       " 'a',\n",
       " 'while.',\n",
       " 'yeah.',\n",
       " 'so',\n",
       " 'python',\n",
       " 'and',\n",
       " 'the',\n",
       " 'gill.',\n",
       " 'so',\n",
       " 'the',\n",
       " 'gill',\n",
       " 'is',\n",
       " 'a',\n",
       " 'thing,',\n",
       " 'right?',\n",
       " \"it's\",\n",
       " 'like',\n",
       " 'something',\n",
       " 'everybody',\n",
       " 'knows',\n",
       " 'about,',\n",
       " 'i',\n",
       " 'think.',\n",
       " 'people',\n",
       " 'know',\n",
       " 'about,',\n",
       " 'but',\n",
       " 'not',\n",
       " 'too',\n",
       " 'much.',\n",
       " 'so',\n",
       " 'it',\n",
       " 'means',\n",
       " 'we',\n",
       " \"can't\",\n",
       " 'do',\n",
       " 'multiprocessing,',\n",
       " 'but',\n",
       " 'we',\n",
       " 'can.',\n",
       " 'but',\n",
       " 'we',\n",
       " \"can't.\",\n",
       " 'so',\n",
       " 'what',\n",
       " 'is',\n",
       " 'it?',\n",
       " 'and',\n",
       " 'so',\n",
       " 'i',\n",
       " 'really',\n",
       " 'like',\n",
       " 'this',\n",
       " 'article.',\n",
       " 'so',\n",
       " 'this',\n",
       " 'is',\n",
       " 'an',\n",
       " 'article',\n",
       " 'called',\n",
       " 'the',\n",
       " 'python',\n",
       " 'gill',\n",
       " 'past,',\n",
       " 'present,',\n",
       " 'and',\n",
       " 'future,',\n",
       " 'because',\n",
       " 'we',\n",
       " 'have',\n",
       " 'been',\n",
       " 'talking',\n",
       " 'about',\n",
       " 'some',\n",
       " 'of',\n",
       " 'the',\n",
       " 'no',\n",
       " 'gill',\n",
       " 'options',\n",
       " 'that',\n",
       " 'are',\n",
       " 'coming.',\n",
       " 'so',\n",
       " 'this',\n",
       " 'is',\n",
       " 'really',\n",
       " 'nice.',\n",
       " 'who',\n",
       " 'is',\n",
       " 'it?',\n",
       " 'barry',\n",
       " 'warsaw',\n",
       " 'and',\n",
       " 'pavlopolowics,',\n",
       " 'i',\n",
       " 'think.',\n",
       " 'anyway,',\n",
       " 'really',\n",
       " 'great',\n",
       " 'article',\n",
       " 'on',\n",
       " 'the',\n",
       " 'back',\n",
       " 'blaze',\n",
       " 'blog.',\n",
       " 'and',\n",
       " 'it',\n",
       " 'starts',\n",
       " 'out',\n",
       " 'and',\n",
       " 'goes',\n",
       " 'through',\n",
       " 'sort',\n",
       " 'of',\n",
       " 'what',\n",
       " 'is',\n",
       " 'the',\n",
       " 'gill,',\n",
       " 'why',\n",
       " 'we',\n",
       " 'have',\n",
       " 'it?',\n",
       " \"it's\",\n",
       " 'a',\n",
       " 'lot',\n",
       " 'around',\n",
       " 'the',\n",
       " 'way',\n",
       " 'in',\n",
       " 'some',\n",
       " 'of',\n",
       " 'the',\n",
       " 'history',\n",
       " 'is',\n",
       " 'around',\n",
       " 'reference',\n",
       " 'counting.',\n",
       " 'and',\n",
       " 'maybe',\n",
       " 'you',\n",
       " 'knew',\n",
       " 'that',\n",
       " 'off',\n",
       " 'the',\n",
       " 'top',\n",
       " 'of',\n",
       " 'your',\n",
       " 'head,',\n",
       " 'but',\n",
       " 'i',\n",
       " 'forgot',\n",
       " 'that.',\n",
       " 'reference',\n",
       " 'counting',\n",
       " 'is',\n",
       " 'something',\n",
       " \"that's\",\n",
       " 'how',\n",
       " 'we',\n",
       " 'do',\n",
       " 'memory',\n",
       " 'management',\n",
       " 'and',\n",
       " 'all',\n",
       " 'sorts',\n",
       " 'of',\n",
       " 'stuff',\n",
       " 'within',\n",
       " 'python.',\n",
       " 'but',\n",
       " 'to',\n",
       " 'make',\n",
       " 'it',\n",
       " 'an',\n",
       " 'easy',\n",
       " 'implementation,',\n",
       " \"there's\",\n",
       " 'this',\n",
       " 'global',\n",
       " 'interpreter',\n",
       " 'lock,',\n",
       " 'and',\n",
       " 'that',\n",
       " 'just',\n",
       " 'basically,',\n",
       " 'instead',\n",
       " 'of',\n",
       " 'lock,',\n",
       " 'like',\n",
       " 'other',\n",
       " 'code,',\n",
       " 'you',\n",
       " 'lock',\n",
       " 'individual',\n",
       " 'items,',\n",
       " 'shared',\n",
       " 'memory',\n",
       " 'that',\n",
       " \"you're\",\n",
       " 'using.',\n",
       " 'we',\n",
       " 'just',\n",
       " 'say',\n",
       " 'the',\n",
       " 'interpreter.',\n",
       " \"let's\",\n",
       " 'just',\n",
       " 'lock',\n",
       " 'that',\n",
       " 'and',\n",
       " 'all',\n",
       " 'of',\n",
       " 'the',\n",
       " 'variables',\n",
       " 'that',\n",
       " 'it',\n",
       " 'uses.',\n",
       " \"it's\",\n",
       " 'not',\n",
       " 'just',\n",
       " 'reference',\n",
       " 'counts,',\n",
       " 'but',\n",
       " 'other',\n",
       " 'things,',\n",
       " 'too.',\n",
       " 'and',\n",
       " 'this',\n",
       " 'is',\n",
       " 'just',\n",
       " \"it's\",\n",
       " 'a',\n",
       " 'fairly',\n",
       " 'quick',\n",
       " 'read,',\n",
       " 'but',\n",
       " 'enough',\n",
       " 'detail',\n",
       " 'that',\n",
       " 'you',\n",
       " 'really',\n",
       " 'kind',\n",
       " 'of',\n",
       " 'understand',\n",
       " \"what's\",\n",
       " 'going',\n",
       " 'on.',\n",
       " 'does',\n",
       " 'talk',\n",
       " 'through',\n",
       " 'reference',\n",
       " 'counting,',\n",
       " 'talks',\n",
       " 'through',\n",
       " 'some',\n",
       " 'of',\n",
       " 'the',\n",
       " 'advantages',\n",
       " 'why',\n",
       " \"it's\",\n",
       " 'really',\n",
       " 'kind',\n",
       " 'of',\n",
       " 'handy',\n",
       " 'to',\n",
       " 'have',\n",
       " 'it',\n",
       " 'around,',\n",
       " 'but',\n",
       " 'then',\n",
       " 'attempts',\n",
       " 'to',\n",
       " 'remove',\n",
       " 'it.',\n",
       " 'and',\n",
       " 'including,',\n",
       " 'like,',\n",
       " 'i',\n",
       " \"didn't\",\n",
       " 'know',\n",
       " 'about',\n",
       " 'this',\n",
       " 'one.',\n",
       " 'there',\n",
       " 'was',\n",
       " 'a',\n",
       " 'free',\n",
       " 'threading',\n",
       " 'one',\n",
       " 'in',\n",
       " '99',\n",
       " 'from',\n",
       " '90',\n",
       " '99.',\n",
       " 'yeah,',\n",
       " \"that's\",\n",
       " 'i',\n",
       " \"didn't\",\n",
       " 'know',\n",
       " 'about',\n",
       " 'that',\n",
       " 'one.',\n",
       " 'yeah,',\n",
       " 'newsday.',\n",
       " 'it',\n",
       " 'actually',\n",
       " 'was',\n",
       " 'successful.',\n",
       " 'it',\n",
       " 'just',\n",
       " 'made',\n",
       " 'your',\n",
       " 'python',\n",
       " 'code',\n",
       " 'really',\n",
       " 'slow.',\n",
       " 'so',\n",
       " 'not',\n",
       " 'good.',\n",
       " 'and',\n",
       " 'then',\n",
       " 'larry',\n",
       " 'hastings',\n",
       " 'galectomy,',\n",
       " 'that',\n",
       " \"he's\",\n",
       " 'had',\n",
       " 'a',\n",
       " 'lot',\n",
       " 'of',\n",
       " 'python',\n",
       " 'talks',\n",
       " 'or',\n",
       " 'a',\n",
       " 'few',\n",
       " 'pycon',\n",
       " 'talks',\n",
       " 'around',\n",
       " 'this.',\n",
       " 'so',\n",
       " \"that's\",\n",
       " 'an',\n",
       " 'interesting',\n",
       " 'thing',\n",
       " 'to',\n",
       " 'read',\n",
       " 'about.',\n",
       " \"there's\",\n",
       " 'quite',\n",
       " 'a',\n",
       " 'few',\n",
       " 'interesting',\n",
       " 'bits',\n",
       " 'in',\n",
       " 'there,',\n",
       " 'but',\n",
       " 'it',\n",
       " 'never',\n",
       " 'really',\n",
       " 'got',\n",
       " 'back',\n",
       " 'into',\n",
       " 'main',\n",
       " 'python.',\n",
       " 'but',\n",
       " \"we're\",\n",
       " 'getting',\n",
       " 'a',\n",
       " 'little',\n",
       " 'closer',\n",
       " 'with',\n",
       " 'this',\n",
       " 'no',\n",
       " 'gill',\n",
       " 'stuff.',\n",
       " 'so',\n",
       " \"there's\",\n",
       " 'no',\n",
       " 'gill',\n",
       " 'stuff',\n",
       " 'going',\n",
       " 'on',\n",
       " 'with',\n",
       " 'sam',\n",
       " 'gross.',\n",
       " 'from',\n",
       " 'sam',\n",
       " 'gross?',\n",
       " 'yeah.',\n",
       " 'and',\n",
       " 'then',\n",
       " 'also',\n",
       " \"we've\",\n",
       " 'got',\n",
       " 'guido',\n",
       " 'and',\n",
       " 'others',\n",
       " 'in',\n",
       " 'microsoft',\n",
       " 'now',\n",
       " 'working',\n",
       " 'on',\n",
       " 'this',\n",
       " 'problem',\n",
       " 'of',\n",
       " 'speeding',\n",
       " 'it',\n",
       " 'up',\n",
       " 'and',\n",
       " 'everything.',\n",
       " 'so',\n",
       " 'really',\n",
       " 'great',\n",
       " 'discussion',\n",
       " 'if',\n",
       " 'you',\n",
       " 'want',\n",
       " 'to',\n",
       " 'catch',\n",
       " 'up',\n",
       " 'on',\n",
       " 'all',\n",
       " 'the',\n",
       " 'history',\n",
       " 'of',\n",
       " 'the',\n",
       " 'gill',\n",
       " 'and',\n",
       " 'where',\n",
       " \"it's\",\n",
       " 'going.',\n",
       " 'and',\n",
       " 'then',\n",
       " 'a',\n",
       " 'little',\n",
       " 'prediction',\n",
       " 'at',\n",
       " 'the',\n",
       " 'end',\n",
       " 'of',\n",
       " \"we're\",\n",
       " 'going',\n",
       " 'to',\n",
       " 'see',\n",
       " 'speed',\n",
       " 'ups',\n",
       " 'because',\n",
       " 'of',\n",
       " 'these',\n",
       " 'efforts,',\n",
       " \"we're\",\n",
       " 'going',\n",
       " 'to',\n",
       " 'see',\n",
       " 'speed',\n",
       " 'ups',\n",
       " 'in',\n",
       " 'the',\n",
       " 'next',\n",
       " 'few',\n",
       " 'years.',\n",
       " \"it's\",\n",
       " 'just',\n",
       " 'going',\n",
       " 'to',\n",
       " 'get',\n",
       " 'faster.',\n",
       " 'and',\n",
       " 'then',\n",
       " 'if',\n",
       " 'we',\n",
       " 'get',\n",
       " 'no',\n",
       " 'gill,',\n",
       " 'it',\n",
       " 'might',\n",
       " 'be',\n",
       " 'maybe',\n",
       " 'five',\n",
       " 'years',\n",
       " 'from',\n",
       " 'now.',\n",
       " \"it's\",\n",
       " 'pretty',\n",
       " 'exciting.',\n",
       " \"there's\",\n",
       " 'some',\n",
       " 'very',\n",
       " 'neat',\n",
       " 'work.',\n",
       " 'the',\n",
       " 'stuff',\n",
       " 'that',\n",
       " 'simross',\n",
       " 'is',\n",
       " 'doing',\n",
       " 'is',\n",
       " 'quite',\n",
       " 'interesting.',\n",
       " 'yeah.',\n",
       " \"what's\",\n",
       " 'really',\n",
       " 'cool',\n",
       " 'is',\n",
       " \"it's\",\n",
       " 'not',\n",
       " 'just',\n",
       " 'theory',\n",
       " 'or',\n",
       " 'people',\n",
       " 'playing.',\n",
       " 'right.',\n",
       " 'the',\n",
       " 'python',\n",
       " '311',\n",
       " 'is',\n",
       " 'a',\n",
       " 'lot',\n",
       " 'faster',\n",
       " 'than',\n",
       " 'the',\n",
       " 'previous',\n",
       " 'pythons',\n",
       " 'already,',\n",
       " 'and',\n",
       " 'it',\n",
       " \"doesn't\",\n",
       " 'even',\n",
       " 'really',\n",
       " 'touch',\n",
       " 'the',\n",
       " 'gill',\n",
       " 'side',\n",
       " 'of',\n",
       " 'things.',\n",
       " 'so',\n",
       " \"there's\",\n",
       " 'actual',\n",
       " 'progress',\n",
       " 'being',\n",
       " 'made.',\n",
       " 'yeah.',\n",
       " 'and',\n",
       " \"it's\",\n",
       " 'pretty',\n",
       " 'exciting.',\n",
       " 'pretty',\n",
       " 'exciting',\n",
       " 'time',\n",
       " 'to',\n",
       " 'be',\n",
       " 'part',\n",
       " 'of',\n",
       " 'python.',\n",
       " \"it's\",\n",
       " 'never',\n",
       " 'not',\n",
       " 'been',\n",
       " 'exciting,',\n",
       " 'but',\n",
       " 'it',\n",
       " 'only',\n",
       " 'gets',\n",
       " 'more',\n",
       " 'exciting.',\n",
       " \"how's\",\n",
       " 'that?',\n",
       " 'yeah.',\n",
       " 'hey,',\n",
       " 'let',\n",
       " 'me',\n",
       " 'ask',\n",
       " 'you',\n",
       " 'a',\n",
       " 'meta',\n",
       " 'question.',\n",
       " 'so',\n",
       " 'this',\n",
       " 'is',\n",
       " 'on',\n",
       " 'the',\n",
       " 'back',\n",
       " 'blaze',\n",
       " 'blog.',\n",
       " 'so',\n",
       " 'backblaze.com',\n",
       " 'is',\n",
       " 'one',\n",
       " 'of',\n",
       " 'the,',\n",
       " 'i',\n",
       " 'think,',\n",
       " 'better',\n",
       " 'sort',\n",
       " 'of',\n",
       " 'backup',\n",
       " 'my',\n",
       " 'computer,',\n",
       " 'somewhere',\n",
       " 'off',\n",
       " 'site',\n",
       " 'sort',\n",
       " 'of',\n",
       " 'things.',\n",
       " 'and',\n",
       " 'the',\n",
       " 'fact',\n",
       " 'that',\n",
       " \"they're\",\n",
       " 'blogging',\n",
       " 'about',\n",
       " 'the',\n",
       " 'python',\n",
       " 'gill',\n",
       " 'is',\n",
       " 'kind',\n",
       " 'of',\n",
       " 'interesting.',\n",
       " 'i',\n",
       " 'wonder',\n",
       " 'if',\n",
       " \"they're\",\n",
       " 'a',\n",
       " 'big',\n",
       " 'python',\n",
       " 'shop',\n",
       " 'and',\n",
       " 'we',\n",
       " 'just',\n",
       " \"didn't\",\n",
       " 'know',\n",
       " 'it.',\n",
       " 'well,',\n",
       " 'i',\n",
       " \"didn't\",\n",
       " 'know',\n",
       " \"it's\",\n",
       " 'on',\n",
       " 'their',\n",
       " 'blog,',\n",
       " 'but',\n",
       " \"we've\",\n",
       " 'got',\n",
       " 'barry',\n",
       " 'warsaw.',\n",
       " \"it's\",\n",
       " 'written',\n",
       " 'by',\n",
       " 'barry',\n",
       " 'warsaw',\n",
       " 'powell.',\n",
       " 'he',\n",
       " 'says',\n",
       " \"he's\",\n",
       " 'currently',\n",
       " 'a',\n",
       " 'senior',\n",
       " 'engineer',\n",
       " 'at',\n",
       " 'linkedin.',\n",
       " 'yeah,',\n",
       " \"i'm\",\n",
       " 'not',\n",
       " 'sure.',\n",
       " 'sometimes',\n",
       " 'life',\n",
       " 'is',\n",
       " 'confusing.',\n",
       " 'yeah.',\n",
       " 'not',\n",
       " 'sure',\n",
       " 'how',\n",
       " 'this',\n",
       " 'ended',\n",
       " 'up',\n",
       " 'there,',\n",
       " 'but',\n",
       " \"it's\",\n",
       " 'cool',\n",
       " 'to',\n",
       " 'see',\n",
       " 'back',\n",
       " 'blaze',\n",
       " 'supported',\n",
       " 'in',\n",
       " 'the',\n",
       " 'python',\n",
       " 'world',\n",
       " 'with',\n",
       " 'some',\n",
       " 'dives',\n",
       " 'into',\n",
       " 'that.',\n",
       " 'yeah.',\n",
       " 'maybe',\n",
       " 'somebody',\n",
       " 'from',\n",
       " 'backslay',\n",
       " 'can',\n",
       " 'reach',\n",
       " 'out',\n",
       " 'to',\n",
       " 'us',\n",
       " 'and',\n",
       " 'tell',\n",
       " 'us',\n",
       " \"what's\",\n",
       " 'going',\n",
       " 'on.',\n",
       " 'yeah,',\n",
       " \"that'd\",\n",
       " 'be',\n",
       " 'great.',\n",
       " 'also',\n",
       " 'great.',\n",
       " \"wouldn't\",\n",
       " 'it',\n",
       " 'be',\n",
       " 'cool,',\n",
       " 'brian,',\n",
       " 'if',\n",
       " 'we',\n",
       " 'could',\n",
       " 'take',\n",
       " 'our',\n",
       " 'python',\n",
       " 'program,',\n",
       " 'whether',\n",
       " 'this',\n",
       " 'is',\n",
       " 'a',\n",
       " 'cli',\n",
       " 'or',\n",
       " 'some',\n",
       " 'other',\n",
       " 'app',\n",
       " 'that',\n",
       " 'we',\n",
       " 'need',\n",
       " 'to',\n",
       " 'have',\n",
       " 'for',\n",
       " 'people',\n",
       " 'to',\n",
       " 'run?',\n",
       " 'and',\n",
       " 'instead',\n",
       " 'of',\n",
       " 'saying,',\n",
       " 'well,',\n",
       " 'make',\n",
       " 'sure',\n",
       " 'you',\n",
       " 'have',\n",
       " 'this',\n",
       " 'version',\n",
       " 'of',\n",
       " 'python,',\n",
       " 'at',\n",
       " 'least',\n",
       " 'to',\n",
       " 'make',\n",
       " 'sure',\n",
       " \"you've\",\n",
       " 'set',\n",
       " 'up',\n",
       " 'a',\n",
       " 'virtual',\n",
       " 'environment,',\n",
       " \"you've\",\n",
       " 'installed',\n",
       " 'these',\n",
       " 'things,',\n",
       " 'and',\n",
       " 'then',\n",
       " \"you've\",\n",
       " 'got',\n",
       " 'this',\n",
       " 'in',\n",
       " 'the',\n",
       " 'path,',\n",
       " 'and',\n",
       " 'then',\n",
       " 'you',\n",
       " 'got',\n",
       " 'this',\n",
       " 'environment',\n",
       " 'variable.',\n",
       " 'now',\n",
       " 'you',\n",
       " 'can',\n",
       " 'try',\n",
       " 'to',\n",
       " 'run',\n",
       " 'our',\n",
       " 'thing',\n",
       " 'i',\n",
       " 'gave',\n",
       " 'you.',\n",
       " 'if',\n",
       " 'you',\n",
       " 'could',\n",
       " 'just',\n",
       " 'give',\n",
       " 'them',\n",
       " 'a',\n",
       " 'single',\n",
       " 'binary',\n",
       " 'that',\n",
       " 'contained',\n",
       " 'all',\n",
       " 'of',\n",
       " 'python,',\n",
       " 'contained',\n",
       " 'the',\n",
       " 'standard',\n",
       " 'library,',\n",
       " 'and',\n",
       " 'you',\n",
       " 'said',\n",
       " 'you',\n",
       " 'run',\n",
       " 'this',\n",
       " 'and',\n",
       " \"that's\",\n",
       " 'your',\n",
       " 'app.',\n",
       " \"that's\",\n",
       " 'not',\n",
       " 'bad,',\n",
       " 'right?',\n",
       " 'yeah.',\n",
       " 'so',\n",
       " 'let',\n",
       " 'me',\n",
       " 'introduce',\n",
       " 'you',\n",
       " ...]"
      ]
     },
     "execution_count": 52,
     "metadata": {},
     "output_type": "execute_result"
    }
   ],
   "source": [
    "transcript_lower = [item.lower() for item in str(transcript).split()]\n",
    "transcript_lower"
   ]
  },
  {
   "cell_type": "code",
   "execution_count": 53,
   "metadata": {},
   "outputs": [
    {
     "data": {
      "text/plain": [
       "\"hello, and welcome to python bytes, where we deliver python news and headlines directly to your earbuds. this is episode 286, recorded may 31, 2022. i'm michael kennedy. and i'm brian akin. and this episode is brought to you by us. if you are looking to learn python, check out all the courses over at talk python training. if you want to get better with testing, check out brian's pytest book, second edition. yes. yeah. yes, indeed. indeed. all right, well, let's jump right into it, brian. okay. actually, about the gill, i do want to talk about the gill, but i was just realizing we're at 286. i just started watching big bang theory with my youngest kid, and and there's 279 episodes of them. so we have more than it went on forever, and we have more episodes than them. that's quite a milestone. i mean, you divide that by 52, that's a lot of years. we've been doing this for a while. yeah. so python and the gill. so the gill is a thing, right? it's like something everybody knows about, i think. people know about, but not too much. so it means we can't do multiprocessing, but we can. but we can't. so what is it? and so i really like this article. so this is an article called the python gill past, present, and future, because we have been talking about some of the no gill options that are coming. so this is really nice. who is it? barry warsaw and pavlopolowics, i think. anyway, really great article on the back blaze blog. and it starts out and goes through sort of what is the gill, why we have it? it's a lot around the way in some of the history is around reference counting. and maybe you knew that off the top of your head, but i forgot that. reference counting is something that's how we do memory management and all sorts of stuff within python. but to make it an easy implementation, there's this global interpreter lock, and that just basically, instead of lock, like other code, you lock individual items, shared memory that you're using. we just say the interpreter. let's just lock that and all of the variables that it uses. it's not just reference counts, but other things, too. and this is just it's a fairly quick read, but enough detail that you really kind of understand what's going on. does talk through reference counting, talks through some of the advantages why it's really kind of handy to have it around, but then attempts to remove it. and including, like, i didn't know about this one. there was a free threading one in 99 from 90 99. yeah, that's i didn't know about that one. yeah, newsday. it actually was successful. it just made your python code really slow. so not good. and then larry hastings galectomy, that he's had a lot of python talks or a few pycon talks around this. so that's an interesting thing to read about. there's quite a few interesting bits in there, but it never really got back into main python. but we're getting a little closer with this no gill stuff. so there's no gill stuff going on with sam gross. from sam gross? yeah. and then also we've got guido and others in microsoft now working on this problem of speeding it up and everything. so really great discussion if you want to catch up on all the history of the gill and where it's going. and then a little prediction at the end of we're going to see speed ups because of these efforts, we're going to see speed ups in the next few years. it's just going to get faster. and then if we get no gill, it might be maybe five years from now. it's pretty exciting. there's some very neat work. the stuff that simross is doing is quite interesting. yeah. what's really cool is it's not just theory or people playing. right. the python 311 is a lot faster than the previous pythons already, and it doesn't even really touch the gill side of things. so there's actual progress being made. yeah. and it's pretty exciting. pretty exciting time to be part of python. it's never not been exciting, but it only gets more exciting. how's that? yeah. hey, let me ask you a meta question. so this is on the back blaze blog. so backblaze.com is one of the, i think, better sort of backup my computer, somewhere off site sort of things. and the fact that they're blogging about the python gill is kind of interesting. i wonder if they're a big python shop and we just didn't know it. well, i didn't know it's on their blog, but we've got barry warsaw. it's written by barry warsaw powell. he says he's currently a senior engineer at linkedin. yeah, i'm not sure. sometimes life is confusing. yeah. not sure how this ended up there, but it's cool to see back blaze supported in the python world with some dives into that. yeah. maybe somebody from backslay can reach out to us and tell us what's going on. yeah, that'd be great. also great. wouldn't it be cool, brian, if we could take our python program, whether this is a cli or some other app that we need to have for people to run? and instead of saying, well, make sure you have this version of python, at least to make sure you've set up a virtual environment, you've installed these things, and then you've got this in the path, and then you got this environment variable. now you can try to run our thing i gave you. if you could just give them a single binary that contained all of python, contained the standard library, and you said you run this and that's your app. that's not bad, right? yeah. so let me introduce you to pyoxy, the pyoxy python runner. now, a while ago, we spoke about this thing called pyoxygen no pioxidizer. that's what it was. pi oxidizer. and this is kind of like an advanced version of pi two exe or pi to app or pi installer. but what's really nice is that it bundles the stuff up just sort of all into one thing and it runs out of memory instead of creating a file structure of the files that you need and then sort of altering the path. so like a copy of python will run that and so on. so this pyoxy attempts to make the features of pyoxidizer more accessible and simpler for people. so here's the deal. it is an executable program for running python interpreters. so you can just give somebody this one pyoxy file and instead of saying python this, they can say pyoxy some python file, right? you can say like run python or run python and give it a file or something along those lines, right? and it's just a thing you copy around. you don't have to worry about installing it or configuring your system or anything like that. so it's kind of a really easy way to pass around and executable that is python and the standard library without all the overhead or set up of actually installing a python runtime. okay? yeah. so let me go back up here. that's pretty cool. it's a single file that is a highly portable distribution of c python. so for example, on macos and the linux, it statically links in a lot of the files that are dependencies that you might find. so if you try to run something in python, it might go like oh, you have to install this other c library in order for it to work correctly. so all those things are also like its dependencies are statically compiled into it, which is pretty cool. another thing that's interesting is it gives you a lot more control over the interpreter and how it behaves. like you can pass it configuration files and do all sorts of crazy stuff to really tweak the behavior of the runtime, the python runtime that it comes with. and it's just to sort of make pyoxidizer apps more accessible. okay. it's built with pi oxidizer and basically it gives you its own standalone one. like i said, it has the whole interpreter, it has the stuff statically linked, it has the standard library, and i think you can link your own libraries into it as well, which is pretty awesome. and you could also give it, like i said, more control. so you can create a configuration yaml file. and when you run it, you can say i want you to debug allocations or i want you to run this command to initialize the interpreter before it starts to run any code and things like that. so you can give it this yaml config file and so on. so anyway, it's a pretty new project. this is from gregory source and he says very young, i hacked it together to try to get better exposure for pi oxidizer, for people who want to build things that they can distribute more easily and so on. and for me, he's talking about, oh, there's some certain circumstances where maybe you want to have people run your script so you can send the script and then this thing and so on. it's supposed to be sort of on par with zipapp, which lets you ship the zipped up thing of your app and then run it. but the benefit is it already comes with python. like, a lot of these zip, shiv, pecs, et cetera, they all require that python is installed on the system, and then you can run that right with its dependencies. but this is like, no, it even comes with python, so all that is pretty good. what i would love to see out of this is, could i take this and build some sort of ui framework pair that, i don't know, maybe with pi scripts, and then get a ui framework i can ship to people and just go download this, double click it, there's your app. who knows? yeah. but anyway, if you're shipping python to people, this might be worth checking out. yeah, neat. yeah. kim out in the audience asked, it looks very handy. does it make cross platform executable? i think you might have to run a build command or something, or ship the right binary for each platform, but it does support mac os, windows, and linux, so that's pretty cool. now, maybe you covered this and i just missed it. does it deal with my dependencies? like, if i have third party dependencies, that's what i'm not 100% sure how to do. when i looked through it, i was looking for that. there's this oxidized importer, which it talks about like this embeds a copy of the python standard library, and it imports from memory using the oxidized importer. i think that you could use that as well for your own dependencies. and i'm pretty sure that's the goal of this pi oxidizer project in the first place, so i would think so, but nothing from this article was really clear. like, here's how you bring in requests or httpx or whatever you're going to bring along. yeah, okay. or pytest. i was actually just thinking, if i run these tests well, what version are you using? okay, just fine. here, just install this and run run this test with this. and that would be yeah, exactly. yeah. alvaro is when i was talking about ui stuff, he says, what about pi oxyplus textual? that'd be pretty neat as well. yeah, just around the corner. yeah. cool. all right, well, nice that's pyoxy people can check it out. all right, well, how about regular expressions? do you like those? when they work, i love them. when they don't, i'm like, what is this madness i've gotten myself into? okay, so i was almost afraid to talk about this, but it's a really awesome article because sometimes you need regular expressions. and one of the things there's lots that i like about this article, what i'm talking about is an article called the unreasonable effectiveness of f strings and verbose. so regular expressions and all languages, i think, including python, have a notion of verbose mode. and i've always been enticed by this. the verbose mode idea is that you can like, instead of having this weird, you still have the hard to read regular expression stuff, but you can put comment, you can put spaces and comments in it. it could be multiline, right? what? it could be multiline. yeah, it could be multiline. and you can have a bunch of comments in there to say, oh, this part of the regular expression, what it's doing is this. so it makes it little snippets of regular expression are easier to read. you're like, oh, yeah, i can see that it's doing that great. it's when you clog it all together, which it makes it really hard to read. and then, of course, you can build up strings in python with f strings and do string replacement. how awesome. so that's what this article is about, is really talking about taking some of the complicated bits of your regular expression or duplicated bits, where it shows up several times in your regular expression and pulling that string out and even maybe commenting that and then dropping it in with f strings to build up a complex regular expression. it's brilliant. and it also is one of the best explanations i've ever read on verbose regular expressions. so it's pretty cool. yeah. i never really thought to refactor the pattern so that you have multiple strings. here's the part that's repeated. so we'll have a pattern that that's that thing and then f string it into the other pieces. yeah. but it makes perfect sense. of course you should do it. yeah. and now i don't use it, actually, i kind of do. i use regular expressions on a regular basis, but not like every day. but it's always something that whenever i put it in there, i'm like, is anybody else going to be able to read this? and so i put comments around it, but i have never really embraced verbose mode, and i'm definitely going to use this now, for sure. the other thing real quick is you can have f strings and you can have raw strings, and you can have raw f strings, apparently, in python. so the prefix is fraud. quote multi line like that. that's some serious string action happening right there, man. yeah. raw f strings. nice. yeah. and neil out in the audience asks you, brian, do you like your regular expressions? greedy or non greedy? okay. it depends on what you're trying to do. yeah, i don't want mine to be greedy. let's share kindly. all right, are we ready for the next one? yes. cool. all right. so this one i want to talk about. i'm going to start off from a weird place, from a tweet that i gave because i can't find anywhere else to talk about it. this is why this needs talking about. so i just want to sort of highlight some really cool stuff for people who are using pie charm and doing open source stuff that involves pull requests. and these could be pull requests to your private repo. like one team member gave a pr back to the repo. it doesn't have to be open open source. okay. so if you're using pycharm, check this out. let me pull up this screen. come on. i'm not logged in. oh, there we go. i thought it might not let me get the image up anyway. so check this out. so people are probably familiar with the get support in pycharm vs code pycharm. they all have really good get support. you can see your changes. a lot of times you have this gray little overlay that says who recently edited a file or a line. it's really cool to go back with get lens turned on for c python because you'll see stuff from like 30 years ago. guido made this commit and here's the commit message. you're like what? this is crazy. right? but working with prs is one of the things that doesn't normally seem to fit. and so i don't know when this got in there, but not too recently. there's now a pull request tab. so if you open a github repository, if you're logged in to github and that github repository has a pull request and you open up the section, it gives you a list of all the open. and i guess maybe you can toggle it close as well. but all the list of the open pull request, if you click on one of them, it will show you all the details of the pull request, the whole conversation. if you click on that, who's the reviewer, you can change that, who's it assigned to, whether there's labels, whether it's been merged. wow. and then like on the right you have this whole conversation. you can see sort of the flow. this person commented this and they made these few more changes. then they commented again here. this is all really pretty neat. but the thing that is noteworthy, the reason i brought this up is there's a button that says check out. so instead of trying to create a branch or fork their repo and check in, i don't know where this repo or this pr came from or what branch it was against. i just want to check it out and run it locally, run the test against it, see what it looks like. go. isn't that awesome? yeah, that is really awesome. i like it. yeah, because normally you're juggling a lot. maybe you have ci continuous integration that tells you the linting pass, but other times you want to actually just get it and run it and play with it and decide, did this make the code slower? did it make it faster? do i like how the result of this feature looks? especially with a ui thing or something? right? yeah. so i think this is super cool, and the reason i bring it up is there's nowhere in the documentation. like, if you go over to pycharm here and you look for pull requests, they don't even mention this. right. so i don't think people necessarily know about this stealth feature. it's a stealth feature. it seems totally worth highlighting because dealing with prs in that way is actually kind of janky. it's like it takes a little bit of understanding, get maybe more than github, more than a lot of people would off the bat. so if you just go click, check out, play with it, no, i don't want it. or yes, i love it. i think that's great. i would still actually manage the pr and github, but the ability to explore it super quick and easy within your project, i think is super cool. yeah. and quickly grab the code, because i know in github you can get it, you can clone their branch. yeah, exactly. but it's hard. it's, like, not super easy. it's several clicks at least to find it. right. and do you actually want to clone to your account? maybe not. i just want to check out the code. so grab the right commit, hash shot, whatever. also, really quick, while we're on this topic, i just want to give a quick shout out to this. so if you go to just the jetbrains.com pycharm right now, across the top, there's this oh, here, there's this cool upcoming webinar, ten things can get things you wish you knew in pycharm. very oddly, that is me. so anyway, i'm going to do a webcast next week on june 7, about a whole bunch of get fun things in pycharm and ui tools and whatnot. so if people want to check that out, they definitely can. cool. yeah. all right. so that's it for my thing, though. check out if you're using pycharm, check out this pull request thing. it's even in the free version of pycharm, so it's worth noting. nice. let's see a really quick real time follow up. roman, right? hey, roman says yes. it helps me sort out prs so much. i totally agree. and then wolf says, is it available in intellij and does it work with gitlab? i don't know if it works with gitlab. i'm quite sure it's available intellij in intellij because pycharm is just basically specialized intellij, so i'd be very surprised if it weren't available in intellij, but i can't say for sure. in gitlab, i would check the documentation, but i also can't find that anyway. so on the py term side, is there supposed to, like, some ui changes that happened recently, or do you know? anyway, possibly one of the things that changed recently that was i actually kept stumbling into is like on the get stuff is they have little overlays of who made changes when. kind of like that get lens from vs code i described. they started adding that, and i kept clicking it by accident, trying to click on the line. so that's like, why does it keep popping up a diff? oh, i see. okay. i kind of crashed into it, but yeah. okay. anyway, if you're doing prs, check this out. if you're doing pr's and you can pijar them, check this out. it's definitely useful. all right, well, we have no guests, so that's our items for today, right? it is. well, we would be remiss to not have extras, though. of course. yeah. you want to do the extras first? your extras first? sure. i just got one a couple of weeks ago. i think we talked about pandas tutor switching to piadyde, i think. so there's an article that came out on the piadide blog that is pandas, about pandas tutors switching to piadi. piadi. piadi. and so the reason why i bring it up is because there's some cool stuff in here. it's not just, hey, we did this, but it's also, why did we do it? and kind of walking through some of the stuff, how they did a self contained panda's tutor wheel dealing with javascript and imports and all that sort of stuff, and the fine tuning and what work has to go further. so other people that are like, hey, this python actually proof of concept. it's starting to look cool. i want to do this, too. this might be a nice thing for people to check out. yeah, this is super nice. and i definitely think, what are the rough edges? and what worked really well. those types of lessons for now are going to be really valuable for people trying to adopt this. yeah, that's all my extras. awesome. all right, well, let's just make it a straight run for pi iodide and piscript right out. so last week i did two videos on pi script, which is based on pyodide as well. so the first one is a 30 minutes video. i sort of hinted that i was working on this, but remember, i said it wasn't quite released yet. brian last episode. so now you can check out a link to it. you can check out my 30 minutes python pi script webassembly. python web apps running locally, which is super fun. it's all about not just, let's take some python and put it in the browser, but how can you use some pi dash config settings to override where pi script actually comes from? the runtime comes from so you can put that locally in your app and then download it offline and all sorts of fun stuff there. cool. so basically building an offline progressive web app that can be almost 100% offline. this one calls an api, so it still needs this api. anyway, that was really fun. and then the next day after releasing that, it occurred to me, do you know what supports progressive web apps? ios and android. so i created a second video called python ios web apps with piscript and offline pwas. and so here is, if you're looking at the screen on my ipad, there is a web app that runs piscript talking to a flas based api over the internet. and you can go up and basically say, install this as an app on my ipad. and when you launch it, that install process already downloads the web assembly and the run the standard library and all the web assembly stuff that makes it large. so you just boom, and it opens up within less than 2 seconds. running python client side on ios. that is so cool. i'm seeing lots of uses for this. i mean, people could do dashboards of pipelines and all sorts of stuff and have them be on tablets now. yeah, absolutely. once you've already made it a progressive web app, it's like a few button clicks. this whole video about this ios thing with setting the stage and everything is 3 minutes. so it's not a hard process to make it happen, but it's just not obvious. and it's really cool that it works that way. cool. yeah. all right. well, that's it for my items. i do have a joke. nice. and i know you might have a joke as well. yeah. awesome. okay. i'll go with mine first, because mine is easy. and then i have a bonus joke for you based on your topic that i didn't see coming. okay. so this one comes from brian skin. thanks, brian. i just sort of pointed out a joke from seth, and it says, people are out here just dangerously throwing around sequel abstraction layers, and if we aren't careful, someone's going to lose an arm and orm. it's pretty good. yeah, it's really good, actually. if you are careful, you can lose your arm for good. yes. and still be all right, here's the real time joke follow up based on your reg x one. ask me why i'm looking like this. why? well, that's just my regular expression. it's terrible. it's really bad. all right. i wish i had somebody in my life i could share that with other than you. okay. if other people listen to the show, we could share with them. okay, so there's all sorts of ai and stuff going into code editors now that make them do all sorts of stuff to help you out. right? right. carmen frog looking out a rainy window when you've barely started writing a line of code and your ide already lets you know about three syntax errors, two runtime errors, a grammar mistake, five misdemeanors, contempt of court, and treason. just getting started. why is it so hard? i love it. that's really good. anyway. yeah, i kind of felt that way, too. i was playing on some stuff i'm just like, what? this is over the top, this thing. yeah, but no good. i'm glad editors can help us out, but sometimes i feel like an idiot. yes. anyway. indeed. well, great being here with you. good being here with you, indeed. thanks, everybody, for coming. bye, everyone. thanks for being here. bye. see you next time.\""
      ]
     },
     "execution_count": 53,
     "metadata": {},
     "output_type": "execute_result"
    }
   ],
   "source": [
    "all_words = ' '.join(transcript_lower)\n",
    "all_words"
   ]
  },
  {
   "cell_type": "code",
   "execution_count": 54,
   "metadata": {},
   "outputs": [
    {
     "data": {
      "application/vnd.plotly.v1+json": {
       "config": {
        "plotlyServerURL": "https://plot.ly"
       },
       "data": [
        {
         "hovertemplate": "x: %{x}<br>y: %{y}<br>color: [%{z[0]}, %{z[1]}, %{z[2]}]<extra></extra>",
         "name": "0",
         "source": "data:image/png;base64,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",
         "type": "image",
         "xaxis": "x",
         "yaxis": "y"
        }
       ],
       "layout": {
        "margin": {
         "t": 60
        },
        "template": {
         "data": {
          "bar": [
           {
            "error_x": {
             "color": "#2a3f5f"
            },
            "error_y": {
             "color": "#2a3f5f"
            },
            "marker": {
             "line": {
              "color": "#E5ECF6",
              "width": 0.5
             },
             "pattern": {
              "fillmode": "overlay",
              "size": 10,
              "solidity": 0.2
             }
            },
            "type": "bar"
           }
          ],
          "barpolar": [
           {
            "marker": {
             "line": {
              "color": "#E5ECF6",
              "width": 0.5
             },
             "pattern": {
              "fillmode": "overlay",
              "size": 10,
              "solidity": 0.2
             }
            },
            "type": "barpolar"
           }
          ],
          "carpet": [
           {
            "aaxis": {
             "endlinecolor": "#2a3f5f",
             "gridcolor": "white",
             "linecolor": "white",
             "minorgridcolor": "white",
             "startlinecolor": "#2a3f5f"
            },
            "baxis": {
             "endlinecolor": "#2a3f5f",
             "gridcolor": "white",
             "linecolor": "white",
             "minorgridcolor": "white",
             "startlinecolor": "#2a3f5f"
            },
            "type": "carpet"
           }
          ],
          "choropleth": [
           {
            "colorbar": {
             "outlinewidth": 0,
             "ticks": ""
            },
            "type": "choropleth"
           }
          ],
          "contour": [
           {
            "colorbar": {
             "outlinewidth": 0,
             "ticks": ""
            },
            "colorscale": [
             [
              0,
              "#0d0887"
             ],
             [
              0.1111111111111111,
              "#46039f"
             ],
             [
              0.2222222222222222,
              "#7201a8"
             ],
             [
              0.3333333333333333,
              "#9c179e"
             ],
             [
              0.4444444444444444,
              "#bd3786"
             ],
             [
              0.5555555555555556,
              "#d8576b"
             ],
             [
              0.6666666666666666,
              "#ed7953"
             ],
             [
              0.7777777777777778,
              "#fb9f3a"
             ],
             [
              0.8888888888888888,
              "#fdca26"
             ],
             [
              1,
              "#f0f921"
             ]
            ],
            "type": "contour"
           }
          ],
          "contourcarpet": [
           {
            "colorbar": {
             "outlinewidth": 0,
             "ticks": ""
            },
            "type": "contourcarpet"
           }
          ],
          "heatmap": [
           {
            "colorbar": {
             "outlinewidth": 0,
             "ticks": ""
            },
            "colorscale": [
             [
              0,
              "#0d0887"
             ],
             [
              0.1111111111111111,
              "#46039f"
             ],
             [
              0.2222222222222222,
              "#7201a8"
             ],
             [
              0.3333333333333333,
              "#9c179e"
             ],
             [
              0.4444444444444444,
              "#bd3786"
             ],
             [
              0.5555555555555556,
              "#d8576b"
             ],
             [
              0.6666666666666666,
              "#ed7953"
             ],
             [
              0.7777777777777778,
              "#fb9f3a"
             ],
             [
              0.8888888888888888,
              "#fdca26"
             ],
             [
              1,
              "#f0f921"
             ]
            ],
            "type": "heatmap"
           }
          ],
          "heatmapgl": [
           {
            "colorbar": {
             "outlinewidth": 0,
             "ticks": ""
            },
            "colorscale": [
             [
              0,
              "#0d0887"
             ],
             [
              0.1111111111111111,
              "#46039f"
             ],
             [
              0.2222222222222222,
              "#7201a8"
             ],
             [
              0.3333333333333333,
              "#9c179e"
             ],
             [
              0.4444444444444444,
              "#bd3786"
             ],
             [
              0.5555555555555556,
              "#d8576b"
             ],
             [
              0.6666666666666666,
              "#ed7953"
             ],
             [
              0.7777777777777778,
              "#fb9f3a"
             ],
             [
              0.8888888888888888,
              "#fdca26"
             ],
             [
              1,
              "#f0f921"
             ]
            ],
            "type": "heatmapgl"
           }
          ],
          "histogram": [
           {
            "marker": {
             "pattern": {
              "fillmode": "overlay",
              "size": 10,
              "solidity": 0.2
             }
            },
            "type": "histogram"
           }
          ],
          "histogram2d": [
           {
            "colorbar": {
             "outlinewidth": 0,
             "ticks": ""
            },
            "colorscale": [
             [
              0,
              "#0d0887"
             ],
             [
              0.1111111111111111,
              "#46039f"
             ],
             [
              0.2222222222222222,
              "#7201a8"
             ],
             [
              0.3333333333333333,
              "#9c179e"
             ],
             [
              0.4444444444444444,
              "#bd3786"
             ],
             [
              0.5555555555555556,
              "#d8576b"
             ],
             [
              0.6666666666666666,
              "#ed7953"
             ],
             [
              0.7777777777777778,
              "#fb9f3a"
             ],
             [
              0.8888888888888888,
              "#fdca26"
             ],
             [
              1,
              "#f0f921"
             ]
            ],
            "type": "histogram2d"
           }
          ],
          "histogram2dcontour": [
           {
            "colorbar": {
             "outlinewidth": 0,
             "ticks": ""
            },
            "colorscale": [
             [
              0,
              "#0d0887"
             ],
             [
              0.1111111111111111,
              "#46039f"
             ],
             [
              0.2222222222222222,
              "#7201a8"
             ],
             [
              0.3333333333333333,
              "#9c179e"
             ],
             [
              0.4444444444444444,
              "#bd3786"
             ],
             [
              0.5555555555555556,
              "#d8576b"
             ],
             [
              0.6666666666666666,
              "#ed7953"
             ],
             [
              0.7777777777777778,
              "#fb9f3a"
             ],
             [
              0.8888888888888888,
              "#fdca26"
             ],
             [
              1,
              "#f0f921"
             ]
            ],
            "type": "histogram2dcontour"
           }
          ],
          "mesh3d": [
           {
            "colorbar": {
             "outlinewidth": 0,
             "ticks": ""
            },
            "type": "mesh3d"
           }
          ],
          "parcoords": [
           {
            "line": {
             "colorbar": {
              "outlinewidth": 0,
              "ticks": ""
             }
            },
            "type": "parcoords"
           }
          ],
          "pie": [
           {
            "automargin": true,
            "type": "pie"
           }
          ],
          "scatter": [
           {
            "fillpattern": {
             "fillmode": "overlay",
             "size": 10,
             "solidity": 0.2
            },
            "type": "scatter"
           }
          ],
          "scatter3d": [
           {
            "line": {
             "colorbar": {
              "outlinewidth": 0,
              "ticks": ""
             }
            },
            "marker": {
             "colorbar": {
              "outlinewidth": 0,
              "ticks": ""
             }
            },
            "type": "scatter3d"
           }
          ],
          "scattercarpet": [
           {
            "marker": {
             "colorbar": {
              "outlinewidth": 0,
              "ticks": ""
             }
            },
            "type": "scattercarpet"
           }
          ],
          "scattergeo": [
           {
            "marker": {
             "colorbar": {
              "outlinewidth": 0,
              "ticks": ""
             }
            },
            "type": "scattergeo"
           }
          ],
          "scattergl": [
           {
            "marker": {
             "colorbar": {
              "outlinewidth": 0,
              "ticks": ""
             }
            },
            "type": "scattergl"
           }
          ],
          "scattermapbox": [
           {
            "marker": {
             "colorbar": {
              "outlinewidth": 0,
              "ticks": ""
             }
            },
            "type": "scattermapbox"
           }
          ],
          "scatterpolar": [
           {
            "marker": {
             "colorbar": {
              "outlinewidth": 0,
              "ticks": ""
             }
            },
            "type": "scatterpolar"
           }
          ],
          "scatterpolargl": [
           {
            "marker": {
             "colorbar": {
              "outlinewidth": 0,
              "ticks": ""
             }
            },
            "type": "scatterpolargl"
           }
          ],
          "scatterternary": [
           {
            "marker": {
             "colorbar": {
              "outlinewidth": 0,
              "ticks": ""
             }
            },
            "type": "scatterternary"
           }
          ],
          "surface": [
           {
            "colorbar": {
             "outlinewidth": 0,
             "ticks": ""
            },
            "colorscale": [
             [
              0,
              "#0d0887"
             ],
             [
              0.1111111111111111,
              "#46039f"
             ],
             [
              0.2222222222222222,
              "#7201a8"
             ],
             [
              0.3333333333333333,
              "#9c179e"
             ],
             [
              0.4444444444444444,
              "#bd3786"
             ],
             [
              0.5555555555555556,
              "#d8576b"
             ],
             [
              0.6666666666666666,
              "#ed7953"
             ],
             [
              0.7777777777777778,
              "#fb9f3a"
             ],
             [
              0.8888888888888888,
              "#fdca26"
             ],
             [
              1,
              "#f0f921"
             ]
            ],
            "type": "surface"
           }
          ],
          "table": [
           {
            "cells": {
             "fill": {
              "color": "#EBF0F8"
             },
             "line": {
              "color": "white"
             }
            },
            "header": {
             "fill": {
              "color": "#C8D4E3"
             },
             "line": {
              "color": "white"
             }
            },
            "type": "table"
           }
          ]
         },
         "layout": {
          "annotationdefaults": {
           "arrowcolor": "#2a3f5f",
           "arrowhead": 0,
           "arrowwidth": 1
          },
          "autotypenumbers": "strict",
          "coloraxis": {
           "colorbar": {
            "outlinewidth": 0,
            "ticks": ""
           }
          },
          "colorscale": {
           "diverging": [
            [
             0,
             "#8e0152"
            ],
            [
             0.1,
             "#c51b7d"
            ],
            [
             0.2,
             "#de77ae"
            ],
            [
             0.3,
             "#f1b6da"
            ],
            [
             0.4,
             "#fde0ef"
            ],
            [
             0.5,
             "#f7f7f7"
            ],
            [
             0.6,
             "#e6f5d0"
            ],
            [
             0.7,
             "#b8e186"
            ],
            [
             0.8,
             "#7fbc41"
            ],
            [
             0.9,
             "#4d9221"
            ],
            [
             1,
             "#276419"
            ]
           ],
           "sequential": [
            [
             0,
             "#0d0887"
            ],
            [
             0.1111111111111111,
             "#46039f"
            ],
            [
             0.2222222222222222,
             "#7201a8"
            ],
            [
             0.3333333333333333,
             "#9c179e"
            ],
            [
             0.4444444444444444,
             "#bd3786"
            ],
            [
             0.5555555555555556,
             "#d8576b"
            ],
            [
             0.6666666666666666,
             "#ed7953"
            ],
            [
             0.7777777777777778,
             "#fb9f3a"
            ],
            [
             0.8888888888888888,
             "#fdca26"
            ],
            [
             1,
             "#f0f921"
            ]
           ],
           "sequentialminus": [
            [
             0,
             "#0d0887"
            ],
            [
             0.1111111111111111,
             "#46039f"
            ],
            [
             0.2222222222222222,
             "#7201a8"
            ],
            [
             0.3333333333333333,
             "#9c179e"
            ],
            [
             0.4444444444444444,
             "#bd3786"
            ],
            [
             0.5555555555555556,
             "#d8576b"
            ],
            [
             0.6666666666666666,
             "#ed7953"
            ],
            [
             0.7777777777777778,
             "#fb9f3a"
            ],
            [
             0.8888888888888888,
             "#fdca26"
            ],
            [
             1,
             "#f0f921"
            ]
           ]
          },
          "colorway": [
           "#636efa",
           "#EF553B",
           "#00cc96",
           "#ab63fa",
           "#FFA15A",
           "#19d3f3",
           "#FF6692",
           "#B6E880",
           "#FF97FF",
           "#FECB52"
          ],
          "font": {
           "color": "#2a3f5f"
          },
          "geo": {
           "bgcolor": "white",
           "lakecolor": "white",
           "landcolor": "#E5ECF6",
           "showlakes": true,
           "showland": true,
           "subunitcolor": "white"
          },
          "hoverlabel": {
           "align": "left"
          },
          "hovermode": "closest",
          "mapbox": {
           "style": "light"
          },
          "paper_bgcolor": "white",
          "plot_bgcolor": "#E5ECF6",
          "polar": {
           "angularaxis": {
            "gridcolor": "white",
            "linecolor": "white",
            "ticks": ""
           },
           "bgcolor": "#E5ECF6",
           "radialaxis": {
            "gridcolor": "white",
            "linecolor": "white",
            "ticks": ""
           }
          },
          "scene": {
           "xaxis": {
            "backgroundcolor": "#E5ECF6",
            "gridcolor": "white",
            "gridwidth": 2,
            "linecolor": "white",
            "showbackground": true,
            "ticks": "",
            "zerolinecolor": "white"
           },
           "yaxis": {
            "backgroundcolor": "#E5ECF6",
            "gridcolor": "white",
            "gridwidth": 2,
            "linecolor": "white",
            "showbackground": true,
            "ticks": "",
            "zerolinecolor": "white"
           },
           "zaxis": {
            "backgroundcolor": "#E5ECF6",
            "gridcolor": "white",
            "gridwidth": 2,
            "linecolor": "white",
            "showbackground": true,
            "ticks": "",
            "zerolinecolor": "white"
           }
          },
          "shapedefaults": {
           "line": {
            "color": "#2a3f5f"
           }
          },
          "ternary": {
           "aaxis": {
            "gridcolor": "white",
            "linecolor": "white",
            "ticks": ""
           },
           "baxis": {
            "gridcolor": "white",
            "linecolor": "white",
            "ticks": ""
           },
           "bgcolor": "#E5ECF6",
           "caxis": {
            "gridcolor": "white",
            "linecolor": "white",
            "ticks": ""
           }
          },
          "title": {
           "x": 0.05
          },
          "xaxis": {
           "automargin": true,
           "gridcolor": "white",
           "linecolor": "white",
           "ticks": "",
           "title": {
            "standoff": 15
           },
           "zerolinecolor": "white",
           "zerolinewidth": 2
          },
          "yaxis": {
           "automargin": true,
           "gridcolor": "white",
           "linecolor": "white",
           "ticks": "",
           "title": {
            "standoff": 15
           },
           "zerolinecolor": "white",
           "zerolinewidth": 2
          }
         }
        },
        "xaxis": {
         "anchor": "y",
         "domain": [
          0,
          1
         ],
         "showticklabels": false
        },
        "yaxis": {
         "anchor": "x",
         "domain": [
          0,
          1
         ],
         "showticklabels": false
        }
       }
      }
     },
     "metadata": {},
     "output_type": "display_data"
    }
   ],
   "source": [
    "#word cloud plot\n",
    "wordcloud = WordCloud(background_color='black', stopwords=stopwords, max_words=20, \\\n",
    "    colormap='viridis', collocations=False).generate(all_words)\n",
    "\n",
    "wordcloud_plot = px.imshow(wordcloud)\n",
    "#remove labels on axes\n",
    "wordcloud_plot.update_xaxes(showticklabels=False)\n",
    "wordcloud_plot.update_yaxes(showticklabels=False)\n",
    "wordcloud_plot"
   ]
  },
  {
   "cell_type": "code",
   "execution_count": 79,
   "metadata": {},
   "outputs": [],
   "source": [
    "#Create interactive slider\n",
    "class Controller(param.Parameterized):\n",
    "    word_slider = param.Integer(30, bounds=(5, 50), step=5)\n",
    "\n",
    "controller = Controller()\n",
    "\n",
    "@pn.depends(controller.param.word_slider)\n",
    "def update_wordcloud(num_words):\n",
    "    #word cloud plot\n",
    "    wordcloud = WordCloud(background_color='black', stopwords=stopwords, max_words=20, \\\n",
    "        colormap='viridis', collocations=False).generate(all_words)\n",
    "    wordcloud_plot = px.imshow(wordcloud)\n",
    "    #remove labels on axes\n",
    "    wordcloud_plot.update_xaxes(showticklabels=False)\n",
    "    wordcloud_plot.update_yaxes(showticklabels=False)\n",
    "    return wordcloud_plot"
   ]
  },
  {
   "attachments": {},
   "cell_type": "markdown",
   "metadata": {},
   "source": [
    "### Auto chapter summary"
   ]
  },
  {
   "cell_type": "code",
   "execution_count": 56,
   "metadata": {},
   "outputs": [
    {
     "data": {
      "text/plain": [
       "[{'summary': \"This is episode 286 of Python Bytes. We deliver Python news and headlines directly to your earbuds. If you are looking to learn Python, check out all the courses over at Talk Python Training. Want to get better with testing? Check out Brian's Pytest book, second edition.\",\n",
       "  'gist': 'Python Bytes: Episode 286',\n",
       "  'headline': 'This is episode 286 of Python Bytes',\n",
       "  'start': 410,\n",
       "  'end': 29714},\n",
       " {'summary': \"There's 279 episodes of Big Bang Theory. That's quite a milestone. You divide that by 52, that's a lot of years. We've been doing this for a while.\",\n",
       "  'gist': \"The Big Bang Theory's 286 Episodes\",\n",
       "  'headline': \"Big Bang Theory now has 286 episodes. That's quite a milestone\",\n",
       "  'start': 29762,\n",
       "  'end': 53086},\n",
       " {'summary': 'An article called The Python Gill Past, Present, and Future talks about some of the no gill options that are coming. Does talk through reference counting, talks through the advantages of having it around. Predicts speed ups in the next few years. Pretty exciting time to be part of Python.',\n",
       "  'gist': 'Python: The Gill Past, Present, and Future',\n",
       "  'headline': 'Great article on Back Blaze blog about the gill in Python',\n",
       "  'start': 53268,\n",
       "  'end': 272594},\n",
       " {'summary': \"Backblaze. com is one of the, I think, better sort of backup my computer. Wouldn't it be cool, Brian, if we could take our Python program, whether this is a CLI or some other app that we need to have for people to run?\",\n",
       "  'gist': 'BackBlaze.com and the Python Gill',\n",
       "  'headline': 'Brian: Back Blaze blog posts about Python gill',\n",
       "  'start': 272632,\n",
       "  'end': 361070},\n",
       " {'summary': \"Pyoxy is an executable program for running Python interpreters. It's built with Pi Oxidizer and basically it gives you its own standalone one. It gives you a lot more control over the interpreter and how it behaves. Could I take this and build some sort of UI framework pair with Pi scripts?\",\n",
       "  'gist': 'Pyoxy',\n",
       "  'headline': 'Pyoxy is an executable program for running Python interpreters',\n",
       "  'start': 361140,\n",
       "  'end': 692698},\n",
       " {'summary': 'Brian: An article called the Unreasonable Effectiveness of F Strings and Verbose. It talks about taking some of the complicated bits of your regular expression or duplicated bits and dropping them in with F strings. Do you like your regular expressions?',\n",
       "  'gist': 'Verbose Regular Expressions in C#',\n",
       "  'headline': \"An article about verbose regular expressions is awesome. And one of the things there's lots that I like\",\n",
       "  'start': 692784,\n",
       "  'end': 901114},\n",
       " {'summary': \"There's now a pull request tab in PyCharm for doing open source stuff that involves pull requests. Instead of trying to create a branch or fork their repo, you can check out and run it locally. It seems totally worth highlighting because dealing with PRS in that way is actually kind of janky.\",\n",
       "  'gist': 'PyCharm 2.8: Pull Requests & CI',\n",
       "  'headline': 'PyCharm now has a pull request tab for open source projects',\n",
       "  'start': 901232,\n",
       "  'end': 1156574},\n",
       " {'summary': \"PyCharm is even in the free version of PyCharm, so it's worth noting. Is it available in IntelliJ and does it work with GitLab? I don't know if it works with Gitlab.\",\n",
       "  'gist': 'PyCharm 2.8 in IntelliJ',\n",
       "  'headline': 'Is it available in IntelliJ and does it work with GitLab',\n",
       "  'start': 1156612,\n",
       "  'end': 1197258},\n",
       " {'summary': \"One of the things that changed recently that was I actually kept stumbling into is like on the get stuff is they have little overlays of who made changes when. If you're doing PRS, check this out. It's definitely useful.\",\n",
       "  'gist': 'PYTerm',\n",
       "  'headline': 'So on the PY term side, is there supposed to some UI changes recently',\n",
       "  'start': 1197344,\n",
       "  'end': 1232450},\n",
       " {'summary': \"There's an article that came out on the Piadide blog about Pandas tutors switching to Piadi. And kind of walking through some of the stuff, how they did a self contained Panda's tutor wheel. Those types of lessons for now are going to be really valuable for people trying to adopt this.\",\n",
       "  'gist': 'Pandas Tutor switching to Piadi',\n",
       "  'headline': \"There's an article about Pandas tutors switching to Piadi\",\n",
       "  'start': 1232530,\n",
       "  'end': 1321554},\n",
       " {'summary': \"Last week I did two videos on Pi Script, which is based on Pyodide as well. Second video is Python iOS Web Apps with Piscript and offline PWAs. Once you've already made it a progressive web app, it's like a few button clicks.\",\n",
       "  'gist': 'Python iOS Web Apps with Piscript and Offline PWAs',\n",
       "  'headline': 'Python web apps running locally, which is super fun',\n",
       "  'start': 1321672,\n",
       "  'end': 1457806},\n",
       " {'summary': \"This week's show features a real time joke based on your reg x one. Plus a bonus joke for you based on a topic that I didn't see coming. Thanks for coming and see you next time.\",\n",
       "  'gist': 'Reginald on Writing Code',\n",
       "  'headline': \"Brian skin: I do have a joke. I'll go with mine first, because mine is easy\",\n",
       "  'start': 1457908,\n",
       "  'end': 1581540}]"
      ]
     },
     "execution_count": 56,
     "metadata": {},
     "output_type": "execute_result"
    }
   ],
   "source": [
    "chapters = data['chapters']\n",
    "chapters"
   ]
  },
  {
   "cell_type": "code",
   "execution_count": 73,
   "metadata": {},
   "outputs": [
    {
     "data": {
      "application/vnd.jupyter.widget-view+json": {
       "model_id": "f6262844b47c40e69ca8b09de95f6419",
       "version_major": 2,
       "version_minor": 0
      },
      "text/plain": [
       "BokehModel(combine_events=True, render_bundle={'docs_json': {'3b4dffe9-39f8-4ea3-a729-c4fd9985b73e': {'defs': …"
      ]
     },
     "execution_count": 73,
     "metadata": {},
     "output_type": "execute_result"
    }
   ],
   "source": [
    "chapter_summary = pn.widgets.StaticText(value=chapters[0]['summary'], width=1000, sizing_mode='scale_height')\n",
    "chapter_summary"
   ]
  },
  {
   "cell_type": "code",
   "execution_count": 58,
   "metadata": {},
   "outputs": [
    {
     "data": {
      "application/vnd.jupyter.widget-view+json": {
       "model_id": "d330f6a2a9ee49b08bf9db459d0e7215",
       "version_major": 2,
       "version_minor": 0
      },
      "text/plain": [
       "BokehModel(combine_events=True, render_bundle={'docs_json': {'49c4c9cf-8da5-4a1d-82bc-ee00831c8d07': {'defs': …"
      ]
     },
     "execution_count": 58,
     "metadata": {},
     "output_type": "execute_result"
    }
   ],
   "source": [
    "button = pn.widgets.Button(name=str(int(chapters[0]['start']/1000)), button_type='primary')\n",
    "button"
   ]
  },
  {
   "cell_type": "code",
   "execution_count": 60,
   "metadata": {},
   "outputs": [
    {
     "data": {
      "application/vnd.jupyter.widget-view+json": {
       "model_id": "323acae8305648c081561205a62782bc",
       "version_major": 2,
       "version_minor": 0
      },
      "text/plain": [
       "BokehModel(combine_events=True, render_bundle={'docs_json': {'4bc92d9a-6ff7-4048-8d65-236c144f5ff2': {'defs': …"
      ]
     },
     "execution_count": 60,
     "metadata": {},
     "output_type": "execute_result"
    }
   ],
   "source": [
    "chapter_audio = pn.pane.Audio(audio_url, name='Audio', time=round(chapters[0]['start']/1000))\n",
    "chapter_audio"
   ]
  },
  {
   "cell_type": "code",
   "execution_count": 71,
   "metadata": {},
   "outputs": [
    {
     "data": {
      "application/vnd.jupyter.widget-view+json": {
       "model_id": "dc2be93d78a2403daa10bd0bb0288861",
       "version_major": 2,
       "version_minor": 0
      },
      "text/plain": [
       "BokehModel(combine_events=True, render_bundle={'docs_json': {'779603cd-2e25-4ac3-b493-86f440f00fa0': {'defs': …"
      ]
     },
     "execution_count": 71,
     "metadata": {},
     "output_type": "execute_result"
    }
   ],
   "source": [
    "#create chapter summary layout\n",
    "chapters_layout = pn.Column(pn.pane.Markdown('### Auto Chapter Summary'))\n",
    "\n",
    "class ButtonAudio():\n",
    "    def __init__(self, start_time):\n",
    "        self.start_time = start_time\n",
    "        self.button = pn.widgets.Button(name=str(int(self.start_time/1000)), button_type='primary', width=60)\n",
    "        self.chapter_audio = pn.pane.Audio(audio_url, name='Audio', time=round(self.start_time/1000))\n",
    "        self.button.on_click(self.move_audio_head)\n",
    "    \n",
    "    def move_audio_head(self, event):\n",
    "        self.chapter_audio.time = self.start_time/1000\n",
    "\n",
    "for chapter in chapters:\n",
    "    chapter_summary = pn.widgets.StaticText(value=chapter['summary'], width=1000, sizing_mode='scale_height')\n",
    "    button_audio = ButtonAudio(chapter['start'])\n",
    "    button = button_audio.button\n",
    "    chapter_audio = button_audio.chapter_audio\n",
    "    chapters_layout.append(pn.Row(pn.Column(button), pn.Column(chapter_audio), pn.Column(chapter_summary)))\n",
    "\n",
    "chapters_layout"
   ]
  },
  {
   "attachments": {},
   "cell_type": "markdown",
   "metadata": {},
   "source": [
    "### Auto Highlights"
   ]
  },
  {
   "cell_type": "code",
   "execution_count": 65,
   "metadata": {},
   "outputs": [
    {
     "data": {
      "text/html": [
       "<div>\n",
       "<style scoped>\n",
       "    .dataframe tbody tr th:only-of-type {\n",
       "        vertical-align: middle;\n",
       "    }\n",
       "\n",
       "    .dataframe tbody tr th {\n",
       "        vertical-align: top;\n",
       "    }\n",
       "\n",
       "    .dataframe thead th {\n",
       "        text-align: right;\n",
       "    }\n",
       "</style>\n",
       "<table border=\"1\" class=\"dataframe\">\n",
       "  <thead>\n",
       "    <tr style=\"text-align: right;\">\n",
       "      <th></th>\n",
       "      <th>count</th>\n",
       "      <th>rank</th>\n",
       "      <th>text</th>\n",
       "      <th>timestamps</th>\n",
       "    </tr>\n",
       "  </thead>\n",
       "  <tbody>\n",
       "    <tr>\n",
       "      <th>0</th>\n",
       "      <td>2</td>\n",
       "      <td>0.08</td>\n",
       "      <td>Run Python</td>\n",
       "      <td>[{'start': 420840, 'end': 421566}, {'start': 4...</td>\n",
       "    </tr>\n",
       "    <tr>\n",
       "      <th>1</th>\n",
       "      <td>1</td>\n",
       "      <td>0.08</td>\n",
       "      <td>Python web apps</td>\n",
       "      <td>[{'start': 1351126, 'end': 1352006}]</td>\n",
       "    </tr>\n",
       "    <tr>\n",
       "      <th>2</th>\n",
       "      <td>1</td>\n",
       "      <td>0.07</td>\n",
       "      <td>Python interpreters</td>\n",
       "      <td>[{'start': 410276, 'end': 411226}]</td>\n",
       "    </tr>\n",
       "    <tr>\n",
       "      <th>3</th>\n",
       "      <td>1</td>\n",
       "      <td>0.07</td>\n",
       "      <td>Python talks</td>\n",
       "      <td>[{'start': 178220, 'end': 179026}]</td>\n",
       "    </tr>\n",
       "    <tr>\n",
       "      <th>4</th>\n",
       "      <td>1</td>\n",
       "      <td>0.07</td>\n",
       "      <td>Python news</td>\n",
       "      <td>[{'start': 2698, 'end': 3166}]</td>\n",
       "    </tr>\n",
       "    <tr>\n",
       "      <th>5</th>\n",
       "      <td>1</td>\n",
       "      <td>0.07</td>\n",
       "      <td>Python Bytes</td>\n",
       "      <td>[{'start': 1492, 'end': 2106}]</td>\n",
       "    </tr>\n",
       "    <tr>\n",
       "      <th>6</th>\n",
       "      <td>1</td>\n",
       "      <td>0.07</td>\n",
       "      <td>main Python</td>\n",
       "      <td>[{'start': 192976, 'end': 194582}]</td>\n",
       "    </tr>\n",
       "    <tr>\n",
       "      <th>7</th>\n",
       "      <td>1</td>\n",
       "      <td>0.07</td>\n",
       "      <td>Python client side</td>\n",
       "      <td>[{'start': 1427516, 'end': 1428742}]</td>\n",
       "    </tr>\n",
       "    <tr>\n",
       "      <th>8</th>\n",
       "      <td>1</td>\n",
       "      <td>0.07</td>\n",
       "      <td>Talk Python Training</td>\n",
       "      <td>[{'start': 17764, 'end': 18686}]</td>\n",
       "    </tr>\n",
       "    <tr>\n",
       "      <th>9</th>\n",
       "      <td>1</td>\n",
       "      <td>0.07</td>\n",
       "      <td>Python pi Script WebAssembly</td>\n",
       "      <td>[{'start': 1349526, 'end': 1351062}]</td>\n",
       "    </tr>\n",
       "    <tr>\n",
       "      <th>10</th>\n",
       "      <td>1</td>\n",
       "      <td>0.06</td>\n",
       "      <td>regular expression stuff</td>\n",
       "      <td>[{'start': 748590, 'end': 750074}]</td>\n",
       "    </tr>\n",
       "    <tr>\n",
       "      <th>11</th>\n",
       "      <td>1</td>\n",
       "      <td>0.06</td>\n",
       "      <td>other things</td>\n",
       "      <td>[{'start': 137948, 'end': 138374}]</td>\n",
       "    </tr>\n",
       "    <tr>\n",
       "      <th>12</th>\n",
       "      <td>2</td>\n",
       "      <td>0.05</td>\n",
       "      <td>other people</td>\n",
       "      <td>[{'start': 1299984, 'end': 1300554}, {'start':...</td>\n",
       "    </tr>\n",
       "    <tr>\n",
       "      <th>13</th>\n",
       "      <td>1</td>\n",
       "      <td>0.05</td>\n",
       "      <td>PyCharm Vs code PyCharm</td>\n",
       "      <td>[{'start': 943808, 'end': 946038}]</td>\n",
       "    </tr>\n",
       "    <tr>\n",
       "      <th>14</th>\n",
       "      <td>1</td>\n",
       "      <td>0.05</td>\n",
       "      <td>UI stuff</td>\n",
       "      <td>[{'start': 680972, 'end': 681654}]</td>\n",
       "    </tr>\n",
       "  </tbody>\n",
       "</table>\n",
       "</div>"
      ],
      "text/plain": [
       "    count  rank                          text  \\\n",
       "0       2  0.08                    Run Python   \n",
       "1       1  0.08               Python web apps   \n",
       "2       1  0.07           Python interpreters   \n",
       "3       1  0.07                  Python talks   \n",
       "4       1  0.07                   Python news   \n",
       "5       1  0.07                  Python Bytes   \n",
       "6       1  0.07                   main Python   \n",
       "7       1  0.07            Python client side   \n",
       "8       1  0.07          Talk Python Training   \n",
       "9       1  0.07  Python pi Script WebAssembly   \n",
       "10      1  0.06      regular expression stuff   \n",
       "11      1  0.06                  other things   \n",
       "12      2  0.05                  other people   \n",
       "13      1  0.05       PyCharm Vs code PyCharm   \n",
       "14      1  0.05                      UI stuff   \n",
       "\n",
       "                                           timestamps  \n",
       "0   [{'start': 420840, 'end': 421566}, {'start': 4...  \n",
       "1                [{'start': 1351126, 'end': 1352006}]  \n",
       "2                  [{'start': 410276, 'end': 411226}]  \n",
       "3                  [{'start': 178220, 'end': 179026}]  \n",
       "4                      [{'start': 2698, 'end': 3166}]  \n",
       "5                      [{'start': 1492, 'end': 2106}]  \n",
       "6                  [{'start': 192976, 'end': 194582}]  \n",
       "7                [{'start': 1427516, 'end': 1428742}]  \n",
       "8                    [{'start': 17764, 'end': 18686}]  \n",
       "9                [{'start': 1349526, 'end': 1351062}]  \n",
       "10                 [{'start': 748590, 'end': 750074}]  \n",
       "11                 [{'start': 137948, 'end': 138374}]  \n",
       "12  [{'start': 1299984, 'end': 1300554}, {'start':...  \n",
       "13                 [{'start': 943808, 'end': 946038}]  \n",
       "14                 [{'start': 680972, 'end': 681654}]  "
      ]
     },
     "execution_count": 65,
     "metadata": {},
     "output_type": "execute_result"
    }
   ],
   "source": [
    "highlights = data['auto_highlights_result']['results']\n",
    "highlights_df = pd.DataFrame(highlights)\n",
    "highlights_df"
   ]
  },
  {
   "cell_type": "code",
   "execution_count": 66,
   "metadata": {},
   "outputs": [
    {
     "data": {
      "text/html": [
       "<div>\n",
       "<style scoped>\n",
       "    .dataframe tbody tr th:only-of-type {\n",
       "        vertical-align: middle;\n",
       "    }\n",
       "\n",
       "    .dataframe tbody tr th {\n",
       "        vertical-align: top;\n",
       "    }\n",
       "\n",
       "    .dataframe thead th {\n",
       "        text-align: right;\n",
       "    }\n",
       "</style>\n",
       "<table border=\"1\" class=\"dataframe\">\n",
       "  <thead>\n",
       "    <tr style=\"text-align: right;\">\n",
       "      <th></th>\n",
       "      <th>count</th>\n",
       "      <th>rank</th>\n",
       "      <th>text</th>\n",
       "    </tr>\n",
       "  </thead>\n",
       "  <tbody>\n",
       "    <tr>\n",
       "      <th>0</th>\n",
       "      <td>1</td>\n",
       "      <td>0.05</td>\n",
       "      <td>PyCharm Vs code PyCharm, \\nUI stuff</td>\n",
       "    </tr>\n",
       "    <tr>\n",
       "      <th>1</th>\n",
       "      <td>1</td>\n",
       "      <td>0.06</td>\n",
       "      <td>regular expression stuff, \\nother things</td>\n",
       "    </tr>\n",
       "    <tr>\n",
       "      <th>2</th>\n",
       "      <td>1</td>\n",
       "      <td>0.07</td>\n",
       "      <td>Python interpreters, \\nPython talks, \\nPython ...</td>\n",
       "    </tr>\n",
       "    <tr>\n",
       "      <th>3</th>\n",
       "      <td>1</td>\n",
       "      <td>0.08</td>\n",
       "      <td>Python web apps</td>\n",
       "    </tr>\n",
       "    <tr>\n",
       "      <th>4</th>\n",
       "      <td>2</td>\n",
       "      <td>0.05</td>\n",
       "      <td>other people</td>\n",
       "    </tr>\n",
       "    <tr>\n",
       "      <th>5</th>\n",
       "      <td>2</td>\n",
       "      <td>0.08</td>\n",
       "      <td>Run Python</td>\n",
       "    </tr>\n",
       "  </tbody>\n",
       "</table>\n",
       "</div>"
      ],
      "text/plain": [
       "   count  rank                                               text\n",
       "0      1  0.05                PyCharm Vs code PyCharm, \\nUI stuff\n",
       "1      1  0.06           regular expression stuff, \\nother things\n",
       "2      1  0.07  Python interpreters, \\nPython talks, \\nPython ...\n",
       "3      1  0.08                                    Python web apps\n",
       "4      2  0.05                                       other people\n",
       "5      2  0.08                                         Run Python"
      ]
     },
     "execution_count": 66,
     "metadata": {},
     "output_type": "execute_result"
    }
   ],
   "source": [
    "highlights_df_grouped = highlights_df.groupby(['count', 'rank'])['text'].apply(', \\n'.join).reset_index()\n",
    "highlights_df_grouped"
   ]
  },
  {
   "cell_type": "code",
   "execution_count": 80,
   "metadata": {},
   "outputs": [
    {
     "data": {
      "application/vnd.jupyter.widget-view+json": {
       "model_id": "f4fe02f2807244039bfa4a7888787079",
       "version_major": 2,
       "version_minor": 0
      },
      "text/plain": [
       "BokehModel(combine_events=True, render_bundle={'docs_json': {'8f35c96a-5018-40a0-bc03-0ac37e26a311': {'defs': …"
      ]
     },
     "execution_count": 80,
     "metadata": {},
     "output_type": "execute_result"
    }
   ],
   "source": [
    "#scatter plot\n",
    "highlights_plot = highlights_df_grouped.hvplot.points(x='count', y='rank', padding=0.4, hover_cols='all', width=1300, height=600, size=50, title='Automatic Highlights') *\\\n",
    "highlights_df_grouped.hvplot.labels(x='count', y='rank', text='text', text_baseline='top', hover=False).opts(fontscale=1.5)\n",
    "pn.Row(highlights_plot)"
   ]
  },
  {
   "attachments": {},
   "cell_type": "markdown",
   "metadata": {},
   "source": [
    "### Dashboard"
   ]
  },
  {
   "cell_type": "code",
   "execution_count": 81,
   "metadata": {},
   "outputs": [
    {
     "name": "stdout",
     "output_type": "stream",
     "text": [
      "Launching server at http://localhost:61042\n"
     ]
    },
    {
     "data": {
      "text/plain": [
       "<panel.io.server.Server at 0x1fd3a4b7d30>"
      ]
     },
     "execution_count": 81,
     "metadata": {},
     "output_type": "execute_result"
    }
   ],
   "source": [
    "#dashboard template\n",
    "template = pn.template.FastListTemplate(\n",
    "    title = 'Audio Content Exploration Dash', \n",
    "    sidebar = [pn.pane.Markdown('# Explore Audio Content'),\n",
    "    pn.pane.Markdown('#### This app analyzes the content of your audio file, including sentiment, wordcloud, automatic content summary, and highlights'),\n",
    "    pn.pane.Markdown('#### This example is based on the audio content of Episode 286: \"Unreasonable f-strings\", from the podcast PythonBytes by Michael Kennedy and Brian Okken'),\n",
    "    pn.pane.Markdown('### [Link to podcast episode!](https://pythonbytes.fm/episodes/show/286/unreasonable-f-strings)'),\n",
    "    pn.pane.Markdown('### Download transcript:'),\n",
    "    transcript_download\n",
    "    ],\n",
    "main = [pn.Row(pn.Column(sentiment_tabs), pn.Column(pn.Row(controller.param.word_slider),\n",
    "    pn.Row(update_wordcloud))\n",
    "    ), \n",
    "    pn.Row(chapters_layout),\n",
    "    pn.Row(highlights_plot)],\n",
    "accent_base_color = '#88d8b0',\n",
    "header_background = '#c0b9dd',\n",
    ")\n",
    "\n",
    "template.show()"
   ]
  },
  {
   "cell_type": "code",
   "execution_count": null,
   "metadata": {},
   "outputs": [],
   "source": []
  }
 ],
 "metadata": {
  "kernelspec": {
   "display_name": "projects_venv",
   "language": "python",
   "name": "python3"
  },
  "language_info": {
   "codemirror_mode": {
    "name": "ipython",
    "version": 3
   },
   "file_extension": ".py",
   "mimetype": "text/x-python",
   "name": "python",
   "nbconvert_exporter": "python",
   "pygments_lexer": "ipython3",
   "version": "3.10.10"
  },
  "orig_nbformat": 4,
  "vscode": {
   "interpreter": {
    "hash": "1f61eea5002cdca057f21ec61b26bc2c30eb70e47e19b46c898a1dcd7217f0d7"
   }
  }
 },
 "nbformat": 4,
 "nbformat_minor": 2
}
